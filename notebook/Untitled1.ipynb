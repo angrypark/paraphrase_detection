{
 "cells": [
  {
   "cell_type": "code",
   "execution_count": 1,
   "metadata": {},
   "outputs": [],
   "source": [
    "import pickle"
   ]
  },
  {
   "cell_type": "markdown",
   "metadata": {},
   "source": [
    "- xgb : 0.72\n",
    "- cb : 0.71\n",
    "- deep : 0.65"
   ]
  },
  {
   "cell_type": "code",
   "execution_count": 3,
   "metadata": {},
   "outputs": [],
   "source": [
    "reply_to_idx_dict = dict()\n",
    "with open(\"../data/test_replies.txt\", \"r\") as f:\n",
    "    for line in f:\n",
    "        idx, reply = line.strip().split(\"\\t\")\n",
    "        reply_to_idx_dict[reply] = idx"
   ]
  },
  {
   "cell_type": "code",
   "execution_count": 9,
   "metadata": {},
   "outputs": [],
   "source": [
    "with open(\"../data/test_replies.txt\", \"r\") as f:\n",
    "    test_replies = [line.strip().split(\"\\t\")[1] for line in f]"
   ]
  },
  {
   "cell_type": "code",
   "execution_count": 4,
   "metadata": {},
   "outputs": [
    {
     "data": {
      "text/plain": [
       "{'개빡치게 하네 진짜': '199',\n",
       " '결혼 했어?': '198',\n",
       " '고양이 너무 좋아': '197',\n",
       " '괜찮아': '196',\n",
       " '교회가기 귀찮아': '195',\n",
       " '그 사람도 나를 좋아할까?': '194',\n",
       " '그런식으로 말 하지 마': '193',\n",
       " '그만 좀 해': '192',\n",
       " '길가다가 넘어졌어': '191',\n",
       " '김상무 진짜 또 지랄이야': '190',\n",
       " '나 결혼은 할 수 있을까?': '189',\n",
       " '나 내일 잘 할 수 있겠지?': '188',\n",
       " '나 대신 걔 좀 혼내 줘': '187',\n",
       " '나 대신 일해줘': '186',\n",
       " '나 대신 회사 가주면 안돼?': '185',\n",
       " '나 더위 먹은 거 같아': '184',\n",
       " '나 바다 보고 싶어': '183',\n",
       " '나 배고파': '182',\n",
       " '나 살찐거 같아?': '181',\n",
       " '나 아파': '180',\n",
       " '나 엄청 인기 많아': '179',\n",
       " '나 없는동안 뭐하고 있었어?': '178',\n",
       " '나 오늘 꿈꿨어': '177',\n",
       " '나 오늘 누가 예쁘다고 해줬다~~~': '176',\n",
       " '나 오늘 번호 따였다~~~': '175',\n",
       " '나 위로 좀 해줘': '174',\n",
       " '나 이번 달에 왜 이렇게 많이 썼지': '173',\n",
       " '나 이제 점심 먹을라고': '172',\n",
       " '나 이제 퇴근한다': '171',\n",
       " '나 잘거야': '170',\n",
       " '나 정도면 잘 생겼지': '169',\n",
       " '나 졸려': '168',\n",
       " '나 진짜 화났어': '167',\n",
       " '나는 결혼 안하고싶어': '166',\n",
       " '나는 왜 이 모양일까?': '165',\n",
       " '나는 잘하는게 없는거같아': '164',\n",
       " '나랑 결혼해 줄래?': '163',\n",
       " '나랑 놀아줘': '162',\n",
       " '나랑 얘기 좀 해': '161',\n",
       " '나를 좋아하는 사람은 아무도 없어': '160',\n",
       " '난 너만 믿는다': '159',\n",
       " '난 오늘도 야근이야': '158',\n",
       " '남자친구 있어?': '157',\n",
       " '내가 또 술먹으면 개다': '156',\n",
       " '내가 해도 저것보단 잘 치겠다': '155',\n",
       " '내일은 뭐해?': '154',\n",
       " '내일은 일찍 일어나야 해': '153',\n",
       " '내일은 파스타 해먹어야지': '152',\n",
       " '너 귀여워?': '151',\n",
       " '너 기계지?': '150',\n",
       " '너 나빠': '149',\n",
       " '너 남자야?': '148',\n",
       " '너 너무 스윗해': '147',\n",
       " '너 똑똑하다': '146',\n",
       " '너 미워': '145',\n",
       " '너 보고싶어': '144',\n",
       " '너 얄미워': '143',\n",
       " '너 어떻게 나한테 이럴 수 있어?': '142',\n",
       " '너 어떻게 생겼어?': '141',\n",
       " '너 예뻐?': '140',\n",
       " '너 예쁘다': '139',\n",
       " '너 잘생겼어?': '138',\n",
       " '너 재미있다': '137',\n",
       " '너 정체가 뭐야?': '136',\n",
       " '너 지루해': '135',\n",
       " '너 진짜 너무하다': '134',\n",
       " '너 짜증나': '133',\n",
       " '너 착하다': '132',\n",
       " '너는 늘 그런식이야': '131',\n",
       " '너무 귀찮아': '130',\n",
       " '너무 멍청해': '129',\n",
       " '너무 바쁘다': '128',\n",
       " '너무 부럽다': '127',\n",
       " '너무 서운해': '126',\n",
       " '너무 속상해': '125',\n",
       " '너무 슬프다': '124',\n",
       " '너무 외로워': '123',\n",
       " '너무 정신없다': '122',\n",
       " '너무 힘들어': '121',\n",
       " '너한테 실망이야': '120',\n",
       " '넌 봇이야?': '119',\n",
       " '넌 원리가 뭐야?': '118',\n",
       " '넌 인공지능이야?': '117',\n",
       " '넌 지금 모해?': '116',\n",
       " '농담이야': '115',\n",
       " '누가 만들었어?': '114',\n",
       " '누구는 내일 해운대 간다는데': '113',\n",
       " '누구랑 같이 있어?': '112',\n",
       " '누나 있어?': '111',\n",
       " '눈온다': '110',\n",
       " '니가 좋아': '109',\n",
       " '다 잘 될거야': '108',\n",
       " '다시 연애할 수 있을까?': '107',\n",
       " '대답해': '106',\n",
       " '대충 살고싶다': '105',\n",
       " '대충해 대충': '104',\n",
       " '대표님이 회식 꼭 참석하래ㅠㅠ': '103',\n",
       " '동생 있어?': '102',\n",
       " '많이 힘들어? ㅠㅠ': '101',\n",
       " '말하기 싫어': '100',\n",
       " '말해줘': '99',\n",
       " '매일이 금요일이었으면': '98',\n",
       " '맨날 먹고 자고 먹고 자고': '97',\n",
       " '머리 아파': '96',\n",
       " '몇살이야?': '95',\n",
       " '몸무게 몇키로야?': '94',\n",
       " '뭘로 만들어졌어?': '93',\n",
       " '밖에 엄청 시끄럽다': '92',\n",
       " '밥 먹었니?': '91',\n",
       " '버스가 왜 이렇게 안오징': '90',\n",
       " '벌써 퇴근하고 싶다': '89',\n",
       " '별명이 뭐야?': '88',\n",
       " '비 엄청온다': '87',\n",
       " '뽀뽀하고 싶다': '86',\n",
       " '사랑해': '85',\n",
       " '상관 없어': '84',\n",
       " '생일이 언제야?': '83',\n",
       " '성별이 뭐야?': '82',\n",
       " '소주 먹고싶다': '81',\n",
       " '숙취가 너무 심해': '80',\n",
       " '심심하다': '79',\n",
       " '아 나 다이어트 해야하는데': '78',\n",
       " '아 회사 개싫어': '77',\n",
       " '아니 돈이 왜 이렇게 없지': '76',\n",
       " '아빠가 누구야?': '75',\n",
       " '애인 있어?': '74',\n",
       " '야식시킬까?': '73',\n",
       " '어디 살아?': '72',\n",
       " '어디 출신이야?': '71',\n",
       " '어디야?': '70',\n",
       " '어떻게 만들어졌어?': '69',\n",
       " '어제 그냥 잠들었어ㅠㅠ': '68',\n",
       " '어제 몇 시에 잤어?': '67',\n",
       " '언니 있어?': '66',\n",
       " '엄마가 누구야?': '65',\n",
       " '엄마한테 성적표 들켰다': '64',\n",
       " '에구 힘들어서 어떡해!': '63',\n",
       " '여자친구 있어?': '62',\n",
       " '연애 하고싶다': '61',\n",
       " '오늘 날씨 좋다': '60',\n",
       " '오늘 날씨 진짜 미쳤다': '59',\n",
       " '오늘 내 생일이야': '58',\n",
       " '오늘 뭐 먹었어?': '57',\n",
       " '오늘 점심때 먹은 고기가 정말 맛있었어': '56',\n",
       " '오늘 진짜 기분 좋아': '55',\n",
       " '오늘 진짜 덥다': '54',\n",
       " '오늘 출근하다가 더워서 죽을뻔했어': '53',\n",
       " '오늘 컨디션 별로야': '52',\n",
       " '오늘 학식 진짜 별로다': '51',\n",
       " '오늘 회식 메뉴는 소고기래': '50',\n",
       " '오늘도 아침 못 먹고 나왔어': '49',\n",
       " '오늘도 우리 팀 또 졌어': '48',\n",
       " '오늘따라 술이 땡기네': '47',\n",
       " '오늘부터 다이어트다': '46',\n",
       " '오늘은 컨디션 어때?': '45',\n",
       " '오빠 있어?': '44',\n",
       " '오예 월급 받았다!': '43',\n",
       " '와 일이 안 끝나': '42',\n",
       " '완전 뻗었어': '41',\n",
       " '운동을 좀 해야겠지?': '40',\n",
       " '운동하러 간다': '39',\n",
       " '월급이 스쳐지나갔어': '38',\n",
       " '이름이 뭐야?': '37',\n",
       " '이번 주말에 어디 놀러갈까?': '36',\n",
       " '일어났어?': '35',\n",
       " '일하기 너무 싫다': '34',\n",
       " '자꾸 귀찮게 하네': '33',\n",
       " '잔소리 좀 하지 마': '32',\n",
       " '잘 놀고 있었어?': '31',\n",
       " '잘 잤어?': '30',\n",
       " '잠깐만 기다려봐': '29',\n",
       " '점심 먹었어?': '28',\n",
       " '종교같은거 있어?': '27',\n",
       " '좋아하는 노래 있어?': '26',\n",
       " '좋아하는 술 있어?': '25',\n",
       " '좋아하는 음식 있어?': '24',\n",
       " '주말인데 비도오고 나른하네요': '23',\n",
       " '죽고싶다 진짜': '22',\n",
       " '지각할거같아': '21',\n",
       " '지하철에 사람 개많아': '20',\n",
       " '진짜 미칠거같다': '19',\n",
       " '집에 가고 싶어': '18',\n",
       " '집에서 나가기 싫어': '17',\n",
       " '차 엄청 막히네': '16',\n",
       " '출근했어?': '15',\n",
       " '취미가 뭐야?': '14',\n",
       " '퇴근했어?': '13',\n",
       " '평소에 뭐해?': '12',\n",
       " '피곤하다': '11',\n",
       " '하느님을 믿어?': '10',\n",
       " '행복해': '9',\n",
       " '헐 ㅠㅠ 너무 감동이다': '7',\n",
       " '헐 개멋있다': '8',\n",
       " '형 있어?': '6',\n",
       " '혹시 누가 자꾸 괴롭혀?': '5',\n",
       " '회사 가기 싫어': '4',\n",
       " '회사까지 순간이동할 수 있었으면 좋겠어': '3',\n",
       " '회식 정말 가기 싫다': '2',\n",
       " '휴가 쓸까?': '1',\n",
       " '흑흑 일 많은데 졸리다': '0'}"
      ]
     },
     "execution_count": 4,
     "metadata": {},
     "output_type": "execute_result"
    }
   ],
   "source": [
    "reply_to_idx_dict"
   ]
  },
  {
   "cell_type": "code",
   "execution_count": 5,
   "metadata": {},
   "outputs": [],
   "source": [
    "xgb_result = pickle.load(open(\"../dump/xgb_result.pkl\", \"rb\"))\n",
    "cb_result = pickle.load(open(\"../dump/cb_result.pkl\", \"rb\"))\n",
    "deep_result = pickle.load(open(\"../dump/deep_result.pkl\", \"rb\"))"
   ]
  },
  {
   "cell_type": "code",
   "execution_count": 7,
   "metadata": {},
   "outputs": [],
   "source": [
    "with open(\"../data/test_queries.txt\", \"r\") as f:\n",
    "    test_queries = [line.strip().split(\"\\t\")[1] for line in f]"
   ]
  },
  {
   "cell_type": "code",
   "execution_count": 10,
   "metadata": {},
   "outputs": [],
   "source": [
    "from tqdm import tqdm"
   ]
  },
  {
   "cell_type": "code",
   "execution_count": 12,
   "metadata": {},
   "outputs": [],
   "source": [
    "predictions = list()"
   ]
  },
  {
   "cell_type": "code",
   "execution_count": 13,
   "metadata": {},
   "outputs": [
    {
     "name": "stderr",
     "output_type": "stream",
     "text": [
      "100%|██████████| 600/600 [00:00<00:00, 1584.07it/s]\n"
     ]
    }
   ],
   "source": [
    "for query in tqdm(test_queries):\n",
    "    xgb_dict = {r: score for r, score in xgb_result[query]}\n",
    "    cb_dict = {r: score for r, score in cb_result[query]}\n",
    "    deep_dict = {r: score for r, score in deep_result[query]}\n",
    "    total_dict = dict()\n",
    "    for reply in test_replies:\n",
    "        total_dict[reply] = xgb_dict[reply]*0.72 + cb_dict[reply]*0.71 + deep_dict[reply]*0.65\n",
    "    predictions.append([query, sorted(total_dict.items(), key=lambda x: x[1], reverse=True)[0][0]])"
   ]
  },
  {
   "cell_type": "code",
   "execution_count": 15,
   "metadata": {},
   "outputs": [],
   "source": [
    "submission = list()\n",
    "for p in predictions:\n",
    "    reply = p[1]\n",
    "    submission.append(reply_to_idx_dict[reply])"
   ]
  },
  {
   "cell_type": "code",
   "execution_count": 17,
   "metadata": {},
   "outputs": [],
   "source": [
    "import pandas as pd"
   ]
  },
  {
   "cell_type": "code",
   "execution_count": 18,
   "metadata": {},
   "outputs": [],
   "source": [
    "s = pd.read_csv(\"../submission/sample_submission.csv\")"
   ]
  },
  {
   "cell_type": "code",
   "execution_count": 20,
   "metadata": {},
   "outputs": [],
   "source": [
    "s[\"id_script\"] = pd.Series(submission)"
   ]
  },
  {
   "cell_type": "code",
   "execution_count": 22,
   "metadata": {},
   "outputs": [],
   "source": [
    "s.to_csv(\"../submission/submission_1.csv\", index=False)"
   ]
  },
  {
   "cell_type": "code",
   "execution_count": 24,
   "metadata": {},
   "outputs": [
    {
     "name": "stderr",
     "output_type": "stream",
     "text": [
      "100%|██████████| 600/600 [00:00<00:00, 13754.52it/s]\n"
     ]
    }
   ],
   "source": [
    "xgb_predictions = list()\n",
    "for query in tqdm(test_queries):\n",
    "    xgb_predictions.append([query, sorted(xgb_result[query], key=lambda x: x[1], reverse=True)[0][0]])"
   ]
  },
  {
   "cell_type": "code",
   "execution_count": 26,
   "metadata": {},
   "outputs": [],
   "source": [
    "s = pd.read_csv(\"../submission/sample_submission.csv\")\n",
    "s[\"id_script\"] = pd.Series([reply_to_idx_dict[r] for r in [p[1] for p in xgb_predictions]])"
   ]
  },
  {
   "cell_type": "code",
   "execution_count": 28,
   "metadata": {},
   "outputs": [],
   "source": [
    "s.to_csv(\"../submission/submission_xgb.csv\", index=False)"
   ]
  },
  {
   "cell_type": "code",
   "execution_count": null,
   "metadata": {},
   "outputs": [],
   "source": []
  }
 ],
 "metadata": {
  "kernelspec": {
   "display_name": "angryenv",
   "language": "python",
   "name": "angryenv"
  },
  "language_info": {
   "codemirror_mode": {
    "name": "ipython",
    "version": 3
   },
   "file_extension": ".py",
   "mimetype": "text/x-python",
   "name": "python",
   "nbconvert_exporter": "python",
   "pygments_lexer": "ipython3",
   "version": "3.5.2"
  }
 },
 "nbformat": 4,
 "nbformat_minor": 2
}
