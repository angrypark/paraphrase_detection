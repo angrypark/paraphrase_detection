{
 "cells": [
  {
   "cell_type": "code",
   "execution_count": 1,
   "metadata": {},
   "outputs": [],
   "source": [
    "import pickle"
   ]
  },
  {
   "cell_type": "markdown",
   "metadata": {},
   "source": [
    "- xgb : 0.72\n",
    "- cb : 0.71\n",
    "- deep : 0.65"
   ]
  },
  {
   "cell_type": "code",
   "execution_count": 2,
   "metadata": {},
   "outputs": [],
   "source": [
    "reply_to_idx_dict = dict()\n",
    "with open(\"../data/test_replies.txt\", \"r\") as f:\n",
    "    for line in f:\n",
    "        idx, reply = line.strip().split(\"\\t\")\n",
    "        reply_to_idx_dict[reply] = idx"
   ]
  },
  {
   "cell_type": "code",
   "execution_count": 3,
   "metadata": {},
   "outputs": [],
   "source": [
    "with open(\"../data/test_replies.txt\", \"r\") as f:\n",
    "    test_replies = [line.strip().split(\"\\t\")[1] for line in f]"
   ]
  },
  {
   "cell_type": "code",
   "execution_count": 4,
   "metadata": {},
   "outputs": [],
   "source": [
    "xgb_result = pickle.load(open(\"../dump/xgb_result.pkl\", \"rb\"))\n",
    "cb_result = pickle.load(open(\"../dump/cb_result.pkl\", \"rb\"))\n",
    "deep_result = pickle.load(open(\"../dump/deep_result.pkl\", \"rb\"))"
   ]
  },
  {
   "cell_type": "code",
   "execution_count": 5,
   "metadata": {},
   "outputs": [],
   "source": [
    "with open(\"../data/test_queries.txt\", \"r\") as f:\n",
    "    test_queries = [line.strip().split(\"\\t\")[1] for line in f]"
   ]
  },
  {
   "cell_type": "code",
   "execution_count": 6,
   "metadata": {},
   "outputs": [],
   "source": [
    "from tqdm import tqdm"
   ]
  },
  {
   "cell_type": "code",
   "execution_count": 7,
   "metadata": {},
   "outputs": [],
   "source": [
    "predictions = list()"
   ]
  },
  {
   "cell_type": "code",
   "execution_count": 8,
   "metadata": {},
   "outputs": [
    {
     "name": "stderr",
     "output_type": "stream",
     "text": [
      "100%|██████████| 600/600 [00:00<00:00, 1613.49it/s]\n"
     ]
    }
   ],
   "source": [
    "for query in tqdm(test_queries):\n",
    "    xgb_dict = {r: score for r, score in xgb_result[query]}\n",
    "    cb_dict = {r: score for r, score in cb_result[query]}\n",
    "    deep_dict = {r: score for r, score in deep_result[query]}\n",
    "    total_dict = dict()\n",
    "    for reply in test_replies:\n",
    "        total_dict[reply] = xgb_dict[reply]*0.72 + cb_dict[reply]*0.71 + deep_dict[reply]*0.65\n",
    "    predictions.append([query, sorted(total_dict.items(), key=lambda x: x[1], reverse=True)[0][0]])"
   ]
  },
  {
   "cell_type": "code",
   "execution_count": 9,
   "metadata": {},
   "outputs": [],
   "source": [
    "submission = list()\n",
    "for p in predictions:\n",
    "    reply = p[1]\n",
    "    submission.append(reply)"
   ]
  },
  {
   "cell_type": "code",
   "execution_count": 11,
   "metadata": {},
   "outputs": [],
   "source": [
    "import pandas as pd"
   ]
  },
  {
   "cell_type": "code",
   "execution_count": 12,
   "metadata": {},
   "outputs": [],
   "source": [
    "submission_xgb = pd.DataFrame([(query, reply) for query, reply in zip(test_queries, submission)])"
   ]
  },
  {
   "cell_type": "code",
   "execution_count": 17,
   "metadata": {},
   "outputs": [],
   "source": [
    "import pandas as pd"
   ]
  },
  {
   "cell_type": "code",
   "execution_count": 18,
   "metadata": {},
   "outputs": [],
   "source": [
    "s = pd.read_csv(\"../submission/sample_submission.csv\")"
   ]
  },
  {
   "cell_type": "code",
   "execution_count": 20,
   "metadata": {},
   "outputs": [],
   "source": [
    "s[\"id_script\"] = pd.Series(submission)"
   ]
  },
  {
   "cell_type": "code",
   "execution_count": 22,
   "metadata": {},
   "outputs": [],
   "source": [
    "s.to_csv(\"../submission/submission_1.csv\", index=False)"
   ]
  },
  {
   "cell_type": "code",
   "execution_count": 24,
   "metadata": {},
   "outputs": [
    {
     "name": "stderr",
     "output_type": "stream",
     "text": [
      "100%|██████████| 600/600 [00:00<00:00, 13754.52it/s]\n"
     ]
    }
   ],
   "source": [
    "xgb_predictions = list()\n",
    "for query in tqdm(test_queries):\n",
    "    xgb_predictions.append([query, sorted(xgb_result[query], key=lambda x: x[1], reverse=True)[0][0]])"
   ]
  },
  {
   "cell_type": "code",
   "execution_count": 26,
   "metadata": {},
   "outputs": [],
   "source": [
    "s = pd.read_csv(\"../submission/sample_submission.csv\")\n",
    "s[\"id_script\"] = pd.Series([reply_to_idx_dict[r] for r in [p[1] for p in xgb_predictions]])"
   ]
  },
  {
   "cell_type": "code",
   "execution_count": 28,
   "metadata": {},
   "outputs": [],
   "source": [
    "s.to_csv(\"../submission/submission_xgb.csv\", index=False)"
   ]
  },
  {
   "cell_type": "code",
   "execution_count": null,
   "metadata": {},
   "outputs": [],
   "source": []
  }
 ],
 "metadata": {
  "kernelspec": {
   "display_name": "angryenv",
   "language": "python",
   "name": "angryenv"
  },
  "language_info": {
   "codemirror_mode": {
    "name": "ipython",
    "version": 3
   },
   "file_extension": ".py",
   "mimetype": "text/x-python",
   "name": "python",
   "nbconvert_exporter": "python",
   "pygments_lexer": "ipython3",
   "version": "3.5.2"
  }
 },
 "nbformat": 4,
 "nbformat_minor": 2
}
