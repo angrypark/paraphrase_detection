{
 "cells": [
  {
   "cell_type": "code",
   "execution_count": 1,
   "metadata": {},
   "outputs": [],
   "source": [
    "from tqdm import tqdm"
   ]
  },
  {
   "cell_type": "code",
   "execution_count": 2,
   "metadata": {},
   "outputs": [
    {
     "name": "stderr",
     "output_type": "stream",
     "text": [
      "100%|██████████| 10/10 [1:47:36<00:00, 645.60s/it]\n"
     ]
    }
   ],
   "source": [
    "BASE_DIR = \"/media/scatter/scatterdisk/reply_matching_model/normalized/sol.raw_{}.txt\"\n",
    "TARGET_DIR = \"/media/scatter/scatterdisk/reply_matching_model/sorted_normalized/sol.raw_{}.txt\"\n",
    "for i in tqdm(range(3, 13)):\n",
    "    with open(BASE_DIR.format(i), \"r\") as f1, open(TARGET_DIR.format(i), \"w\") as f2:\n",
    "        _, lines, _ = zip(*[line.split(\"\\t\") for line in f1])\n",
    "        lines = sorted(lines, key=lambda x: len(x))\n",
    "        for line in lines:\n",
    "            f2.write(line + \"\\n\")"
   ]
  },
  {
   "cell_type": "code",
   "execution_count": null,
   "metadata": {},
   "outputs": [],
   "source": []
  }
 ],
 "metadata": {
  "kernelspec": {
   "display_name": "angryenv",
   "language": "python",
   "name": "angryenv"
  },
  "language_info": {
   "codemirror_mode": {
    "name": "ipython",
    "version": 3
   },
   "file_extension": ".py",
   "mimetype": "text/x-python",
   "name": "python",
   "nbconvert_exporter": "python",
   "pygments_lexer": "ipython3",
   "version": "3.5.2"
  }
 },
 "nbformat": 4,
 "nbformat_minor": 2
}
