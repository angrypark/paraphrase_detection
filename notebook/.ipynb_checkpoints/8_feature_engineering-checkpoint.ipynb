{
 "cells": [
  {
   "cell_type": "markdown",
   "metadata": {},
   "source": [
    "# 8. Feature Engineering"
   ]
  },
  {
   "cell_type": "code",
   "execution_count": 1,
   "metadata": {},
   "outputs": [],
   "source": [
    "import sys\n",
    "sys.path.append(\"/home/angrypark/korean-text-matching-tf/\")\n",
    "\n",
    "from utils.utils import JamoProcessor\n",
    "from text.tokenizers import SentencePieceTokenizer\n",
    "\n",
    "class Config:\n",
    "    def __init__(self):\n",
    "        self.sent_piece_model = \"/media/scatter/scatterdisk/tokenizer/sent_piece.100K.model\"\n",
    "config = Config()\n",
    "\n",
    "processor = JamoProcessor()\n",
    "tokenizer = SentencePieceTokenizer(config)"
   ]
  },
  {
   "cell_type": "markdown",
   "metadata": {},
   "source": [
    "### 1. Word Move Distance"
   ]
  },
  {
   "cell_type": "code",
   "execution_count": 2,
   "metadata": {},
   "outputs": [],
   "source": [
    "from gensim.models import FastText"
   ]
  },
  {
   "cell_type": "code",
   "execution_count": 3,
   "metadata": {},
   "outputs": [],
   "source": [
    "ft = FastText.load(\"/media/scatter/scatterdisk/pretrained_embedding/fasttext.sent_piece_100K.256D\")"
   ]
  },
  {
   "cell_type": "code",
   "execution_count": 4,
   "metadata": {},
   "outputs": [],
   "source": [
    "from xgboost import XGBClassifier\n",
    "import pandas as pd"
   ]
  },
  {
   "cell_type": "code",
   "execution_count": 5,
   "metadata": {},
   "outputs": [],
   "source": [
    "with open(\"../data/small/train.txt\", \"r\") as f:\n",
    "    # read raw text lines\n",
    "    train_A, train_B, train_labels = zip(*[line.strip().split(\"\\t\") for line in f])\n",
    "    train_labels = [1 if l==\"1\" else 0 for l in train_labels] \n",
    "    \n",
    "with open(\"../data/small/val.txt\", \"r\") as f:\n",
    "    # read raw text lines\n",
    "    val_A, val_B, val_labels = zip(*[line.strip().split(\"\\t\") for line in f])\n",
    "    val_labels = [1 if l==\"1\" else 0 for l in val_labels] \n",
    "    \n",
    "with open(\"../data/small/test.txt\", \"r\") as f:\n",
    "    # read raw text lines\n",
    "    test_A, test_B, test_labels = zip(*[line.strip().split(\"\\t\") for line in f])\n",
    "    test_labels = [1 if l==\"1\" else 0 for l in test_labels] "
   ]
  },
  {
   "cell_type": "code",
   "execution_count": 6,
   "metadata": {},
   "outputs": [],
   "source": [
    "train_set = pd.read_csv(\"../data/small/train_set.csv\")\n",
    "val_set = pd.read_csv(\"../data/small/val_set.csv\")\n",
    "test_set = pd.read_csv(\"../data/small/test_set.csv\")"
   ]
  },
  {
   "cell_type": "markdown",
   "metadata": {},
   "source": [
    "다시 기본 성적 한번만 더 확인"
   ]
  },
  {
   "cell_type": "code",
   "execution_count": 7,
   "metadata": {},
   "outputs": [
    {
     "name": "stdout",
     "output_type": "stream",
     "text": [
      "Train : 0.85105631\n",
      "Val   : 0.74173533\n",
      "Test  : 0.72487729\n",
      "CPU times: user 12.6 s, sys: 8 ms, total: 12.6 s\n",
      "Wall time: 12.6 s\n"
     ]
    },
    {
     "name": "stderr",
     "output_type": "stream",
     "text": [
      "/home/angrypark/angryenv/lib/python3.5/site-packages/sklearn/preprocessing/label.py:151: DeprecationWarning: The truth value of an empty array is ambiguous. Returning False, but in future this will result in an error. Use `array.size > 0` to check that an array is not empty.\n",
      "  if diff:\n",
      "/home/angrypark/angryenv/lib/python3.5/site-packages/sklearn/preprocessing/label.py:151: DeprecationWarning: The truth value of an empty array is ambiguous. Returning False, but in future this will result in an error. Use `array.size > 0` to check that an array is not empty.\n",
      "  if diff:\n",
      "/home/angrypark/angryenv/lib/python3.5/site-packages/sklearn/preprocessing/label.py:151: DeprecationWarning: The truth value of an empty array is ambiguous. Returning False, but in future this will result in an error. Use `array.size > 0` to check that an array is not empty.\n",
      "  if diff:\n"
     ]
    }
   ],
   "source": [
    "%%time\n",
    "xgb = XGBClassifier()\n",
    "xgb.fit(pd.concat([train_set, val_set]), train_labels + val_labels)\n",
    "print(\"Train : {:.8f}\".format(xgb.score(train_set, train_labels)))\n",
    "print(\"Val   : {:.8f}\".format(xgb.score(val_set, val_labels)))\n",
    "print(\"Test  : {:.8f}\".format(xgb.score(test_set, test_labels)))"
   ]
  },
  {
   "cell_type": "markdown",
   "metadata": {},
   "source": [
    "데이터 넣고 다시 성적내보자"
   ]
  },
  {
   "cell_type": "code",
   "execution_count": 10,
   "metadata": {},
   "outputs": [
    {
     "name": "stderr",
     "output_type": "stream",
     "text": [
      "/home/angrypark/angryenv/lib/python3.5/site-packages/ipykernel_launcher.py:3: DeprecationWarning: Call to deprecated `wmdistance` (Method will be removed in 4.0.0, use self.wv.wmdistance() instead).\n",
      "  This is separate from the ipykernel package so we can avoid doing imports until\n"
     ]
    }
   ],
   "source": [
    "train_wm_distance = [ft.wmdistance([processor.word_to_jamo(word) for word in tokenizer.tokenize(a)], \n",
    "                                   [processor.word_to_jamo(word) for word in tokenizer.tokenize(b)]) \n",
    "                     for a, b in zip(train_A, train_B)]"
   ]
  },
  {
   "cell_type": "code",
   "execution_count": 12,
   "metadata": {},
   "outputs": [
    {
     "name": "stderr",
     "output_type": "stream",
     "text": [
      "/home/angrypark/angryenv/lib/python3.5/site-packages/ipykernel_launcher.py:3: DeprecationWarning: Call to deprecated `wmdistance` (Method will be removed in 4.0.0, use self.wv.wmdistance() instead).\n",
      "  This is separate from the ipykernel package so we can avoid doing imports until\n",
      "/home/angrypark/angryenv/lib/python3.5/site-packages/ipykernel_launcher.py:6: DeprecationWarning: Call to deprecated `wmdistance` (Method will be removed in 4.0.0, use self.wv.wmdistance() instead).\n",
      "  \n"
     ]
    }
   ],
   "source": [
    "val_wm_distance = [ft.wmdistance([processor.word_to_jamo(word) for word in tokenizer.tokenize(a)], \n",
    "                                 [processor.word_to_jamo(word) for word in tokenizer.tokenize(b)]) \n",
    "                   for a, b in zip(val_A, val_B)]\n",
    "test_wm_distance = [ft.wmdistance([processor.word_to_jamo(word) for word in tokenizer.tokenize(a)], \n",
    "                                  [processor.word_to_jamo(word) for word in tokenizer.tokenize(b)]) \n",
    "                   for a, b in zip(test_A, test_B)]"
   ]
  },
  {
   "cell_type": "code",
   "execution_count": 13,
   "metadata": {},
   "outputs": [],
   "source": [
    "train_set[\"wm_distance\"] = train_wm_distance\n",
    "val_set[\"wm_distance\"] = val_wm_distance\n",
    "test_set[\"wm_distance\"] = test_wm_distance"
   ]
  },
  {
   "cell_type": "code",
   "execution_count": 10,
   "metadata": {},
   "outputs": [
    {
     "name": "stdout",
     "output_type": "stream",
     "text": [
      "Train : 0.85113227\n",
      "Val   : 0.74270166\n",
      "Test  : 0.72571687\n",
      "CPU times: user 14.2 s, sys: 52 ms, total: 14.3 s\n",
      "Wall time: 14.3 s\n"
     ]
    },
    {
     "name": "stderr",
     "output_type": "stream",
     "text": [
      "/home/angrypark/angryenv/lib/python3.5/site-packages/sklearn/preprocessing/label.py:151: DeprecationWarning: The truth value of an empty array is ambiguous. Returning False, but in future this will result in an error. Use `array.size > 0` to check that an array is not empty.\n",
      "  if diff:\n",
      "/home/angrypark/angryenv/lib/python3.5/site-packages/sklearn/preprocessing/label.py:151: DeprecationWarning: The truth value of an empty array is ambiguous. Returning False, but in future this will result in an error. Use `array.size > 0` to check that an array is not empty.\n",
      "  if diff:\n",
      "/home/angrypark/angryenv/lib/python3.5/site-packages/sklearn/preprocessing/label.py:151: DeprecationWarning: The truth value of an empty array is ambiguous. Returning False, but in future this will result in an error. Use `array.size > 0` to check that an array is not empty.\n",
      "  if diff:\n"
     ]
    }
   ],
   "source": [
    "%%time\n",
    "xgb = XGBClassifier()\n",
    "xgb.fit(pd.concat([train_set, val_set]), train_labels + val_labels)\n",
    "print(\"Train : {:.8f}\".format(xgb.score(train_set, train_labels)))\n",
    "print(\"Val   : {:.8f}\".format(xgb.score(val_set, val_labels)))\n",
    "print(\"Test  : {:.8f}\".format(xgb.score(test_set, test_labels)))"
   ]
  },
  {
   "cell_type": "markdown",
   "metadata": {},
   "source": [
    "개이득! 바로 넣고 저장"
   ]
  },
  {
   "cell_type": "raw",
   "metadata": {},
   "source": [
    "import pickle\n",
    "pickle.dump(xgb, open(\"../models/1.pkl\", \"wb\"))"
   ]
  },
  {
   "cell_type": "raw",
   "metadata": {},
   "source": [
    "train_set.to_csv(\"../data/small/train_set.csv\", index=False)\n",
    "val_set.to_csv(\"../data/small/val_set.csv\", index=False)\n",
    "test_set.to_csv(\"../data/small/test_set.csv\", index=False)"
   ]
  },
  {
   "cell_type": "markdown",
   "metadata": {},
   "source": [
    "submit_set.csv 에도 바로 저장"
   ]
  },
  {
   "cell_type": "code",
   "execution_count": 20,
   "metadata": {},
   "outputs": [],
   "source": [
    "with open(\"../data/submit_lines.txt\", \"r\") as f:\n",
    "    submit_A, submit_B = zip(*[line.strip().split(\"\\t\") for line in f])"
   ]
  },
  {
   "cell_type": "code",
   "execution_count": 21,
   "metadata": {},
   "outputs": [],
   "source": [
    "submit_set = pd.read_csv(\"../data/submit_set.csv\")"
   ]
  },
  {
   "cell_type": "code",
   "execution_count": 23,
   "metadata": {},
   "outputs": [
    {
     "name": "stderr",
     "output_type": "stream",
     "text": [
      "/home/angrypark/angryenv/lib/python3.5/site-packages/ipykernel_launcher.py:3: DeprecationWarning: Call to deprecated `wmdistance` (Method will be removed in 4.0.0, use self.wv.wmdistance() instead).\n",
      "  This is separate from the ipykernel package so we can avoid doing imports until\n"
     ]
    }
   ],
   "source": [
    "submit_wm_distance = [ft.wmdistance([processor.word_to_jamo(word) for word in tokenizer.tokenize(a)], \n",
    "                                    [processor.word_to_jamo(word) for word in tokenizer.tokenize(b)]) \n",
    "                      for a, b in zip(submit_A, submit_B)]"
   ]
  },
  {
   "cell_type": "code",
   "execution_count": 24,
   "metadata": {},
   "outputs": [],
   "source": [
    "submit_set[\"wm_distance\"] = submit_wm_distance"
   ]
  },
  {
   "cell_type": "raw",
   "metadata": {},
   "source": [
    "submit_set.to_csv(\"../data/submit_set.csv\", index=False)"
   ]
  },
  {
   "cell_type": "code",
   "execution_count": 7,
   "metadata": {},
   "outputs": [],
   "source": [
    "def model_to_submission(model, name):\n",
    "    def load_data():\n",
    "        base_dir = \"/home/angrypark/paraphrase_detection/data/small/\"\n",
    "        train_set = pd.read_csv(base_dir + \"train_set.csv\")\n",
    "        val_set = pd.read_csv(base_dir + \"val_set.csv\")\n",
    "        test_set = pd.read_csv(base_dir + \"test_set.csv\")\n",
    "        with open(base_dir + \"train.txt\", \"r\") as f:\n",
    "            _, _, train_labels = zip(*[line.strip().split(\"\\t\") for line in f if line])\n",
    "            train_labels = [1 if l==\"1\" else 0 for l in train_labels]\n",
    "        with open(base_dir + \"val.txt\", \"r\") as f:\n",
    "            _, _, val_labels = zip(*[line.strip().split(\"\\t\") for line in f if line]) \n",
    "            val_labels = [1 if l==\"1\" else 0 for l in val_labels]\n",
    "        with open(base_dir + \"test.txt\", \"r\") as f:\n",
    "            _, _, test_labels = zip(*[line.strip().split(\"\\t\") for line in f if line])\n",
    "            test_labels = [1 if l==\"1\" else 0 for l in test_labels]\n",
    "            \n",
    "        return train_set, val_set, test_set, train_labels, val_labels, test_labels\n",
    "    \n",
    "    with open(\"/home/angrypark/paraphrase_detection/data/test_queries.txt\", \"r\") as f:\n",
    "        _, queries = zip(*[line.strip().split(\"\\t\") for line in f])\n",
    "        \n",
    "    with open(\"/home/angrypark/paraphrase_detection/data/test_replies.txt\", \"r\") as f:\n",
    "        reply_to_idx_dict = dict()\n",
    "        replies = list()\n",
    "        for line in f:\n",
    "            splits = line.strip().split(\"\\t\")\n",
    "            reply_to_idx_dict[splits[1]] = splits[0]\n",
    "            replies.append(splits[1])\n",
    "    \n",
    "    train_set, val_set, test_set, train_labels, val_labels, test_labels = load_data()\n",
    "    print(\"Train accuracy : {:.8f}\".format(model.score(train_set, train_labels)))\n",
    "    print(\"Val   accuracy : {:.8f}\".format(model.score(val_set, val_labels)))\n",
    "    print(\"Test  accuracy : {:.8f}\".format(model.score(test_set, test_labels)))\n",
    "    \n",
    "    length = len(replies)\n",
    "    submit_set = pd.read_csv(\"../data/submit_set.csv\")\n",
    "    features = list(submit_set.columns).copy()\n",
    "    features.remove(\"sentence_A\")\n",
    "    features.remove(\"sentence_B\")\n",
    "    \n",
    "    predictions = list()\n",
    "    for i, query in enumerate(queries):\n",
    "        data = submit_set.iloc[i*length:(i+1)*length]\n",
    "        probs = [p[1] for p in model.predict_proba(data[features]).tolist()]\n",
    "        scores = [(reply, score) for reply, score in zip(replies, probs)]\n",
    "        predict = sorted(scores, key=lambda x: x[1], reverse=True)[0][0]\n",
    "        predictions.append(reply_to_idx_dict[predict])\n",
    "    submission = pd.read_csv(\"../submission/sample_submission.csv\")\n",
    "    submission[\"id_script\"] = pd.Series(predictions)\n",
    "    submission.to_csv(\"../submission/{}.csv\".format(name), index=False)\n",
    "    return submission"
   ]
  },
  {
   "cell_type": "code",
   "execution_count": 33,
   "metadata": {},
   "outputs": [
    {
     "name": "stderr",
     "output_type": "stream",
     "text": [
      "/home/angrypark/angryenv/lib/python3.5/site-packages/sklearn/preprocessing/label.py:151: DeprecationWarning: The truth value of an empty array is ambiguous. Returning False, but in future this will result in an error. Use `array.size > 0` to check that an array is not empty.\n",
      "  if diff:\n",
      "/home/angrypark/angryenv/lib/python3.5/site-packages/sklearn/preprocessing/label.py:151: DeprecationWarning: The truth value of an empty array is ambiguous. Returning False, but in future this will result in an error. Use `array.size > 0` to check that an array is not empty.\n",
      "  if diff:\n",
      "/home/angrypark/angryenv/lib/python3.5/site-packages/sklearn/preprocessing/label.py:151: DeprecationWarning: The truth value of an empty array is ambiguous. Returning False, but in future this will result in an error. Use `array.size > 0` to check that an array is not empty.\n",
      "  if diff:\n"
     ]
    },
    {
     "name": "stdout",
     "output_type": "stream",
     "text": [
      "Train accuracy : 0.85113227\n",
      "Val   accuracy : 0.74270166\n",
      "Test  accuracy : 0.72571687\n"
     ]
    }
   ],
   "source": [
    "_ = model_to_submission(xgb, name=\"1\")"
   ]
  },
  {
   "cell_type": "markdown",
   "metadata": {},
   "source": [
    "---\n",
    "### 2. 짜칠것 같은 feature들\n",
    "- 짧은 문장의 길이\n",
    "- 두 문장의 길이 차이\n",
    "- token overlap\n",
    "- a, b가 물음표가 있다 없다"
   ]
  },
  {
   "cell_type": "code",
   "execution_count": 14,
   "metadata": {},
   "outputs": [],
   "source": [
    "import seaborn as sns"
   ]
  },
  {
   "cell_type": "code",
   "execution_count": 18,
   "metadata": {},
   "outputs": [],
   "source": [
    "def get_length_features(A, B):\n",
    "    a_length = list()\n",
    "    b_length = list()\n",
    "    min_length = list()\n",
    "    lengths_diff = list()\n",
    "    a_num_tokens = list()\n",
    "    b_num_tokens = list()\n",
    "    token_overlap = list()\n",
    "    is_a_question = list()\n",
    "    is_b_question = list()\n",
    "    \n",
    "    for a, b in zip(A, B):\n",
    "        a_length.append(len(a))\n",
    "        b_length.append(len(b))\n",
    "        min_length.append(min([len(a), len(b)]))\n",
    "        lengths_diff.append(abs(len(a)-len(b)))\n",
    "        a_num_tokens.append(len(tokenizer.tokenize(a)))\n",
    "        b_num_tokens.append(len(tokenizer.tokenize(b)))\n",
    "        token_overlap.append(len(set(tokenizer.tokenize(a)) & set(tokenizer.tokenize(b))))\n",
    "        is_a_question.append(int(\"?\" in a))\n",
    "        is_b_question.append(int(\"?\" in b))\n",
    "        \n",
    "    return {\"a_length\": a_length, \n",
    "            \"b_length\": b_length, \n",
    "            \"min_length\": min_length, \n",
    "            \"lengths_diff\": lengths_diff, \n",
    "            \"a_num_tokens\": a_num_tokens, \n",
    "            \"b_num_tokens\": b_num_tokens, \n",
    "            \"token_overlap\": token_overlap, \n",
    "            \"is_a_question\": is_a_question, \n",
    "            \"is_b_question\": is_b_question}"
   ]
  },
  {
   "cell_type": "code",
   "execution_count": 23,
   "metadata": {},
   "outputs": [],
   "source": [
    "train_length_features = get_length_features(train_A, train_B)"
   ]
  },
  {
   "cell_type": "code",
   "execution_count": 24,
   "metadata": {},
   "outputs": [],
   "source": [
    "train_length_features = pd.DataFrame(train_length_features)\n",
    "# train_length_features[\"label\"] = train_labels"
   ]
  },
  {
   "cell_type": "code",
   "execution_count": 25,
   "metadata": {},
   "outputs": [],
   "source": [
    "val_length_features = pd.DataFrame(get_length_features(val_A, val_B))\n",
    "test_length_features = pd.DataFrame(get_length_features(test_A, test_B))"
   ]
  },
  {
   "cell_type": "code",
   "execution_count": 26,
   "metadata": {},
   "outputs": [],
   "source": [
    "train_set2 = pd.concat([train_set, train_length_features], axis=1)\n",
    "val_set2 = pd.concat([val_set, val_length_features], axis=1)\n",
    "test_set2 = pd.concat([test_set, test_length_features], axis=1)"
   ]
  },
  {
   "cell_type": "markdown",
   "metadata": {},
   "source": [
    "- Train : 0.85113227\n",
    "- Val   : 0.74270166\n",
    "- Test  : 0.72571687"
   ]
  },
  {
   "cell_type": "code",
   "execution_count": 38,
   "metadata": {},
   "outputs": [
    {
     "data": {
      "text/plain": [
       "'a_length, a_num_tokens, b_length, b_num_tokens, is_a_question, is_b_question, lengths_diff, min_length, token_overlap'"
      ]
     },
     "execution_count": 38,
     "metadata": {},
     "output_type": "execute_result"
    }
   ],
   "source": [
    "\", \".join(list(train_length_features.keys()))"
   ]
  },
  {
   "cell_type": "code",
   "execution_count": 47,
   "metadata": {},
   "outputs": [
    {
     "name": "stdout",
     "output_type": "stream",
     "text": [
      "Train : 0.85704048\n",
      "Val   : 0.75272098\n",
      "Test  : 0.73572720\n",
      "CPU times: user 19.8 s, sys: 84 ms, total: 19.9 s\n",
      "Wall time: 19.9 s\n"
     ]
    },
    {
     "name": "stderr",
     "output_type": "stream",
     "text": [
      "/home/angrypark/angryenv/lib/python3.5/site-packages/sklearn/preprocessing/label.py:151: DeprecationWarning: The truth value of an empty array is ambiguous. Returning False, but in future this will result in an error. Use `array.size > 0` to check that an array is not empty.\n",
      "  if diff:\n",
      "/home/angrypark/angryenv/lib/python3.5/site-packages/sklearn/preprocessing/label.py:151: DeprecationWarning: The truth value of an empty array is ambiguous. Returning False, but in future this will result in an error. Use `array.size > 0` to check that an array is not empty.\n",
      "  if diff:\n",
      "/home/angrypark/angryenv/lib/python3.5/site-packages/sklearn/preprocessing/label.py:151: DeprecationWarning: The truth value of an empty array is ambiguous. Returning False, but in future this will result in an error. Use `array.size > 0` to check that an array is not empty.\n",
      "  if diff:\n"
     ]
    }
   ],
   "source": [
    "%%time\n",
    "xgb = XGBClassifier()\n",
    "xgb.fit(pd.concat([train_set2, val_set2]), train_labels + val_labels)\n",
    "print(\"Train : {:.8f}\".format(xgb.score(train_set2, train_labels)))\n",
    "print(\"Val   : {:.8f}\".format(xgb.score(val_set2, val_labels)))\n",
    "print(\"Test  : {:.8f}\".format(xgb.score(test_set2, test_labels)))"
   ]
  },
  {
   "cell_type": "code",
   "execution_count": 48,
   "metadata": {},
   "outputs": [],
   "source": [
    "pickle.dump(xgb, open(\"../models/2.pkl\", \"wb\"))"
   ]
  },
  {
   "cell_type": "code",
   "execution_count": 109,
   "metadata": {},
   "outputs": [],
   "source": [
    "def model_to_submission2(model, name):\n",
    "    def load_data():\n",
    "        base_dir = \"/home/angrypark/paraphrase_detection/data/small/\"\n",
    "        train_set = pd.read_csv(base_dir + \"train_set.csv\")\n",
    "        val_set = pd.read_csv(base_dir + \"val_set.csv\")\n",
    "        test_set = pd.read_csv(base_dir + \"test_set.csv\")\n",
    "        with open(base_dir + \"train.txt\", \"r\") as f:\n",
    "            _, _, train_labels = zip(*[line.strip().split(\"\\t\") for line in f if line])\n",
    "            train_labels = [1 if l==\"1\" else 0 for l in train_labels]\n",
    "        with open(base_dir + \"val.txt\", \"r\") as f:\n",
    "            _, _, val_labels = zip(*[line.strip().split(\"\\t\") for line in f if line]) \n",
    "            val_labels = [1 if l==\"1\" else 0 for l in val_labels]\n",
    "        with open(base_dir + \"test.txt\", \"r\") as f:\n",
    "            _, _, test_labels = zip(*[line.strip().split(\"\\t\") for line in f if line])\n",
    "            test_labels = [1 if l==\"1\" else 0 for l in test_labels]\n",
    "            \n",
    "        return train_set, val_set, test_set, train_labels, val_labels, test_labels\n",
    "    \n",
    "    with open(\"/home/angrypark/paraphrase_detection/data/test_queries.txt\", \"r\") as f:\n",
    "        _, queries = zip(*[line.strip().split(\"\\t\") for line in f])\n",
    "        \n",
    "    with open(\"/home/angrypark/paraphrase_detection/data/test_replies.txt\", \"r\") as f:\n",
    "        reply_to_idx_dict = dict()\n",
    "        replies = list()\n",
    "        for line in f:\n",
    "            splits = line.strip().split(\"\\t\")\n",
    "            reply_to_idx_dict[splits[1]] = splits[0]\n",
    "            replies.append(splits[1])\n",
    "    \n",
    "    # train_set, val_set, test_set, train_labels, val_labels, test_labels = load_data()\n",
    "    print(\"Train accuracy : {:.8f}\".format(model.score(train_set2, train_labels)))\n",
    "    print(\"Val   accuracy : {:.8f}\".format(model.score(val_set2, val_labels)))\n",
    "    print(\"Test  accuracy : {:.8f}\".format(model.score(test_set2, test_labels)))\n",
    "    \n",
    "    length = len(replies)\n",
    "    submit_set = pd.read_csv(\"../data/submit_set.csv\")\n",
    "    \n",
    "    with open(\"../data/submit_lines.txt\", \"r\") as f:\n",
    "        submit_A, submit_B = zip(*[line.strip().split(\"\\t\") for line in f])\n",
    "    submit_length_features = pd.DataFrame(get_length_features(submit_A, submit_B))\n",
    "    submit_set = pd.concat([submit_set, submit_length_features], axis=1)\n",
    "    \n",
    "    # submit_set = submit_set[selected_features]\n",
    "    \n",
    "    features = list(submit_set.columns).copy()\n",
    "    features.remove(\"sentence_A\")\n",
    "    features.remove(\"sentence_B\")\n",
    "    \n",
    "    predictions = list()\n",
    "    for i, query in enumerate(queries):\n",
    "        data = submit_set.iloc[i*length:(i+1)*length]\n",
    "        probs = [p[1] for p in model.predict_proba(data[features]).tolist()]\n",
    "        scores = [(reply, score) for reply, score in zip(replies, probs)]\n",
    "        predict = sorted(scores, key=lambda x: x[1], reverse=True)[0][0]\n",
    "        predictions.append(reply_to_idx_dict[predict])\n",
    "    submission = pd.read_csv(\"../submission/sample_submission.csv\")\n",
    "    submission[\"id_script\"] = pd.Series(predictions)\n",
    "    submission.to_csv(\"../submission/{}.csv\".format(name), index=False)\n",
    "    return submission"
   ]
  },
  {
   "cell_type": "code",
   "execution_count": 55,
   "metadata": {},
   "outputs": [
    {
     "data": {
      "text/plain": [
       "['edit_distance',\n",
       " 'tfidf_char_sim',\n",
       " 'ab_probs',\n",
       " 'tfidf_word_sim',\n",
       " 'substring_ratio',\n",
       " 'a_length',\n",
       " 'lengths_diff',\n",
       " 'ba_probs',\n",
       " 'b_num_tokens',\n",
       " 'wm_distance',\n",
       " 'semantic_sim',\n",
       " 'min_length',\n",
       " 'b_length',\n",
       " 'a_num_tokens']"
      ]
     },
     "execution_count": 55,
     "metadata": {},
     "output_type": "execute_result"
    }
   ],
   "source": [
    "selected_features"
   ]
  },
  {
   "cell_type": "code",
   "execution_count": 54,
   "metadata": {},
   "outputs": [
    {
     "name": "stderr",
     "output_type": "stream",
     "text": [
      "/home/angrypark/angryenv/lib/python3.5/site-packages/sklearn/preprocessing/label.py:151: DeprecationWarning: The truth value of an empty array is ambiguous. Returning False, but in future this will result in an error. Use `array.size > 0` to check that an array is not empty.\n",
      "  if diff:\n",
      "/home/angrypark/angryenv/lib/python3.5/site-packages/sklearn/preprocessing/label.py:151: DeprecationWarning: The truth value of an empty array is ambiguous. Returning False, but in future this will result in an error. Use `array.size > 0` to check that an array is not empty.\n",
      "  if diff:\n",
      "/home/angrypark/angryenv/lib/python3.5/site-packages/sklearn/preprocessing/label.py:151: DeprecationWarning: The truth value of an empty array is ambiguous. Returning False, but in future this will result in an error. Use `array.size > 0` to check that an array is not empty.\n",
      "  if diff:\n"
     ]
    },
    {
     "name": "stdout",
     "output_type": "stream",
     "text": [
      "Train accuracy : 0.85652198\n",
      "Val   accuracy : 0.75160208\n",
      "Test  accuracy : 0.73611470\n"
     ]
    },
    {
     "data": {
      "text/html": [
       "<div>\n",
       "<style scoped>\n",
       "    .dataframe tbody tr th:only-of-type {\n",
       "        vertical-align: middle;\n",
       "    }\n",
       "\n",
       "    .dataframe tbody tr th {\n",
       "        vertical-align: top;\n",
       "    }\n",
       "\n",
       "    .dataframe thead th {\n",
       "        text-align: right;\n",
       "    }\n",
       "</style>\n",
       "<table border=\"1\" class=\"dataframe\">\n",
       "  <thead>\n",
       "    <tr style=\"text-align: right;\">\n",
       "      <th></th>\n",
       "      <th>id_query</th>\n",
       "      <th>id_script</th>\n",
       "    </tr>\n",
       "  </thead>\n",
       "  <tbody>\n",
       "    <tr>\n",
       "      <th>0</th>\n",
       "      <td>0</td>\n",
       "      <td>85</td>\n",
       "    </tr>\n",
       "    <tr>\n",
       "      <th>1</th>\n",
       "      <td>1</td>\n",
       "      <td>166</td>\n",
       "    </tr>\n",
       "    <tr>\n",
       "      <th>2</th>\n",
       "      <td>2</td>\n",
       "      <td>187</td>\n",
       "    </tr>\n",
       "    <tr>\n",
       "      <th>3</th>\n",
       "      <td>3</td>\n",
       "      <td>81</td>\n",
       "    </tr>\n",
       "    <tr>\n",
       "      <th>4</th>\n",
       "      <td>4</td>\n",
       "      <td>62</td>\n",
       "    </tr>\n",
       "    <tr>\n",
       "      <th>5</th>\n",
       "      <td>5</td>\n",
       "      <td>118</td>\n",
       "    </tr>\n",
       "    <tr>\n",
       "      <th>6</th>\n",
       "      <td>6</td>\n",
       "      <td>47</td>\n",
       "    </tr>\n",
       "    <tr>\n",
       "      <th>7</th>\n",
       "      <td>7</td>\n",
       "      <td>16</td>\n",
       "    </tr>\n",
       "    <tr>\n",
       "      <th>8</th>\n",
       "      <td>8</td>\n",
       "      <td>82</td>\n",
       "    </tr>\n",
       "    <tr>\n",
       "      <th>9</th>\n",
       "      <td>9</td>\n",
       "      <td>19</td>\n",
       "    </tr>\n",
       "    <tr>\n",
       "      <th>10</th>\n",
       "      <td>10</td>\n",
       "      <td>114</td>\n",
       "    </tr>\n",
       "    <tr>\n",
       "      <th>11</th>\n",
       "      <td>11</td>\n",
       "      <td>111</td>\n",
       "    </tr>\n",
       "    <tr>\n",
       "      <th>12</th>\n",
       "      <td>12</td>\n",
       "      <td>121</td>\n",
       "    </tr>\n",
       "    <tr>\n",
       "      <th>13</th>\n",
       "      <td>13</td>\n",
       "      <td>136</td>\n",
       "    </tr>\n",
       "    <tr>\n",
       "      <th>14</th>\n",
       "      <td>14</td>\n",
       "      <td>18</td>\n",
       "    </tr>\n",
       "    <tr>\n",
       "      <th>15</th>\n",
       "      <td>15</td>\n",
       "      <td>21</td>\n",
       "    </tr>\n",
       "    <tr>\n",
       "      <th>16</th>\n",
       "      <td>16</td>\n",
       "      <td>59</td>\n",
       "    </tr>\n",
       "    <tr>\n",
       "      <th>17</th>\n",
       "      <td>17</td>\n",
       "      <td>32</td>\n",
       "    </tr>\n",
       "    <tr>\n",
       "      <th>18</th>\n",
       "      <td>18</td>\n",
       "      <td>176</td>\n",
       "    </tr>\n",
       "    <tr>\n",
       "      <th>19</th>\n",
       "      <td>19</td>\n",
       "      <td>153</td>\n",
       "    </tr>\n",
       "    <tr>\n",
       "      <th>20</th>\n",
       "      <td>20</td>\n",
       "      <td>5</td>\n",
       "    </tr>\n",
       "    <tr>\n",
       "      <th>21</th>\n",
       "      <td>21</td>\n",
       "      <td>152</td>\n",
       "    </tr>\n",
       "    <tr>\n",
       "      <th>22</th>\n",
       "      <td>22</td>\n",
       "      <td>98</td>\n",
       "    </tr>\n",
       "    <tr>\n",
       "      <th>23</th>\n",
       "      <td>23</td>\n",
       "      <td>136</td>\n",
       "    </tr>\n",
       "    <tr>\n",
       "      <th>24</th>\n",
       "      <td>24</td>\n",
       "      <td>69</td>\n",
       "    </tr>\n",
       "    <tr>\n",
       "      <th>25</th>\n",
       "      <td>25</td>\n",
       "      <td>189</td>\n",
       "    </tr>\n",
       "    <tr>\n",
       "      <th>26</th>\n",
       "      <td>26</td>\n",
       "      <td>172</td>\n",
       "    </tr>\n",
       "    <tr>\n",
       "      <th>27</th>\n",
       "      <td>27</td>\n",
       "      <td>177</td>\n",
       "    </tr>\n",
       "    <tr>\n",
       "      <th>28</th>\n",
       "      <td>28</td>\n",
       "      <td>56</td>\n",
       "    </tr>\n",
       "    <tr>\n",
       "      <th>29</th>\n",
       "      <td>29</td>\n",
       "      <td>87</td>\n",
       "    </tr>\n",
       "    <tr>\n",
       "      <th>...</th>\n",
       "      <td>...</td>\n",
       "      <td>...</td>\n",
       "    </tr>\n",
       "    <tr>\n",
       "      <th>570</th>\n",
       "      <td>570</td>\n",
       "      <td>130</td>\n",
       "    </tr>\n",
       "    <tr>\n",
       "      <th>571</th>\n",
       "      <td>571</td>\n",
       "      <td>192</td>\n",
       "    </tr>\n",
       "    <tr>\n",
       "      <th>572</th>\n",
       "      <td>572</td>\n",
       "      <td>162</td>\n",
       "    </tr>\n",
       "    <tr>\n",
       "      <th>573</th>\n",
       "      <td>573</td>\n",
       "      <td>4</td>\n",
       "    </tr>\n",
       "    <tr>\n",
       "      <th>574</th>\n",
       "      <td>574</td>\n",
       "      <td>49</td>\n",
       "    </tr>\n",
       "    <tr>\n",
       "      <th>575</th>\n",
       "      <td>575</td>\n",
       "      <td>2</td>\n",
       "    </tr>\n",
       "    <tr>\n",
       "      <th>576</th>\n",
       "      <td>576</td>\n",
       "      <td>28</td>\n",
       "    </tr>\n",
       "    <tr>\n",
       "      <th>577</th>\n",
       "      <td>577</td>\n",
       "      <td>79</td>\n",
       "    </tr>\n",
       "    <tr>\n",
       "      <th>578</th>\n",
       "      <td>578</td>\n",
       "      <td>108</td>\n",
       "    </tr>\n",
       "    <tr>\n",
       "      <th>579</th>\n",
       "      <td>579</td>\n",
       "      <td>186</td>\n",
       "    </tr>\n",
       "    <tr>\n",
       "      <th>580</th>\n",
       "      <td>580</td>\n",
       "      <td>46</td>\n",
       "    </tr>\n",
       "    <tr>\n",
       "      <th>581</th>\n",
       "      <td>581</td>\n",
       "      <td>100</td>\n",
       "    </tr>\n",
       "    <tr>\n",
       "      <th>582</th>\n",
       "      <td>582</td>\n",
       "      <td>143</td>\n",
       "    </tr>\n",
       "    <tr>\n",
       "      <th>583</th>\n",
       "      <td>583</td>\n",
       "      <td>35</td>\n",
       "    </tr>\n",
       "    <tr>\n",
       "      <th>584</th>\n",
       "      <td>584</td>\n",
       "      <td>135</td>\n",
       "    </tr>\n",
       "    <tr>\n",
       "      <th>585</th>\n",
       "      <td>585</td>\n",
       "      <td>121</td>\n",
       "    </tr>\n",
       "    <tr>\n",
       "      <th>586</th>\n",
       "      <td>586</td>\n",
       "      <td>111</td>\n",
       "    </tr>\n",
       "    <tr>\n",
       "      <th>587</th>\n",
       "      <td>587</td>\n",
       "      <td>69</td>\n",
       "    </tr>\n",
       "    <tr>\n",
       "      <th>588</th>\n",
       "      <td>588</td>\n",
       "      <td>132</td>\n",
       "    </tr>\n",
       "    <tr>\n",
       "      <th>589</th>\n",
       "      <td>589</td>\n",
       "      <td>56</td>\n",
       "    </tr>\n",
       "    <tr>\n",
       "      <th>590</th>\n",
       "      <td>590</td>\n",
       "      <td>165</td>\n",
       "    </tr>\n",
       "    <tr>\n",
       "      <th>591</th>\n",
       "      <td>591</td>\n",
       "      <td>176</td>\n",
       "    </tr>\n",
       "    <tr>\n",
       "      <th>592</th>\n",
       "      <td>592</td>\n",
       "      <td>11</td>\n",
       "    </tr>\n",
       "    <tr>\n",
       "      <th>593</th>\n",
       "      <td>593</td>\n",
       "      <td>194</td>\n",
       "    </tr>\n",
       "    <tr>\n",
       "      <th>594</th>\n",
       "      <td>594</td>\n",
       "      <td>192</td>\n",
       "    </tr>\n",
       "    <tr>\n",
       "      <th>595</th>\n",
       "      <td>595</td>\n",
       "      <td>79</td>\n",
       "    </tr>\n",
       "    <tr>\n",
       "      <th>596</th>\n",
       "      <td>596</td>\n",
       "      <td>39</td>\n",
       "    </tr>\n",
       "    <tr>\n",
       "      <th>597</th>\n",
       "      <td>597</td>\n",
       "      <td>151</td>\n",
       "    </tr>\n",
       "    <tr>\n",
       "      <th>598</th>\n",
       "      <td>598</td>\n",
       "      <td>41</td>\n",
       "    </tr>\n",
       "    <tr>\n",
       "      <th>599</th>\n",
       "      <td>599</td>\n",
       "      <td>100</td>\n",
       "    </tr>\n",
       "  </tbody>\n",
       "</table>\n",
       "<p>600 rows × 2 columns</p>\n",
       "</div>"
      ],
      "text/plain": [
       "     id_query id_script\n",
       "0           0        85\n",
       "1           1       166\n",
       "2           2       187\n",
       "3           3        81\n",
       "4           4        62\n",
       "5           5       118\n",
       "6           6        47\n",
       "7           7        16\n",
       "8           8        82\n",
       "9           9        19\n",
       "10         10       114\n",
       "11         11       111\n",
       "12         12       121\n",
       "13         13       136\n",
       "14         14        18\n",
       "15         15        21\n",
       "16         16        59\n",
       "17         17        32\n",
       "18         18       176\n",
       "19         19       153\n",
       "20         20         5\n",
       "21         21       152\n",
       "22         22        98\n",
       "23         23       136\n",
       "24         24        69\n",
       "25         25       189\n",
       "26         26       172\n",
       "27         27       177\n",
       "28         28        56\n",
       "29         29        87\n",
       "..        ...       ...\n",
       "570       570       130\n",
       "571       571       192\n",
       "572       572       162\n",
       "573       573         4\n",
       "574       574        49\n",
       "575       575         2\n",
       "576       576        28\n",
       "577       577        79\n",
       "578       578       108\n",
       "579       579       186\n",
       "580       580        46\n",
       "581       581       100\n",
       "582       582       143\n",
       "583       583        35\n",
       "584       584       135\n",
       "585       585       121\n",
       "586       586       111\n",
       "587       587        69\n",
       "588       588       132\n",
       "589       589        56\n",
       "590       590       165\n",
       "591       591       176\n",
       "592       592        11\n",
       "593       593       194\n",
       "594       594       192\n",
       "595       595        79\n",
       "596       596        39\n",
       "597       597       151\n",
       "598       598        41\n",
       "599       599       100\n",
       "\n",
       "[600 rows x 2 columns]"
      ]
     },
     "execution_count": 54,
     "metadata": {},
     "output_type": "execute_result"
    }
   ],
   "source": [
    "model_to_submission2(xgb, name=\"3\")"
   ]
  },
  {
   "cell_type": "code",
   "execution_count": 33,
   "metadata": {},
   "outputs": [
    {
     "name": "stdout",
     "output_type": "stream",
     "text": [
      "ab_probs : 0.07439199090003967\n",
      "ba_probs : 0.061516452580690384\n",
      "edit_distance : 0.07439199090003967\n",
      "semantic_sim : 0.23891273140907288\n",
      "substring_ratio : 0.06008583679795265\n",
      "tfidf_char_sim : 0.1244635209441185\n",
      "tfidf_word_sim : 0.03147353231906891\n",
      "wm_distance : 0.021459227427840233\n",
      "a_length : 0.024320457130670547\n",
      "a_num_tokens : 0.03433476388454437\n",
      "b_length : 0.03147353231906891\n",
      "b_num_tokens : 0.035765379667282104\n",
      "is_a_question : 0.015736766159534454\n",
      "is_b_question : 0.011444921605288982\n",
      "lengths_diff : 0.042918454855680466\n",
      "min_length : 0.09871244430541992\n",
      "token_overlap : 0.018597997725009918\n"
     ]
    }
   ],
   "source": [
    "feature_importance = dict()\n",
    "for feat, imp in zip(list(train_set2.columns), xgb.feature_importances_):\n",
    "    feature_importance[feat] = imp\n",
    "    print(\"{} : {}\".format(feat, imp))"
   ]
  },
  {
   "cell_type": "code",
   "execution_count": 34,
   "metadata": {},
   "outputs": [],
   "source": [
    "selected_features = [feat for feat, imp in feature_importance.items() if imp>0.02]"
   ]
  },
  {
   "cell_type": "code",
   "execution_count": 56,
   "metadata": {},
   "outputs": [
    {
     "name": "stdout",
     "output_type": "stream",
     "text": [
      "Train : 0.85652198\n",
      "Val   : 0.75160208\n",
      "Test  : 0.73611470\n",
      "CPU times: user 18.3 s, sys: 208 ms, total: 18.5 s\n",
      "Wall time: 18.5 s\n"
     ]
    },
    {
     "name": "stderr",
     "output_type": "stream",
     "text": [
      "/home/angrypark/angryenv/lib/python3.5/site-packages/sklearn/preprocessing/label.py:151: DeprecationWarning: The truth value of an empty array is ambiguous. Returning False, but in future this will result in an error. Use `array.size > 0` to check that an array is not empty.\n",
      "  if diff:\n",
      "/home/angrypark/angryenv/lib/python3.5/site-packages/sklearn/preprocessing/label.py:151: DeprecationWarning: The truth value of an empty array is ambiguous. Returning False, but in future this will result in an error. Use `array.size > 0` to check that an array is not empty.\n",
      "  if diff:\n",
      "/home/angrypark/angryenv/lib/python3.5/site-packages/sklearn/preprocessing/label.py:151: DeprecationWarning: The truth value of an empty array is ambiguous. Returning False, but in future this will result in an error. Use `array.size > 0` to check that an array is not empty.\n",
      "  if diff:\n"
     ]
    }
   ],
   "source": [
    "%%time\n",
    "xgb = XGBClassifier()\n",
    "xgb.fit(pd.concat([train_set2[selected_features], val_set2[selected_features]]), train_labels + val_labels)\n",
    "print(\"Train : {:.8f}\".format(xgb.score(train_set2[selected_features], train_labels)))\n",
    "print(\"Val   : {:.8f}\".format(xgb.score(val_set2[selected_features], val_labels)))\n",
    "print(\"Test  : {:.8f}\".format(xgb.score(test_set2[selected_features], test_labels)))"
   ]
  },
  {
   "cell_type": "code",
   "execution_count": 57,
   "metadata": {},
   "outputs": [],
   "source": [
    "with open(\"/home/angrypark/paraphrase_detection/data/test_queries.txt\", \"r\") as f:\n",
    "    _, queries = zip(*[line.strip().split(\"\\t\") for line in f])\n",
    "\n",
    "with open(\"/home/angrypark/paraphrase_detection/data/test_replies.txt\", \"r\") as f:\n",
    "    reply_to_idx_dict = dict()\n",
    "    replies = list()\n",
    "    for line in f:\n",
    "        splits = line.strip().split(\"\\t\")\n",
    "        reply_to_idx_dict[splits[1]] = splits[0]\n",
    "        replies.append(splits[1])"
   ]
  },
  {
   "cell_type": "code",
   "execution_count": 59,
   "metadata": {},
   "outputs": [
    {
     "data": {
      "text/plain": [
       "['edit_distance',\n",
       " 'tfidf_char_sim',\n",
       " 'ab_probs',\n",
       " 'tfidf_word_sim',\n",
       " 'substring_ratio',\n",
       " 'a_length',\n",
       " 'lengths_diff',\n",
       " 'ba_probs',\n",
       " 'b_num_tokens',\n",
       " 'wm_distance',\n",
       " 'semantic_sim',\n",
       " 'min_length',\n",
       " 'b_length',\n",
       " 'a_num_tokens']"
      ]
     },
     "execution_count": 59,
     "metadata": {},
     "output_type": "execute_result"
    }
   ],
   "source": [
    "selected_features"
   ]
  },
  {
   "cell_type": "code",
   "execution_count": 61,
   "metadata": {},
   "outputs": [],
   "source": [
    "length = len(replies)\n",
    "submit_set = pd.read_csv(\"../data/submit_set.csv\")\n",
    "\n",
    "with open(\"../data/submit_lines.txt\", \"r\") as f:\n",
    "    submit_A, submit_B = zip(*[line.strip().split(\"\\t\") for line in f])\n",
    "submit_length_features = pd.DataFrame(get_length_features(submit_A, submit_B))\n",
    "submit_set2 = pd.concat([submit_set, submit_length_features], axis=1)\n",
    "submit_set2 = submit_set2[selected_features]\n",
    "\n",
    "predictions = list()\n",
    "for i, query in enumerate(queries):\n",
    "    data = submit_set2.iloc[i*length:(i+1)*length]\n",
    "    probs = [p[1] for p in xgb.predict_proba(data).tolist()]\n",
    "    scores = [(reply, score) for reply, score in zip(replies, probs)]\n",
    "    predict = sorted(scores, key=lambda x: x[1], reverse=True)[0][0]\n",
    "    predictions.append(reply_to_idx_dict[predict])\n",
    "submission = pd.read_csv(\"../submission/sample_submission.csv\")\n",
    "submission[\"id_script\"] = pd.Series(predictions)\n",
    "submission.to_csv(\"../submission/{}.csv\".format(\"3\"), index=False)"
   ]
  },
  {
   "cell_type": "raw",
   "metadata": {},
   "source": [
    "pickle.dump(xgb, open(\"../models/3.pkl\", \"wb\"))"
   ]
  },
  {
   "cell_type": "code",
   "execution_count": 39,
   "metadata": {},
   "outputs": [
    {
     "data": {
      "text/plain": [
       "{'is_a_question', 'is_b_question', 'token_overlap'}"
      ]
     },
     "execution_count": 39,
     "metadata": {},
     "output_type": "execute_result"
    }
   ],
   "source": [
    "set(list(train_length_features.keys())) - set(selected_features)"
   ]
  },
  {
   "cell_type": "code",
   "execution_count": 63,
   "metadata": {},
   "outputs": [
    {
     "data": {
      "text/plain": [
       "Index(['a_length', 'a_num_tokens', 'b_length', 'b_num_tokens', 'is_a_question',\n",
       "       'is_b_question', 'lengths_diff', 'min_length', 'token_overlap'],\n",
       "      dtype='object')"
      ]
     },
     "execution_count": 63,
     "metadata": {},
     "output_type": "execute_result"
    }
   ],
   "source": [
    "train_length_features.columns"
   ]
  },
  {
   "cell_type": "markdown",
   "metadata": {},
   "source": [
    "### Length diff 와 정답의 상관관계"
   ]
  },
  {
   "cell_type": "code",
   "execution_count": 78,
   "metadata": {},
   "outputs": [],
   "source": [
    "positives = [length for length, label in zip(test_length_features[\"lengths_diff\"].values, test_labels) if label==1]\n",
    "negatives = [length for length, label in zip(test_length_features[\"lengths_diff\"].values, test_labels) if label==0]"
   ]
  },
  {
   "cell_type": "code",
   "execution_count": 79,
   "metadata": {},
   "outputs": [
    {
     "data": {
      "text/plain": [
       "<matplotlib.axes._subplots.AxesSubplot at 0x7f38d2ce0588>"
      ]
     },
     "execution_count": 79,
     "metadata": {},
     "output_type": "execute_result"
    },
    {
     "data": {
      "image/png": "[encoded data removed]",
      "text/plain": [
       "<Figure size 432x288 with 1 Axes>"
      ]
     },
     "metadata": {},
     "output_type": "display_data"
    }
   ],
   "source": [
    "sns.countplot(positives)"
   ]
  },
  {
   "cell_type": "code",
   "execution_count": 80,
   "metadata": {},
   "outputs": [
    {
     "data": {
      "text/plain": [
       "<matplotlib.axes._subplots.AxesSubplot at 0x7f38d2a46d68>"
      ]
     },
     "execution_count": 80,
     "metadata": {},
     "output_type": "execute_result"
    },
    {
     "data": {
      "image/png": "[encoded data removed]",
      "text/plain": [
       "<Figure size 432x288 with 1 Axes>"
      ]
     },
     "metadata": {},
     "output_type": "display_data"
    }
   ],
   "source": [
    "sns.countplot(negatives)"
   ]
  },
  {
   "cell_type": "markdown",
   "metadata": {},
   "source": [
    "### Token overlap과 length의 상관관계"
   ]
  },
  {
   "cell_type": "code",
   "execution_count": 81,
   "metadata": {},
   "outputs": [
    {
     "data": {
      "text/plain": [
       "<matplotlib.axes._subplots.AxesSubplot at 0x7f38d6f8b550>"
      ]
     },
     "execution_count": 81,
     "metadata": {},
     "output_type": "execute_result"
    },
    {
     "data": {
      "image/png": "[encoded data removed]",
      "text/plain": [
       "<Figure size 432x288 with 1 Axes>"
      ]
     },
     "metadata": {},
     "output_type": "display_data"
    }
   ],
   "source": [
    "positives = [length for length, label in zip(test_length_features[\"token_overlap\"].values, test_labels) if label==1]\n",
    "negatives = [length for length, label in zip(test_length_features[\"token_overlap\"].values, test_labels) if label==0]\n",
    "sns.countplot(positives)"
   ]
  },
  {
   "cell_type": "code",
   "execution_count": 82,
   "metadata": {},
   "outputs": [
    {
     "data": {
      "text/plain": [
       "<matplotlib.axes._subplots.AxesSubplot at 0x7f38d6eef208>"
      ]
     },
     "execution_count": 82,
     "metadata": {},
     "output_type": "execute_result"
    },
    {
     "data": {
      "image/png": "[encoded data removed]",
      "text/plain": [
       "<Figure size 432x288 with 1 Axes>"
      ]
     },
     "metadata": {},
     "output_type": "display_data"
    }
   ],
   "source": [
    "sns.countplot(negatives)"
   ]
  },
  {
   "cell_type": "code",
   "execution_count": 74,
   "metadata": {},
   "outputs": [
    {
     "data": {
      "text/plain": [
       "0.2586369175591729"
      ]
     },
     "execution_count": 74,
     "metadata": {},
     "output_type": "execute_result"
    }
   ],
   "source": [
    "sum(train_labels) / len(train_labels)"
   ]
  },
  {
   "cell_type": "code",
   "execution_count": 83,
   "metadata": {},
   "outputs": [
    {
     "data": {
      "text/plain": [
       "0.3691552570395247"
      ]
     },
     "execution_count": 83,
     "metadata": {},
     "output_type": "execute_result"
    }
   ],
   "source": [
    "sum(test_labels) / len(test_labels)"
   ]
  },
  {
   "cell_type": "code",
   "execution_count": 84,
   "metadata": {},
   "outputs": [
    {
     "data": {
      "text/plain": [
       "0.4156240463838877"
      ]
     },
     "execution_count": 84,
     "metadata": {},
     "output_type": "execute_result"
    }
   ],
   "source": [
    "sum(val_labels) / len(val_labels)"
   ]
  },
  {
   "cell_type": "code",
   "execution_count": 85,
   "metadata": {},
   "outputs": [],
   "source": [
    "xgb = pickle.load(open(\"../models/2.pkl\", \"rb\"))"
   ]
  },
  {
   "cell_type": "code",
   "execution_count": 86,
   "metadata": {},
   "outputs": [
    {
     "name": "stdout",
     "output_type": "stream",
     "text": [
      "Train : 0.85703057\n",
      "Val   : 0.75297528\n",
      "Test  : 0.74922501\n",
      "CPU times: user 20.1 s, sys: 264 ms, total: 20.4 s\n",
      "Wall time: 20.3 s\n"
     ]
    },
    {
     "name": "stderr",
     "output_type": "stream",
     "text": [
      "/home/angrypark/angryenv/lib/python3.5/site-packages/sklearn/preprocessing/label.py:151: DeprecationWarning: The truth value of an empty array is ambiguous. Returning False, but in future this will result in an error. Use `array.size > 0` to check that an array is not empty.\n",
      "  if diff:\n",
      "/home/angrypark/angryenv/lib/python3.5/site-packages/sklearn/preprocessing/label.py:151: DeprecationWarning: The truth value of an empty array is ambiguous. Returning False, but in future this will result in an error. Use `array.size > 0` to check that an array is not empty.\n",
      "  if diff:\n",
      "/home/angrypark/angryenv/lib/python3.5/site-packages/sklearn/preprocessing/label.py:151: DeprecationWarning: The truth value of an empty array is ambiguous. Returning False, but in future this will result in an error. Use `array.size > 0` to check that an array is not empty.\n",
      "  if diff:\n"
     ]
    }
   ],
   "source": [
    "%%time\n",
    "xgb = XGBClassifier()\n",
    "xgb.fit(pd.concat([train_set2, val_set2, test_set2]), train_labels + val_labels + test_labels)\n",
    "print(\"Train : {:.8f}\".format(xgb.score(train_set2, train_labels)))\n",
    "print(\"Val   : {:.8f}\".format(xgb.score(val_set2, val_labels)))\n",
    "print(\"Test  : {:.8f}\".format(xgb.score(test_set2, test_labels)))"
   ]
  },
  {
   "cell_type": "code",
   "execution_count": 94,
   "metadata": {},
   "outputs": [
    {
     "data": {
      "text/plain": [
       "Index(['ab_probs', 'ba_probs', 'edit_distance', 'semantic_sim',\n",
       "       'substring_ratio', 'tfidf_char_sim', 'tfidf_word_sim', 'wm_distance',\n",
       "       'a_length', 'a_num_tokens', 'b_length', 'b_num_tokens', 'is_a_question',\n",
       "       'is_b_question', 'lengths_diff', 'min_length', 'token_overlap'],\n",
       "      dtype='object')"
      ]
     },
     "execution_count": 94,
     "metadata": {},
     "output_type": "execute_result"
    }
   ],
   "source": [
    "train_set2.columns"
   ]
  },
  {
   "cell_type": "markdown",
   "metadata": {},
   "source": [
    "### 좀만 더 해보자. difference로 다 바꾼 다음에 결과를 한번 보고, categorical로 만들어서 catboost로 성능을 내보자.."
   ]
  },
  {
   "cell_type": "code",
   "execution_count": 103,
   "metadata": {},
   "outputs": [],
   "source": [
    "from catboost import CatBoostClassifier"
   ]
  },
  {
   "cell_type": "code",
   "execution_count": 108,
   "metadata": {},
   "outputs": [
    {
     "name": "stdout",
     "output_type": "stream",
     "text": [
      "Learning rate set to 0.085906\n",
      "\n",
      "Iteration with suspicious time -0.879 sec ignored in overall statistics.\n",
      "\n",
      "Iteration with suspicious time -0.873 sec ignored in overall statistics.\n",
      "\n",
      "Iteration with suspicious time -0.881 sec ignored in overall statistics.\n",
      "Train : 0.89487416\n",
      "Val   : 0.80342793\n",
      "Test  : 0.72565229\n",
      "CPU times: user 6min 59s, sys: 18.1 s, total: 7min 18s\n",
      "Wall time: 42.5 s\n"
     ]
    }
   ],
   "source": [
    "%%time\n",
    "cb = CatBoostClassifier()\n",
    "cb.fit(pd.concat([train_set2, val_set2]), train_labels + val_labels, verbose=False)\n",
    "print(\"Train : {:.8f}\".format(cb.score(train_set2, train_labels)))\n",
    "print(\"Val   : {:.8f}\".format(cb.score(val_set2, val_labels)))\n",
    "print(\"Test  : {:.8f}\".format(cb.score(test_set2, test_labels)))"
   ]
  },
  {
   "cell_type": "code",
   "execution_count": 111,
   "metadata": {},
   "outputs": [
    {
     "name": "stdout",
     "output_type": "stream",
     "text": [
      "Train accuracy : 0.89487416\n",
      "Val   accuracy : 0.80342793\n",
      "Test  accuracy : 0.72565229\n"
     ]
    }
   ],
   "source": [
    "_ = model_to_submission2(cb, name=\"5\")"
   ]
  },
  {
   "cell_type": "code",
   "execution_count": 113,
   "metadata": {},
   "outputs": [
    {
     "name": "stdout",
     "output_type": "stream",
     "text": [
      "Learning rate set to 0.085906\n",
      "\n",
      "Iteration with suspicious time -0.883 sec ignored in overall statistics.\n",
      "\n",
      "Iteration with suspicious time -0.883 sec ignored in overall statistics.\n",
      "\n",
      "Iteration with suspicious time -0.883 sec ignored in overall statistics.\n",
      "\n",
      "Iteration with suspicious time -0.884 sec ignored in overall statistics.\n",
      "\n",
      "Iteration with suspicious time -0.88 sec ignored in overall statistics.\n",
      "\n",
      "Iteration with suspicious time -0.883 sec ignored in overall statistics.\n",
      "Train : 0.89284641\n",
      "Val   : 0.79874886\n",
      "Test  : 0.72138982\n",
      "CPU times: user 6min 44s, sys: 17.4 s, total: 7min 1s\n",
      "Wall time: 38.8 s\n"
     ]
    }
   ],
   "source": [
    "%%time\n",
    "cb = CatBoostClassifier()\n",
    "cb.fit(pd.concat([train_set2[selected_features], val_set2[selected_features]]), train_labels + val_labels, verbose=False)\n",
    "print(\"Train : {:.8f}\".format(cb.score(train_set2[selected_features], train_labels)))\n",
    "print(\"Val   : {:.8f}\".format(cb.score(val_set2[selected_features], val_labels)))\n",
    "print(\"Test  : {:.8f}\".format(cb.score(test_set2[selected_features], test_labels)))"
   ]
  },
  {
   "cell_type": "code",
   "execution_count": 115,
   "metadata": {},
   "outputs": [],
   "source": [
    "from lightgbm import LGBMClassifier"
   ]
  },
  {
   "cell_type": "code",
   "execution_count": 116,
   "metadata": {},
   "outputs": [
    {
     "name": "stderr",
     "output_type": "stream",
     "text": [
      "/home/angrypark/angryenv/lib/python3.5/site-packages/sklearn/preprocessing/label.py:151: DeprecationWarning: The truth value of an empty array is ambiguous. Returning False, but in future this will result in an error. Use `array.size > 0` to check that an array is not empty.\n",
      "  if diff:\n",
      "/home/angrypark/angryenv/lib/python3.5/site-packages/sklearn/preprocessing/label.py:151: DeprecationWarning: The truth value of an empty array is ambiguous. Returning False, but in future this will result in an error. Use `array.size > 0` to check that an array is not empty.\n",
      "  if diff:\n"
     ]
    },
    {
     "name": "stdout",
     "output_type": "stream",
     "text": [
      "Train : 0.87130076\n",
      "Val   : 0.77189503\n",
      "Test  : 0.72894601\n"
     ]
    },
    {
     "name": "stderr",
     "output_type": "stream",
     "text": [
      "/home/angrypark/angryenv/lib/python3.5/site-packages/sklearn/preprocessing/label.py:151: DeprecationWarning: The truth value of an empty array is ambiguous. Returning False, but in future this will result in an error. Use `array.size > 0` to check that an array is not empty.\n",
      "  if diff:\n"
     ]
    }
   ],
   "source": [
    "lgbm = LGBMClassifier()\n",
    "lgbm.fit(pd.concat([train_set2, val_set2]), train_labels + val_labels, verbose=False)\n",
    "print(\"Train : {:.8f}\".format(lgbm.score(train_set2, train_labels)))\n",
    "print(\"Val   : {:.8f}\".format(lgbm.score(val_set2, val_labels)))\n",
    "print(\"Test  : {:.8f}\".format(lgbm.score(test_set2, test_labels)))"
   ]
  },
  {
   "cell_type": "code",
   "execution_count": 118,
   "metadata": {},
   "outputs": [
    {
     "name": "stderr",
     "output_type": "stream",
     "text": [
      "/home/angrypark/angryenv/lib/python3.5/site-packages/sklearn/preprocessing/label.py:151: DeprecationWarning: The truth value of an empty array is ambiguous. Returning False, but in future this will result in an error. Use `array.size > 0` to check that an array is not empty.\n",
      "  if diff:\n",
      "/home/angrypark/angryenv/lib/python3.5/site-packages/sklearn/preprocessing/label.py:151: DeprecationWarning: The truth value of an empty array is ambiguous. Returning False, but in future this will result in an error. Use `array.size > 0` to check that an array is not empty.\n",
      "  if diff:\n"
     ]
    },
    {
     "name": "stdout",
     "output_type": "stream",
     "text": [
      "Train accuracy : 0.87130076\n",
      "Val   accuracy : 0.77189503\n",
      "Test  accuracy : 0.72894601\n"
     ]
    },
    {
     "name": "stderr",
     "output_type": "stream",
     "text": [
      "/home/angrypark/angryenv/lib/python3.5/site-packages/sklearn/preprocessing/label.py:151: DeprecationWarning: The truth value of an empty array is ambiguous. Returning False, but in future this will result in an error. Use `array.size > 0` to check that an array is not empty.\n",
      "  if diff:\n"
     ]
    }
   ],
   "source": [
    "_ = model_to_submission2(lgbm, name=\"6\")"
   ]
  },
  {
   "cell_type": "markdown",
   "metadata": {},
   "source": [
    "---\n",
    "### 3. 더 짜칠 것 같은 feature들\n",
    "- a, b의 시간에 대한 정보 : (0=없음, -1=과거, 1=현재, 2=미래)\n",
    "- a, b의 나/너/성별에 대한 정보 : (0=없음, -1=남자, 1=여자)"
   ]
  },
  {
   "cell_type": "code",
   "execution_count": 95,
   "metadata": {},
   "outputs": [
    {
     "data": {
      "text/plain": [
       "86072"
      ]
     },
     "execution_count": 95,
     "metadata": {},
     "output_type": "execute_result"
    }
   ],
   "source": [
    "len(ft.wv.vocab)"
   ]
  },
  {
   "cell_type": "code",
   "execution_count": null,
   "metadata": {},
   "outputs": [],
   "source": []
  }
 ],
 "metadata": {
  "kernelspec": {
   "display_name": "angryenv",
   "language": "python",
   "name": "angryenv"
  },
  "language_info": {
   "codemirror_mode": {
    "name": "ipython",
    "version": 3
   },
   "file_extension": ".py",
   "mimetype": "text/x-python",
   "name": "python",
   "nbconvert_exporter": "python",
   "pygments_lexer": "ipython3",
   "version": "3.5.2"
  }
 },
 "nbformat": 4,
 "nbformat_minor": 2
}
