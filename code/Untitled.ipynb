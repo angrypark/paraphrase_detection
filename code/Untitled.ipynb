{
 "cells": [
  {
   "cell_type": "code",
   "execution_count": 1,
   "metadata": {},
   "outputs": [],
   "source": [
    "import tensorflow as tf\n",
    "import numpy as np\n",
    "import argparse\n",
    "from datetime import datetime\n",
    "\n",
    "from data_loader import DataGenerator, ParaphraseDataGenerator\n",
    "\n",
    "from trainer import ParaphraseDetectionTrainer\n",
    "from preprocessor import DynamicPreprocessor\n",
    "from utils.dirs import create_dirs\n",
    "from utils.logger import SummaryWriter\n",
    "from utils.config import load_config, save_config\n",
    "from models.base import get_model\n",
    "from utils.utils import JamoProcessor"
   ]
  },
  {
   "cell_type": "code",
   "execution_count": 2,
   "metadata": {},
   "outputs": [],
   "source": [
    "import editdistance"
   ]
  },
  {
   "cell_type": "code",
   "execution_count": 3,
   "metadata": {},
   "outputs": [],
   "source": [
    "class Config:\n",
    "    def __init__(self):\n",
    "        self.mode = \"train\"\n",
    "        self.name = \"start\"\n",
    "        self.config = \"\"\n",
    "        self.train_dir = \"/home/angrypark/paraphrase_detection/data/train/\"\n",
    "        self.val_dir = \"/home/angrypark/paraphrase_detection/data/small/val.txt\"\n",
    "        \n",
    "        self.pretrained_embed_dir = \"/media/scatter/scatterdisk/pretrained_embedding/fasttext.sent_piece_100K.256D\"\n",
    "        self.checkpoint_dir = \"/media/scatter/scatterdisk/paraphrase_detection/runs/\"\n",
    "        \n",
    "        self.model = \"DeepParaphrase\"\n",
    "        self.sent_piece_model = \"/media/scatter/scatterdisk/tokenizer/sent_piece.100K.model\"\n",
    "        self.normalizer = \"DummyNormalizer\"\n",
    "        self.tokenizer = \"DummyTokenizer\"\n",
    "        \n",
    "        self.vocab_size = 90000\n",
    "        self.vocab_list = \"/media/scatter/scatterdisk/pretrained_embedding/vocab_list.sent_piece_100K.txt\"\n",
    "        self.embed_dim = 256\n",
    "        \n",
    "        self.learning_rate = 1e-3\n",
    "        self.min_length = 1\n",
    "        self.max_length = 20\n",
    "        \n",
    "        self.dropout_keep_prob = 0.75\n",
    "        \n",
    "        self.num_epochs = 300\n",
    "        self.batch_size = 256\n",
    "        self.evaluate_every = 10000\n",
    "        self.save_every = 10000\n",
    "        self.max_to_keep = 4\n",
    "        \n",
    "        self.shuffle = True\n",
    "        self.extra_features_dim = 2\n",
    "\n",
    "config = Config()"
   ]
  },
  {
   "cell_type": "code",
   "execution_count": 4,
   "metadata": {},
   "outputs": [],
   "source": [
    "config = create_dirs(config)"
   ]
  },
  {
   "cell_type": "code",
   "execution_count": 5,
   "metadata": {},
   "outputs": [],
   "source": [
    "device_config = tf.ConfigProto()\n",
    "device_config.gpu_options.allow_growth = True\n",
    "sess = tf.Session(config=device_config)"
   ]
  },
  {
   "cell_type": "code",
   "execution_count": 6,
   "metadata": {},
   "outputs": [],
   "source": [
    "preprocessor = DynamicPreprocessor(config)"
   ]
  },
  {
   "cell_type": "code",
   "execution_count": 7,
   "metadata": {},
   "outputs": [
    {
     "name": "stdout",
     "output_type": "stream",
     "text": [
      "Pre-trained embedding loaded. Number of OOV : 5272 / 90000\n"
     ]
    },
    {
     "name": "stderr",
     "output_type": "stream",
     "text": [
      "/home/angrypark/angryenv/lib/python3.5/site-packages/tensorflow/python/ops/gradients_impl.py:100: UserWarning: Converting sparse IndexedSlices to a dense Tensor of unknown shape. This may consume a large amount of memory.\n",
      "  \"Converting sparse IndexedSlices to a dense Tensor of unknown shape. \"\n"
     ]
    },
    {
     "name": "stdout",
     "output_type": "stream",
     "text": [
      "INFO:tensorflow:Restoring parameters from /media/scatter/scatterdisk/reply_matching_model/runs/delstm_1024_nsrandom4_lr1e-3/best_loss/best_loss.ckpt\n"
     ]
    }
   ],
   "source": [
    "data = ParaphraseDataGenerator(preprocessor, config)\n",
    "summary_writer = SummaryWriter(sess, config)"
   ]
  },
  {
   "cell_type": "code",
   "execution_count": 8,
   "metadata": {},
   "outputs": [],
   "source": [
    "trainer = ParaphraseDetectionTrainer(sess, preprocessor, data, config, summary_writer)"
   ]
  },
  {
   "cell_type": "code",
   "execution_count": 9,
   "metadata": {},
   "outputs": [
    {
     "name": "stderr",
     "output_type": "stream",
     "text": [
      "\u001b[32m[23:05:26][INFO] Building train graph... \u001b[0m\n"
     ]
    },
    {
     "name": "stdout",
     "output_type": "stream",
     "text": [
      "Pre-trained embedding loaded. Number of OOV : 5272 / 90000\n"
     ]
    },
    {
     "name": "stderr",
     "output_type": "stream",
     "text": [
      "\u001b[32m[23:05:32][INFO] Loading checkpoint from /media/scatter/scatterdisk/paraphrase_detection/runs/start/ \u001b[0m\n",
      "\u001b[31m[23:05:32][ERROR] No checkpoint found in /media/scatter/scatterdisk/paraphrase_detection/runs/start/ \u001b[0m\n",
      "\u001b[32m[23:05:32][INFO] Building val graph... \u001b[0m\n"
     ]
    },
    {
     "name": "stdout",
     "output_type": "stream",
     "text": [
      "Pre-trained embedding loaded. Number of OOV : 5272 / 90000\n"
     ]
    },
    {
     "name": "stderr",
     "output_type": "stream",
     "text": [
      "\u001b[33m[23:05:38][WARNING] =================================== Epoch 1 Start ! =================================== \u001b[0m\n",
      "100%|██████████| 1172/1172 [01:32<00:00, 12.70it/s]\n",
      "\u001b[33m[23:07:10][WARNING] =================================== Epoch 1 Done ! =================================== \u001b[0m\n"
     ]
    },
    {
     "name": "stdout",
     "output_type": "stream",
     "text": [
      "INFO:tensorflow:Restoring parameters from /media/scatter/scatterdisk/paraphrase_detection/runs/start/model.ckpt\n"
     ]
    },
    {
     "name": "stderr",
     "output_type": "stream",
     "text": [
      "100%|██████████| 76/76 [00:04<00:00, 15.87it/s]\n",
      "\u001b[33m[23:07:17][WARNING] [Step 1173] Saving for best loss : 100000.00000 -> 3.26913 \u001b[0m\n",
      "\u001b[33m[23:07:18][WARNING] | Val loss : 3.2691 | Val accuracy : 0.5825  \u001b[0m\n",
      "\u001b[33m[23:07:18][WARNING] =================================== Epoch 2 Start ! =================================== \u001b[0m\n",
      "100%|██████████| 1172/1172 [01:30<00:00, 12.98it/s]\n",
      "\u001b[33m[23:08:48][WARNING] =================================== Epoch 2 Done ! =================================== \u001b[0m\n"
     ]
    },
    {
     "name": "stdout",
     "output_type": "stream",
     "text": [
      "INFO:tensorflow:Restoring parameters from /media/scatter/scatterdisk/paraphrase_detection/runs/start/model.ckpt\n"
     ]
    },
    {
     "name": "stderr",
     "output_type": "stream",
     "text": [
      "100%|██████████| 76/76 [00:04<00:00, 15.90it/s]\n",
      "\u001b[33m[23:08:57][WARNING] [Step 2345] Saving for best loss : 3.26913 -> 2.46705 \u001b[0m\n",
      "\u001b[33m[23:09:01][WARNING] | Val loss : 2.4670 | Val accuracy : 0.5843  \u001b[0m\n",
      "\u001b[33m[23:09:01][WARNING] =================================== Epoch 3 Start ! =================================== \u001b[0m\n",
      "100%|██████████| 1172/1172 [01:31<00:00, 12.82it/s]\n",
      "\u001b[33m[23:10:32][WARNING] =================================== Epoch 3 Done ! =================================== \u001b[0m\n"
     ]
    },
    {
     "name": "stdout",
     "output_type": "stream",
     "text": [
      "INFO:tensorflow:Restoring parameters from /media/scatter/scatterdisk/paraphrase_detection/runs/start/model.ckpt\n"
     ]
    },
    {
     "name": "stderr",
     "output_type": "stream",
     "text": [
      "100%|██████████| 76/76 [00:04<00:00, 15.44it/s]\n",
      "\u001b[33m[23:10:42][WARNING] | Val loss : 2.5671 | Val accuracy : 0.5843  \u001b[0m\n",
      "\u001b[33m[23:10:42][WARNING] =================================== Epoch 4 Start ! =================================== \u001b[0m\n",
      "100%|██████████| 1172/1172 [01:31<00:00, 12.82it/s]\n",
      "\u001b[33m[23:12:13][WARNING] =================================== Epoch 4 Done ! =================================== \u001b[0m\n"
     ]
    },
    {
     "name": "stdout",
     "output_type": "stream",
     "text": [
      "INFO:tensorflow:Restoring parameters from /media/scatter/scatterdisk/paraphrase_detection/runs/start/model.ckpt\n"
     ]
    },
    {
     "name": "stderr",
     "output_type": "stream",
     "text": [
      "100%|██████████| 76/76 [00:05<00:00, 14.93it/s]\n",
      "\u001b[33m[23:12:23][WARNING] | Val loss : 2.5721 | Val accuracy : 0.5848  \u001b[0m\n",
      "\u001b[33m[23:12:23][WARNING] =================================== Epoch 5 Start ! =================================== \u001b[0m\n",
      "100%|██████████| 1172/1172 [01:30<00:00, 12.95it/s]\n",
      "\u001b[33m[23:13:53][WARNING] =================================== Epoch 5 Done ! =================================== \u001b[0m\n"
     ]
    },
    {
     "name": "stdout",
     "output_type": "stream",
     "text": [
      "INFO:tensorflow:Restoring parameters from /media/scatter/scatterdisk/paraphrase_detection/runs/start/model.ckpt\n"
     ]
    },
    {
     "name": "stderr",
     "output_type": "stream",
     "text": [
      "100%|██████████| 76/76 [00:04<00:00, 15.41it/s]\n",
      "\u001b[33m[23:14:02][WARNING] | Val loss : 2.6271 | Val accuracy : 0.5852  \u001b[0m\n",
      "\u001b[33m[23:14:02][WARNING] =================================== Epoch 6 Start ! =================================== \u001b[0m\n",
      "100%|██████████| 1172/1172 [01:32<00:00, 12.72it/s]\n",
      "\u001b[33m[23:15:34][WARNING] =================================== Epoch 6 Done ! =================================== \u001b[0m\n"
     ]
    },
    {
     "name": "stdout",
     "output_type": "stream",
     "text": [
      "INFO:tensorflow:Restoring parameters from /media/scatter/scatterdisk/paraphrase_detection/runs/start/model.ckpt\n"
     ]
    },
    {
     "name": "stderr",
     "output_type": "stream",
     "text": [
      "100%|██████████| 76/76 [00:04<00:00, 15.52it/s]\n",
      "\u001b[33m[23:15:44][WARNING] | Val loss : 2.6495 | Val accuracy : 0.5855  \u001b[0m\n",
      "\u001b[33m[23:15:44][WARNING] =================================== Epoch 7 Start ! =================================== \u001b[0m\n",
      "100%|██████████| 1172/1172 [01:31<00:00, 12.83it/s]\n",
      "\u001b[33m[23:17:15][WARNING] =================================== Epoch 7 Done ! =================================== \u001b[0m\n"
     ]
    },
    {
     "name": "stdout",
     "output_type": "stream",
     "text": [
      "INFO:tensorflow:Restoring parameters from /media/scatter/scatterdisk/paraphrase_detection/runs/start/model.ckpt\n"
     ]
    },
    {
     "name": "stderr",
     "output_type": "stream",
     "text": [
      "100%|██████████| 76/76 [00:04<00:00, 16.08it/s]\n",
      "\u001b[33m[23:17:24][WARNING] | Val loss : 2.6599 | Val accuracy : 0.5861  \u001b[0m\n",
      "\u001b[33m[23:17:24][WARNING] =================================== Epoch 8 Start ! =================================== \u001b[0m\n",
      "100%|██████████| 1172/1172 [01:30<00:00, 12.99it/s]\n",
      "\u001b[33m[23:18:55][WARNING] =================================== Epoch 8 Done ! =================================== \u001b[0m\n"
     ]
    },
    {
     "name": "stdout",
     "output_type": "stream",
     "text": [
      "INFO:tensorflow:Restoring parameters from /media/scatter/scatterdisk/paraphrase_detection/runs/start/model.ckpt\n"
     ]
    },
    {
     "name": "stderr",
     "output_type": "stream",
     "text": [
      "100%|██████████| 76/76 [00:05<00:00, 14.51it/s]\n",
      "\u001b[33m[23:19:04][WARNING] | Val loss : 2.6938 | Val accuracy : 0.5867  \u001b[0m\n",
      "\u001b[33m[23:19:05][WARNING] =================================== Epoch 9 Start ! =================================== \u001b[0m\n",
      " 53%|█████▎    | 622/1172 [00:57<00:50, 10.88it/s]"
     ]
    },
    {
     "name": "stdout",
     "output_type": "stream",
     "text": [
      "INFO:tensorflow:Restoring parameters from /media/scatter/scatterdisk/paraphrase_detection/runs/start/model.ckpt\n"
     ]
    },
    {
     "name": "stderr",
     "output_type": "stream",
     "text": [
      "\n",
      "  0%|          | 0/76 [00:00<?, ?it/s]\u001b[A\n",
      "  1%|▏         | 1/76 [00:01<01:32,  1.23s/it]\u001b[A\n",
      "  5%|▌         | 4/76 [00:01<00:24,  2.92it/s]\u001b[A\n",
      "  8%|▊         | 6/76 [00:01<00:17,  4.06it/s]\u001b[A\n",
      " 11%|█         | 8/76 [00:01<00:13,  5.03it/s]\u001b[A\n",
      " 14%|█▍        | 11/76 [00:01<00:10,  6.26it/s]\u001b[A\n",
      " 18%|█▊        | 14/76 [00:01<00:08,  7.48it/s]\u001b[A\n",
      " 22%|██▏       | 17/76 [00:02<00:06,  8.44it/s]\u001b[A\n",
      " 25%|██▌       | 19/76 [00:02<00:06,  8.95it/s]\u001b[A\n",
      " 29%|██▉       | 22/76 [00:02<00:05,  9.82it/s]\u001b[A\n",
      " 33%|███▎      | 25/76 [00:02<00:04, 10.46it/s]\u001b[A\n",
      " 37%|███▋      | 28/76 [00:02<00:04, 11.01it/s]\u001b[A\n",
      " 41%|████      | 31/76 [00:02<00:03, 11.44it/s]\u001b[A\n",
      " 45%|████▍     | 34/76 [00:02<00:03, 12.00it/s]\u001b[A\n",
      " 49%|████▊     | 37/76 [00:02<00:03, 12.49it/s]\u001b[A\n",
      " 53%|█████▎    | 40/76 [00:03<00:02, 12.79it/s]\u001b[A\n",
      " 57%|█████▋    | 43/76 [00:03<00:02, 13.26it/s]\u001b[A\n",
      " 61%|██████    | 46/76 [00:03<00:02, 13.63it/s]\u001b[A\n",
      " 64%|██████▍   | 49/76 [00:03<00:01, 13.88it/s]\u001b[A\n",
      " 68%|██████▊   | 52/76 [00:03<00:01, 14.04it/s]\u001b[A\n",
      " 72%|███████▏  | 55/76 [00:03<00:01, 14.23it/s]\u001b[A\n",
      " 76%|███████▋  | 58/76 [00:03<00:01, 14.52it/s]\u001b[A\n",
      " 80%|████████  | 61/76 [00:04<00:01, 14.81it/s]\u001b[A\n",
      " 84%|████████▍ | 64/76 [00:04<00:00, 14.96it/s]\u001b[A\n",
      " 88%|████████▊ | 67/76 [00:04<00:00, 15.14it/s]\u001b[A\n",
      " 92%|█████████▏| 70/76 [00:04<00:00, 15.33it/s]\u001b[A\n",
      " 96%|█████████▌| 73/76 [00:04<00:00, 15.42it/s]\u001b[A\n",
      " 99%|█████████▊| 75/76 [00:04<00:00, 15.49it/s]\u001b[A\n",
      "100%|██████████| 76/76 [00:04<00:00, 15.53it/s]\u001b[A\u001b[33m[23:20:11][WARNING] [Step 10000] Saving for best loss : 2.46705 -> 0.63661 \u001b[0m\n",
      " 53%|█████▎    | 622/1172 [01:10<01:02,  8.84it/s]\u001b[33m[23:20:16][WARNING] Epoch :  9 | Step :      623 | Train loss : 0.4429 | Train accuracy : 0.7963 | Val loss : 0.6366 | Val accuracy : 0.7322  \u001b[0m\n",
      "100%|██████████| 1172/1172 [01:44<00:00, 11.22it/s]\n",
      "\u001b[33m[23:20:49][WARNING] =================================== Epoch 9 Done ! =================================== \u001b[0m\n"
     ]
    },
    {
     "name": "stdout",
     "output_type": "stream",
     "text": [
      "INFO:tensorflow:Restoring parameters from /media/scatter/scatterdisk/paraphrase_detection/runs/start/model.ckpt\n"
     ]
    },
    {
     "name": "stderr",
     "output_type": "stream",
     "text": [
      "100%|██████████| 76/76 [00:04<00:00, 16.56it/s]\n",
      "\u001b[33m[23:20:58][WARNING] | Val loss : 2.7437 | Val accuracy : 0.5878  \u001b[0m\n",
      "\u001b[33m[23:20:58][WARNING] =================================== Epoch 10 Start ! =================================== \u001b[0m\n",
      "100%|██████████| 1172/1172 [01:30<00:00, 12.93it/s]\n",
      "\u001b[33m[23:22:28][WARNING] =================================== Epoch 10 Done ! =================================== \u001b[0m\n"
     ]
    },
    {
     "name": "stdout",
     "output_type": "stream",
     "text": [
      "INFO:tensorflow:Restoring parameters from /media/scatter/scatterdisk/paraphrase_detection/runs/start/model.ckpt\n"
     ]
    },
    {
     "name": "stderr",
     "output_type": "stream",
     "text": [
      "100%|██████████| 76/76 [00:04<00:00, 15.80it/s]\n",
      "\u001b[33m[23:22:37][WARNING] | Val loss : 2.7426 | Val accuracy : 0.5887  \u001b[0m\n",
      "\u001b[33m[23:22:37][WARNING] =================================== Epoch 11 Start ! =================================== \u001b[0m\n",
      "100%|██████████| 1172/1172 [01:31<00:00, 12.79it/s]\n",
      "\u001b[33m[23:24:09][WARNING] =================================== Epoch 11 Done ! =================================== \u001b[0m\n"
     ]
    },
    {
     "name": "stdout",
     "output_type": "stream",
     "text": [
      "INFO:tensorflow:Restoring parameters from /media/scatter/scatterdisk/paraphrase_detection/runs/start/model.ckpt\n"
     ]
    },
    {
     "name": "stderr",
     "output_type": "stream",
     "text": [
      "100%|██████████| 76/76 [00:05<00:00, 14.98it/s]\n",
      "\u001b[33m[23:24:19][WARNING] | Val loss : 2.9678 | Val accuracy : 0.5883  \u001b[0m\n",
      "\u001b[33m[23:24:19][WARNING] =================================== Epoch 12 Start ! =================================== \u001b[0m\n",
      "100%|██████████| 1172/1172 [01:31<00:00, 12.88it/s]\n",
      "\u001b[33m[23:25:50][WARNING] =================================== Epoch 12 Done ! =================================== \u001b[0m\n"
     ]
    },
    {
     "name": "stdout",
     "output_type": "stream",
     "text": [
      "INFO:tensorflow:Restoring parameters from /media/scatter/scatterdisk/paraphrase_detection/runs/start/model.ckpt\n"
     ]
    },
    {
     "name": "stderr",
     "output_type": "stream",
     "text": [
      "100%|██████████| 76/76 [00:04<00:00, 16.47it/s]\n",
      "\u001b[33m[23:25:59][WARNING] | Val loss : 2.9309 | Val accuracy : 0.5878  \u001b[0m\n",
      "\u001b[33m[23:25:59][WARNING] =================================== Epoch 13 Start ! =================================== \u001b[0m\n",
      "100%|██████████| 1172/1172 [01:32<00:00, 12.72it/s]\n",
      "\u001b[33m[23:27:31][WARNING] =================================== Epoch 13 Done ! =================================== \u001b[0m\n"
     ]
    },
    {
     "name": "stdout",
     "output_type": "stream",
     "text": [
      "INFO:tensorflow:Restoring parameters from /media/scatter/scatterdisk/paraphrase_detection/runs/start/model.ckpt\n"
     ]
    },
    {
     "name": "stderr",
     "output_type": "stream",
     "text": [
      "100%|██████████| 76/76 [00:04<00:00, 15.79it/s]\n",
      "\u001b[33m[23:27:40][WARNING] | Val loss : 3.1083 | Val accuracy : 0.5894  \u001b[0m\n",
      "\u001b[33m[23:27:40][WARNING] =================================== Epoch 14 Start ! =================================== \u001b[0m\n",
      "  0%|          | 0/1172 [00:00<?, ?it/s]\n"
     ]
    },
    {
     "ename": "KeyboardInterrupt",
     "evalue": "",
     "output_type": "error",
     "traceback": [
      "\u001b[0;31m---------------------------------------------------------------------------\u001b[0m",
      "\u001b[0;31mKeyboardInterrupt\u001b[0m                         Traceback (most recent call last)",
      "\u001b[0;32m<ipython-input-9-3435b262f1ae>\u001b[0m in \u001b[0;36m<module>\u001b[0;34m()\u001b[0m\n\u001b[0;32m----> 1\u001b[0;31m \u001b[0mtrainer\u001b[0m\u001b[0;34m.\u001b[0m\u001b[0mtrain\u001b[0m\u001b[0;34m(\u001b[0m\u001b[0;34m)\u001b[0m\u001b[0;34m\u001b[0m\u001b[0m\n\u001b[0m",
      "\u001b[0;32m~/paraphrase_detection/code/trainer.py\u001b[0m in \u001b[0;36mtrain\u001b[0;34m(self)\u001b[0m\n\u001b[1;32m    140\u001b[0m                 \u001b[0;31m#     continue\u001b[0m\u001b[0;34m\u001b[0m\u001b[0;34m\u001b[0m\u001b[0m\n\u001b[1;32m    141\u001b[0m \u001b[0;34m\u001b[0m\u001b[0m\n\u001b[0;32m--> 142\u001b[0;31m                 \u001b[0mloss\u001b[0m\u001b[0;34m,\u001b[0m \u001b[0mscore\u001b[0m\u001b[0;34m,\u001b[0m \u001b[0mcur_batch_length\u001b[0m \u001b[0;34m=\u001b[0m \u001b[0mself\u001b[0m\u001b[0;34m.\u001b[0m\u001b[0mtrain_step\u001b[0m\u001b[0;34m(\u001b[0m\u001b[0mtrain_model\u001b[0m\u001b[0;34m,\u001b[0m \u001b[0mtrain_sess\u001b[0m\u001b[0;34m)\u001b[0m\u001b[0;34m\u001b[0m\u001b[0m\n\u001b[0m\u001b[1;32m    143\u001b[0m \u001b[0;34m\u001b[0m\u001b[0m\n\u001b[1;32m    144\u001b[0m                 \u001b[0;31m# increment global step\u001b[0m\u001b[0;34m\u001b[0m\u001b[0;34m\u001b[0m\u001b[0m\n",
      "\u001b[0;32m~/paraphrase_detection/code/trainer.py\u001b[0m in \u001b[0;36mtrain_step\u001b[0;34m(self, model, sess)\u001b[0m\n\u001b[1;32m     87\u001b[0m     \u001b[0;32mdef\u001b[0m \u001b[0mtrain_step\u001b[0m\u001b[0;34m(\u001b[0m\u001b[0mself\u001b[0m\u001b[0;34m,\u001b[0m \u001b[0mmodel\u001b[0m\u001b[0;34m,\u001b[0m \u001b[0msess\u001b[0m\u001b[0;34m)\u001b[0m\u001b[0;34m:\u001b[0m\u001b[0;34m\u001b[0m\u001b[0m\n\u001b[1;32m     88\u001b[0m         \u001b[0mbatch_A\u001b[0m\u001b[0;34m,\u001b[0m \u001b[0mbatch_B\u001b[0m\u001b[0;34m,\u001b[0m\u001b[0;31m \u001b[0m\u001b[0;31m\\\u001b[0m\u001b[0;34m\u001b[0m\u001b[0m\n\u001b[0;32m---> 89\u001b[0;31m         \u001b[0mbatch_sentence_diff\u001b[0m\u001b[0;34m,\u001b[0m \u001b[0mbatch_extra_features\u001b[0m\u001b[0;34m,\u001b[0m \u001b[0mlabels\u001b[0m \u001b[0;34m=\u001b[0m \u001b[0mnext\u001b[0m\u001b[0;34m(\u001b[0m\u001b[0mself\u001b[0m\u001b[0;34m.\u001b[0m\u001b[0mtrain_iterator\u001b[0m\u001b[0;34m)\u001b[0m\u001b[0;34m\u001b[0m\u001b[0m\n\u001b[0m\u001b[1;32m     90\u001b[0m \u001b[0;34m\u001b[0m\u001b[0m\n\u001b[1;32m     91\u001b[0m         \u001b[0mcur_batch_length\u001b[0m \u001b[0;34m=\u001b[0m \u001b[0mlen\u001b[0m\u001b[0;34m(\u001b[0m\u001b[0mbatch_A\u001b[0m\u001b[0;34m)\u001b[0m\u001b[0;34m\u001b[0m\u001b[0m\n",
      "\u001b[0;32m~/paraphrase_detection/code/data_loader.py\u001b[0m in \u001b[0;36mget_train_iterator\u001b[0;34m(self, batch_size)\u001b[0m\n\u001b[1;32m     85\u001b[0m                     \u001b[0mnum_batches_per_file\u001b[0m \u001b[0;34m=\u001b[0m \u001b[0;34m(\u001b[0m\u001b[0mlength\u001b[0m\u001b[0;34m-\u001b[0m\u001b[0;36m1\u001b[0m\u001b[0;34m)\u001b[0m\u001b[0;34m//\u001b[0m\u001b[0mbatch_size\u001b[0m \u001b[0;34m+\u001b[0m \u001b[0;36m1\u001b[0m\u001b[0;34m\u001b[0m\u001b[0m\n\u001b[1;32m     86\u001b[0m                     \u001b[0mA\u001b[0m\u001b[0;34m,\u001b[0m \u001b[0mB\u001b[0m\u001b[0;34m,\u001b[0m \u001b[0mlabels\u001b[0m \u001b[0;34m=\u001b[0m \u001b[0msplit_data\u001b[0m\u001b[0;34m(\u001b[0m\u001b[0mlines\u001b[0m\u001b[0;34m)\u001b[0m\u001b[0;34m\u001b[0m\u001b[0m\n\u001b[0;32m---> 87\u001b[0;31m                     \u001b[0mextracted_features\u001b[0m \u001b[0;34m=\u001b[0m \u001b[0mself\u001b[0m\u001b[0;34m.\u001b[0m\u001b[0mfeature_extractor\u001b[0m\u001b[0;34m.\u001b[0m\u001b[0mextract_features\u001b[0m\u001b[0;34m(\u001b[0m\u001b[0mA\u001b[0m\u001b[0;34m,\u001b[0m \u001b[0mB\u001b[0m\u001b[0;34m)\u001b[0m\u001b[0;34m\u001b[0m\u001b[0m\n\u001b[0m\u001b[1;32m     88\u001b[0m                     \u001b[0mA\u001b[0m\u001b[0;34m,\u001b[0m \u001b[0mA_lengths\u001b[0m \u001b[0;34m=\u001b[0m \u001b[0mzip\u001b[0m\u001b[0;34m(\u001b[0m\u001b[0;34m*\u001b[0m\u001b[0;34m[\u001b[0m\u001b[0mself\u001b[0m\u001b[0;34m.\u001b[0m\u001b[0mpreprocessor\u001b[0m\u001b[0;34m.\u001b[0m\u001b[0mpreprocess\u001b[0m\u001b[0;34m(\u001b[0m\u001b[0mline\u001b[0m\u001b[0;34m)\u001b[0m \u001b[0;32mfor\u001b[0m \u001b[0mline\u001b[0m \u001b[0;32min\u001b[0m \u001b[0mA\u001b[0m\u001b[0;34m]\u001b[0m\u001b[0;34m)\u001b[0m\u001b[0;34m\u001b[0m\u001b[0m\n\u001b[1;32m     89\u001b[0m                     \u001b[0mB\u001b[0m\u001b[0;34m,\u001b[0m \u001b[0mB_lengths\u001b[0m \u001b[0;34m=\u001b[0m \u001b[0mzip\u001b[0m\u001b[0;34m(\u001b[0m\u001b[0;34m*\u001b[0m\u001b[0;34m[\u001b[0m\u001b[0mself\u001b[0m\u001b[0;34m.\u001b[0m\u001b[0mpreprocessor\u001b[0m\u001b[0;34m.\u001b[0m\u001b[0mpreprocess\u001b[0m\u001b[0;34m(\u001b[0m\u001b[0mline\u001b[0m\u001b[0;34m)\u001b[0m \u001b[0;32mfor\u001b[0m \u001b[0mline\u001b[0m \u001b[0;32min\u001b[0m \u001b[0mB\u001b[0m\u001b[0;34m]\u001b[0m\u001b[0;34m)\u001b[0m\u001b[0;34m\u001b[0m\u001b[0m\n",
      "\u001b[0;32m~/paraphrase_detection/code/data_loader.py\u001b[0m in \u001b[0;36mextract_features\u001b[0;34m(self, A, B)\u001b[0m\n\u001b[1;32m    148\u001b[0m         \u001b[0mextracted_features\u001b[0m \u001b[0;34m=\u001b[0m \u001b[0mlist\u001b[0m\u001b[0;34m(\u001b[0m\u001b[0;34m)\u001b[0m\u001b[0;34m\u001b[0m\u001b[0m\n\u001b[1;32m    149\u001b[0m         \u001b[0;32mfor\u001b[0m \u001b[0ma\u001b[0m\u001b[0;34m,\u001b[0m \u001b[0mb\u001b[0m \u001b[0;32min\u001b[0m \u001b[0mzip\u001b[0m\u001b[0;34m(\u001b[0m\u001b[0mA\u001b[0m\u001b[0;34m,\u001b[0m \u001b[0mB\u001b[0m\u001b[0;34m)\u001b[0m\u001b[0;34m:\u001b[0m\u001b[0;34m\u001b[0m\u001b[0m\n\u001b[0;32m--> 150\u001b[0;31m             \u001b[0mls\u001b[0m \u001b[0;34m=\u001b[0m \u001b[0;34m[\u001b[0m\u001b[0mself\u001b[0m\u001b[0;34m.\u001b[0m\u001b[0mtokens_diff\u001b[0m\u001b[0;34m(\u001b[0m\u001b[0ma\u001b[0m\u001b[0;34m,\u001b[0m \u001b[0mb\u001b[0m\u001b[0;34m)\u001b[0m\u001b[0;34m,\u001b[0m \u001b[0mself\u001b[0m\u001b[0;34m.\u001b[0m\u001b[0medit_distance\u001b[0m\u001b[0;34m(\u001b[0m\u001b[0ma\u001b[0m\u001b[0;34m,\u001b[0m \u001b[0mb\u001b[0m\u001b[0;34m)\u001b[0m\u001b[0;34m]\u001b[0m\u001b[0;34m\u001b[0m\u001b[0m\n\u001b[0m\u001b[1;32m    151\u001b[0m             \u001b[0mextracted_features\u001b[0m\u001b[0;34m.\u001b[0m\u001b[0mappend\u001b[0m\u001b[0;34m(\u001b[0m\u001b[0mls\u001b[0m\u001b[0;34m)\u001b[0m\u001b[0;34m\u001b[0m\u001b[0m\n\u001b[1;32m    152\u001b[0m         \u001b[0;32mreturn\u001b[0m \u001b[0mextracted_features\u001b[0m\u001b[0;34m\u001b[0m\u001b[0m\n",
      "\u001b[0;32m~/paraphrase_detection/code/data_loader.py\u001b[0m in \u001b[0;36medit_distance\u001b[0;34m(self, a, b)\u001b[0m\n\u001b[1;32m    142\u001b[0m     \u001b[0;32mdef\u001b[0m \u001b[0medit_distance\u001b[0m\u001b[0;34m(\u001b[0m\u001b[0mself\u001b[0m\u001b[0;34m,\u001b[0m \u001b[0ma\u001b[0m\u001b[0;34m,\u001b[0m \u001b[0mb\u001b[0m\u001b[0;34m)\u001b[0m\u001b[0;34m:\u001b[0m\u001b[0;34m\u001b[0m\u001b[0m\n\u001b[1;32m    143\u001b[0m         \u001b[0ma_jamos\u001b[0m \u001b[0;34m=\u001b[0m \u001b[0mself\u001b[0m\u001b[0;34m.\u001b[0m\u001b[0mjamo_processor\u001b[0m\u001b[0;34m.\u001b[0m\u001b[0mword_to_jamo\u001b[0m\u001b[0;34m(\u001b[0m\u001b[0ma\u001b[0m\u001b[0;34m)\u001b[0m\u001b[0;34m.\u001b[0m\u001b[0mreplace\u001b[0m\u001b[0;34m(\u001b[0m\u001b[0;34m\"_\"\u001b[0m\u001b[0;34m,\u001b[0m \u001b[0;34m\"\"\u001b[0m\u001b[0;34m)\u001b[0m\u001b[0;34m\u001b[0m\u001b[0m\n\u001b[0;32m--> 144\u001b[0;31m         \u001b[0mb_jamos\u001b[0m \u001b[0;34m=\u001b[0m \u001b[0mself\u001b[0m\u001b[0;34m.\u001b[0m\u001b[0mjamo_processor\u001b[0m\u001b[0;34m.\u001b[0m\u001b[0mword_to_jamo\u001b[0m\u001b[0;34m(\u001b[0m\u001b[0mb\u001b[0m\u001b[0;34m)\u001b[0m\u001b[0;34m.\u001b[0m\u001b[0mreplace\u001b[0m\u001b[0;34m(\u001b[0m\u001b[0;34m\"_\"\u001b[0m\u001b[0;34m,\u001b[0m \u001b[0;34m\"\"\u001b[0m\u001b[0;34m)\u001b[0m\u001b[0;34m\u001b[0m\u001b[0m\n\u001b[0m\u001b[1;32m    145\u001b[0m         \u001b[0;32mreturn\u001b[0m \u001b[0meditdistance\u001b[0m\u001b[0;34m.\u001b[0m\u001b[0meval\u001b[0m\u001b[0;34m(\u001b[0m\u001b[0ma_jamos\u001b[0m\u001b[0;34m,\u001b[0m \u001b[0mb_jamos\u001b[0m\u001b[0;34m)\u001b[0m\u001b[0;34m\u001b[0m\u001b[0m\n\u001b[1;32m    146\u001b[0m \u001b[0;34m\u001b[0m\u001b[0m\n",
      "\u001b[0;32m~/paraphrase_detection/code/utils/utils.py\u001b[0m in \u001b[0;36mword_to_jamo\u001b[0;34m(self, word)\u001b[0m\n\u001b[1;32m     93\u001b[0m         \u001b[0ms\u001b[0m \u001b[0;34m=\u001b[0m \u001b[0;34m''\u001b[0m\u001b[0;34m\u001b[0m\u001b[0m\n\u001b[1;32m     94\u001b[0m         \u001b[0;32mfor\u001b[0m \u001b[0mchar\u001b[0m \u001b[0;32min\u001b[0m \u001b[0mword\u001b[0m\u001b[0;34m:\u001b[0m\u001b[0;34m\u001b[0m\u001b[0m\n\u001b[0;32m---> 95\u001b[0;31m             \u001b[0mjamo\u001b[0m \u001b[0;34m=\u001b[0m \u001b[0mself\u001b[0m\u001b[0;34m.\u001b[0m\u001b[0mcharacter_to_jamo\u001b[0m\u001b[0;34m(\u001b[0m\u001b[0mchar\u001b[0m\u001b[0;34m)\u001b[0m\u001b[0;34m\u001b[0m\u001b[0m\n\u001b[0m\u001b[1;32m     96\u001b[0m             \u001b[0;32mif\u001b[0m \u001b[0mlen\u001b[0m\u001b[0;34m(\u001b[0m\u001b[0mjamo\u001b[0m\u001b[0;34m)\u001b[0m \u001b[0;34m==\u001b[0m \u001b[0;36m3\u001b[0m \u001b[0;32mand\u001b[0m \u001b[0mjamo\u001b[0m\u001b[0;34m[\u001b[0m\u001b[0;36m2\u001b[0m\u001b[0;34m]\u001b[0m \u001b[0;34m==\u001b[0m \u001b[0;34m' '\u001b[0m\u001b[0;34m:\u001b[0m\u001b[0;34m\u001b[0m\u001b[0m\n\u001b[1;32m     97\u001b[0m                 \u001b[0mjamo\u001b[0m\u001b[0;34m[\u001b[0m\u001b[0;36m2\u001b[0m\u001b[0;34m]\u001b[0m \u001b[0;34m=\u001b[0m \u001b[0;34m'_'\u001b[0m\u001b[0;34m\u001b[0m\u001b[0m\n",
      "\u001b[0;32m~/paraphrase_detection/code/utils/utils.py\u001b[0m in \u001b[0;36mcharacter_to_jamo\u001b[0;34m(self, c)\u001b[0m\n\u001b[1;32m    113\u001b[0m         \u001b[0mbase\u001b[0m \u001b[0;34m-=\u001b[0m \u001b[0mself\u001b[0m\u001b[0;34m.\u001b[0m\u001b[0m_KOR_BEGIN\u001b[0m\u001b[0;34m\u001b[0m\u001b[0m\n\u001b[1;32m    114\u001b[0m \u001b[0;34m\u001b[0m\u001b[0m\n\u001b[0;32m--> 115\u001b[0;31m         \u001b[0mcho\u001b[0m \u001b[0;34m=\u001b[0m \u001b[0mbase\u001b[0m \u001b[0;34m//\u001b[0m \u001b[0mself\u001b[0m\u001b[0;34m.\u001b[0m\u001b[0m_CHOSUNG_BASE\u001b[0m\u001b[0;34m\u001b[0m\u001b[0m\n\u001b[0m\u001b[1;32m    116\u001b[0m         \u001b[0mjung\u001b[0m \u001b[0;34m=\u001b[0m \u001b[0;34m(\u001b[0m\u001b[0mbase\u001b[0m \u001b[0;34m-\u001b[0m \u001b[0mcho\u001b[0m \u001b[0;34m*\u001b[0m \u001b[0mself\u001b[0m\u001b[0;34m.\u001b[0m\u001b[0m_CHOSUNG_BASE\u001b[0m\u001b[0;34m)\u001b[0m \u001b[0;34m//\u001b[0m \u001b[0mself\u001b[0m\u001b[0;34m.\u001b[0m\u001b[0m_JUNGSUNG_BASE\u001b[0m\u001b[0;34m\u001b[0m\u001b[0m\n\u001b[1;32m    117\u001b[0m         \u001b[0mjong\u001b[0m \u001b[0;34m=\u001b[0m \u001b[0;34m(\u001b[0m\u001b[0mbase\u001b[0m \u001b[0;34m-\u001b[0m \u001b[0mcho\u001b[0m \u001b[0;34m*\u001b[0m \u001b[0mself\u001b[0m\u001b[0;34m.\u001b[0m\u001b[0m_CHOSUNG_BASE\u001b[0m \u001b[0;34m-\u001b[0m \u001b[0mjung\u001b[0m \u001b[0;34m*\u001b[0m \u001b[0mself\u001b[0m\u001b[0;34m.\u001b[0m\u001b[0m_JUNGSUNG_BASE\u001b[0m\u001b[0;34m)\u001b[0m\u001b[0;34m\u001b[0m\u001b[0m\n",
      "\u001b[0;31mKeyboardInterrupt\u001b[0m: "
     ]
    }
   ],
   "source": [
    "trainer.train()"
   ]
  },
  {
   "cell_type": "code",
   "execution_count": 10,
   "metadata": {},
   "outputs": [],
   "source": [
    "import os"
   ]
  },
  {
   "cell_type": "code",
   "execution_count": 11,
   "metadata": {},
   "outputs": [],
   "source": [
    "os.environ['CUDA_VISIBLE_DEVICES']=\"1\""
   ]
  },
  {
   "cell_type": "code",
   "execution_count": 13,
   "metadata": {},
   "outputs": [
    {
     "name": "stderr",
     "output_type": "stream",
     "text": [
      "\u001b[32m[23:28:09][INFO] Building train graph... \u001b[0m\n"
     ]
    },
    {
     "name": "stdout",
     "output_type": "stream",
     "text": [
      "Pre-trained embedding loaded. Number of OOV : 5272 / 90000\n"
     ]
    },
    {
     "name": "stderr",
     "output_type": "stream",
     "text": [
      "\u001b[32m[23:28:16][INFO] Loading checkpoint from /media/scatter/scatterdisk/paraphrase_detection/runs/start/ \u001b[0m\n",
      "\u001b[31m[23:28:16][ERROR] No checkpoint found in /media/scatter/scatterdisk/paraphrase_detection/runs/start/ \u001b[0m\n"
     ]
    }
   ],
   "source": [
    "infer_model, infer_sess = trainer.build_graph(name=\"train\")"
   ]
  },
  {
   "cell_type": "code",
   "execution_count": null,
   "metadata": {},
   "outputs": [],
   "source": [
    "infer_model.load(infer_sess, model_dir = \"/media/scatter/scatterdisk/paraphrase_detection/runs/start/best_loss/best_loss.ckpt\")"
   ]
  },
  {
   "cell_type": "code",
   "execution_count": 38,
   "metadata": {},
   "outputs": [],
   "source": [
    "val_iterator = data.get_val_iterator(config.batch_size)"
   ]
  },
  {
   "cell_type": "code",
   "execution_count": 39,
   "metadata": {},
   "outputs": [
    {
     "name": "stdout",
     "output_type": "stream",
     "text": [
      "0.5878539121240601\n"
     ]
    }
   ],
   "source": [
    "score = list()\n",
    "while True:\n",
    "    try:\n",
    "        batch_A, batch_B, batch_sentence_diff, batch_extra_features, labels = next(val_iterator)\n",
    "        feed_dict = {infer_model.input_A: batch_A,\n",
    "                 infer_model.input_B: batch_B,\n",
    "                 infer_model.sentence_vector_diff: batch_sentence_diff,\n",
    "                 infer_model.extra_features: batch_extra_features,\n",
    "                 infer_model.dropout_keep_prob: 1,\n",
    "                 infer_model.labels: [int(l) for l in labels]\n",
    "                }\n",
    "        predictions = infer_sess.run([infer_model.predictions], feed_dict=feed_dict)\n",
    "        score.append(np.mean(np.equal(predictions, np.expand_dims([int(l) for l in labels], -1))))\n",
    "    except:\n",
    "        print(np.mean(score))\n",
    "        break"
   ]
  },
  {
   "cell_type": "code",
   "execution_count": 24,
   "metadata": {},
   "outputs": [],
   "source": [
    "feed_dict = {infer_model.input_A: batch_A,\n",
    "             infer_model.input_B: batch_B,\n",
    "             infer_model.sentence_vector_diff: batch_sentence_diff,\n",
    "             infer_model.extra_features: batch_extra_features,\n",
    "             infer_model.dropout_keep_prob: 1,\n",
    "             infer_model.labels: [int(l) for l in labels]\n",
    "            }"
   ]
  },
  {
   "cell_type": "code",
   "execution_count": 25,
   "metadata": {},
   "outputs": [],
   "source": [
    "_, loss, score = infer_graph.run([infer_model.train_step, infer_model.loss, infer_model.score],\n",
    "                                     feed_dict=feed_dict)"
   ]
  },
  {
   "cell_type": "code",
   "execution_count": 28,
   "metadata": {},
   "outputs": [],
   "source": [
    "probs = infer_graph.run([infer_model.probs],\n",
    "                                     feed_dict=feed_dict)"
   ]
  },
  {
   "cell_type": "code",
   "execution_count": 30,
   "metadata": {},
   "outputs": [],
   "source": [
    "prediction = infer_graph.run([infer_model.predictions], feed_dict=feed_dict)"
   ]
  },
  {
   "cell_type": "code",
   "execution_count": 33,
   "metadata": {},
   "outputs": [],
   "source": [
    "labels = [int(l) for l in labels]"
   ]
  },
  {
   "cell_type": "code",
   "execution_count": 36,
   "metadata": {},
   "outputs": [],
   "source": [
    "labels = np.expand_dims(labels, -1)"
   ]
  },
  {
   "cell_type": "code",
   "execution_count": 38,
   "metadata": {},
   "outputs": [
    {
     "data": {
      "text/plain": [
       "0.85546875"
      ]
     },
     "execution_count": 38,
     "metadata": {},
     "output_type": "execute_result"
    }
   ],
   "source": [
    "np.mean(np.equal(prediction, labels))"
   ]
  },
  {
   "cell_type": "code",
   "execution_count": null,
   "metadata": {},
   "outputs": [],
   "source": []
  }
 ],
 "metadata": {
  "kernelspec": {
   "display_name": "angryenv",
   "language": "python",
   "name": "angryenv"
  },
  "language_info": {
   "codemirror_mode": {
    "name": "ipython",
    "version": 3
   },
   "file_extension": ".py",
   "mimetype": "text/x-python",
   "name": "python",
   "nbconvert_exporter": "python",
   "pygments_lexer": "ipython3",
   "version": "3.5.2"
  }
 },
 "nbformat": 4,
 "nbformat_minor": 2
}
