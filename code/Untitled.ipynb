{
 "cells": [
  {
   "cell_type": "code",
   "execution_count": 1,
   "metadata": {},
   "outputs": [],
   "source": [
    "import tensorflow as tf\n",
    "import numpy as np\n",
    "import argparse\n",
    "from datetime import datetime\n",
    "\n",
    "from data_loader import DataGenerator, ParaphraseDataGenerator\n",
    "\n",
    "from trainer import ParaphraseDetectionTrainer\n",
    "from preprocessor import DynamicPreprocessor\n",
    "from utils.dirs import create_dirs\n",
    "from utils.logger import SummaryWriter\n",
    "from utils.config import load_config, save_config\n",
    "from models.base import get_model\n",
    "from utils.utils import JamoProcessor"
   ]
  },
  {
   "cell_type": "code",
   "execution_count": 2,
   "metadata": {},
   "outputs": [],
   "source": [
    "import os\n",
    "os.environ['CUDA_VISIBLE_DEVICES']=\"1\""
   ]
  },
  {
   "cell_type": "code",
   "execution_count": 3,
   "metadata": {},
   "outputs": [],
   "source": [
    "import editdistance"
   ]
  },
  {
   "cell_type": "code",
   "execution_count": 4,
   "metadata": {},
   "outputs": [],
   "source": [
    "class Config:\n",
    "    def __init__(self):\n",
    "        self.mode = \"train\"\n",
    "        self.name = \"start3\"\n",
    "        self.config = \"\"\n",
    "        self.train_dir = \"/home/angrypark/paraphrase_detection/data/train/\"\n",
    "        self.val_dir = \"/home/angrypark/paraphrase_detection/data/small/test.txt\"\n",
    "        \n",
    "        self.pretrained_embed_dir = \"/media/scatter/scatterdisk/pretrained_embedding/fasttext.sent_piece_100K.256D\"\n",
    "        self.checkpoint_dir = \"/media/scatter/scatterdisk/paraphrase_detection/runs/\"\n",
    "        \n",
    "        self.model = \"DeepParaphrase\"\n",
    "        self.sent_piece_model = \"/media/scatter/scatterdisk/tokenizer/sent_piece.100K.model\"\n",
    "        self.normalizer = \"DummyNormalizer\"\n",
    "        self.tokenizer = \"DummyTokenizer\"\n",
    "        \n",
    "        self.vocab_size = 90000\n",
    "        self.vocab_list = \"/media/scatter/scatterdisk/pretrained_embedding/vocab_list.sent_piece_100K.txt\"\n",
    "        self.embed_dim = 256\n",
    "        \n",
    "        self.learning_rate = 1e-3\n",
    "        self.min_length = 1\n",
    "        self.max_length = 20\n",
    "        \n",
    "        self.dropout_keep_prob = 0.8\n",
    "        \n",
    "        self.num_epochs = 300\n",
    "        self.batch_size = 256\n",
    "        self.evaluate_every = 10000\n",
    "        self.save_every = 10000\n",
    "        self.max_to_keep = 4\n",
    "        \n",
    "        self.shuffle = True\n",
    "        self.extra_features_dim = 2\n",
    "\n",
    "config = Config()"
   ]
  },
  {
   "cell_type": "code",
   "execution_count": 5,
   "metadata": {},
   "outputs": [],
   "source": [
    "config = create_dirs(config)"
   ]
  },
  {
   "cell_type": "code",
   "execution_count": 6,
   "metadata": {},
   "outputs": [],
   "source": [
    "device_config = tf.ConfigProto()\n",
    "device_config.gpu_options.allow_growth = True\n",
    "sess = tf.Session(config=device_config)"
   ]
  },
  {
   "cell_type": "code",
   "execution_count": 7,
   "metadata": {},
   "outputs": [],
   "source": [
    "preprocessor = DynamicPreprocessor(config)"
   ]
  },
  {
   "cell_type": "code",
   "execution_count": 8,
   "metadata": {},
   "outputs": [
    {
     "name": "stdout",
     "output_type": "stream",
     "text": [
      "Pre-trained embedding loaded. Number of OOV : 5272 / 90000\n"
     ]
    },
    {
     "name": "stderr",
     "output_type": "stream",
     "text": [
      "/home/angrypark/angryenv/lib/python3.5/site-packages/tensorflow/python/ops/gradients_impl.py:100: UserWarning: Converting sparse IndexedSlices to a dense Tensor of unknown shape. This may consume a large amount of memory.\n",
      "  \"Converting sparse IndexedSlices to a dense Tensor of unknown shape. \"\n"
     ]
    },
    {
     "name": "stdout",
     "output_type": "stream",
     "text": [
      "INFO:tensorflow:Restoring parameters from /media/scatter/scatterdisk/reply_matching_model/runs/delstm_1024_nsrandom4_lr1e-3/best_loss/best_loss.ckpt\n"
     ]
    }
   ],
   "source": [
    "data = ParaphraseDataGenerator(preprocessor, config)\n",
    "summary_writer = SummaryWriter(sess, config)"
   ]
  },
  {
   "cell_type": "code",
   "execution_count": 9,
   "metadata": {},
   "outputs": [],
   "source": [
    "trainer = ParaphraseDetectionTrainer(sess, preprocessor, data, config, summary_writer)"
   ]
  },
  {
   "cell_type": "code",
   "execution_count": 10,
   "metadata": {},
   "outputs": [
    {
     "name": "stderr",
     "output_type": "stream",
     "text": [
      "\u001b[32m[20:18:10][INFO] Building train graph... \u001b[0m\n"
     ]
    },
    {
     "name": "stdout",
     "output_type": "stream",
     "text": [
      "Pre-trained embedding loaded. Number of OOV : 5272 / 90000\n"
     ]
    },
    {
     "name": "stderr",
     "output_type": "stream",
     "text": [
      "\u001b[32m[20:18:16][INFO] Loading checkpoint from /media/scatter/scatterdisk/paraphrase_detection/runs/start3/ \u001b[0m\n"
     ]
    },
    {
     "name": "stdout",
     "output_type": "stream",
     "text": [
      "INFO:tensorflow:Restoring parameters from /media/scatter/scatterdisk/paraphrase_detection/runs/start3/model.ckpt\n"
     ]
    },
    {
     "name": "stderr",
     "output_type": "stream",
     "text": [
      "\u001b[32m[20:18:16][INFO] Building val graph... \u001b[0m\n"
     ]
    },
    {
     "name": "stdout",
     "output_type": "stream",
     "text": [
      "Pre-trained embedding loaded. Number of OOV : 5272 / 90000\n"
     ]
    },
    {
     "name": "stderr",
     "output_type": "stream",
     "text": [
      "\u001b[33m[20:18:22][WARNING] =================================== Epoch 1 Start ! =================================== \u001b[0m\n",
      "100%|██████████| 1248/1248 [01:39<00:00, 12.52it/s]\n",
      "\u001b[33m[20:20:01][WARNING] =================================== Epoch 1 Done ! =================================== \u001b[0m\n"
     ]
    },
    {
     "name": "stdout",
     "output_type": "stream",
     "text": [
      "INFO:tensorflow:Restoring parameters from /media/scatter/scatterdisk/paraphrase_detection/runs/start3/model.ckpt\n"
     ]
    },
    {
     "name": "stderr",
     "output_type": "stream",
     "text": [
      "100%|██████████| 60/60 [00:03<00:00, 16.07it/s]\n",
      "\u001b[33m[20:20:09][WARNING] [Step 6241] Saving for best loss : 100000.00000 -> 0.61587 \u001b[0m\n",
      "\u001b[33m[20:20:11][WARNING] | Val loss : 0.6159 | Val accuracy : 0.0000  \u001b[0m\n",
      "\u001b[33m[20:20:11][WARNING] =================================== Epoch 2 Start ! =================================== \u001b[0m\n",
      "100%|██████████| 1248/1248 [01:37<00:00, 12.80it/s]\n",
      "\u001b[33m[20:21:48][WARNING] =================================== Epoch 2 Done ! =================================== \u001b[0m\n"
     ]
    },
    {
     "name": "stdout",
     "output_type": "stream",
     "text": [
      "INFO:tensorflow:Restoring parameters from /media/scatter/scatterdisk/paraphrase_detection/runs/start3/model.ckpt\n"
     ]
    },
    {
     "name": "stderr",
     "output_type": "stream",
     "text": [
      "100%|██████████| 60/60 [00:03<00:00, 16.25it/s]\n",
      "\u001b[33m[20:21:57][WARNING] [Step 7489] Saving for best loss : 0.61587 -> 0.58784 \u001b[0m\n",
      "\u001b[33m[20:22:00][WARNING] | Val loss : 0.5878 | Val accuracy : 0.0000  \u001b[0m\n",
      "\u001b[33m[20:22:00][WARNING] =================================== Epoch 3 Start ! =================================== \u001b[0m\n",
      "100%|██████████| 1248/1248 [01:38<00:00, 12.64it/s]\n",
      "\u001b[33m[20:23:39][WARNING] =================================== Epoch 3 Done ! =================================== \u001b[0m\n"
     ]
    },
    {
     "name": "stdout",
     "output_type": "stream",
     "text": [
      "INFO:tensorflow:Restoring parameters from /media/scatter/scatterdisk/paraphrase_detection/runs/start3/model.ckpt\n"
     ]
    },
    {
     "name": "stderr",
     "output_type": "stream",
     "text": [
      "100%|██████████| 60/60 [00:03<00:00, 15.80it/s]\n",
      "\u001b[33m[20:23:47][WARNING] | Val loss : 0.6032 | Val accuracy : 0.0000  \u001b[0m\n",
      "\u001b[33m[20:23:47][WARNING] =================================== Epoch 4 Start ! =================================== \u001b[0m\n",
      "100%|██████████| 1248/1248 [01:38<00:00, 12.70it/s]\n",
      "\u001b[33m[20:25:25][WARNING] =================================== Epoch 4 Done ! =================================== \u001b[0m\n"
     ]
    },
    {
     "name": "stdout",
     "output_type": "stream",
     "text": [
      "INFO:tensorflow:Restoring parameters from /media/scatter/scatterdisk/paraphrase_detection/runs/start3/model.ckpt\n"
     ]
    },
    {
     "name": "stderr",
     "output_type": "stream",
     "text": [
      "100%|██████████| 60/60 [00:03<00:00, 16.41it/s]\n",
      "\u001b[33m[20:25:33][WARNING] | Val loss : 0.6071 | Val accuracy : 0.0000  \u001b[0m\n",
      "\u001b[33m[20:25:33][WARNING] =================================== Epoch 5 Start ! =================================== \u001b[0m\n",
      "  1%|          | 13/1248 [00:21<34:28,  1.67s/it]"
     ]
    },
    {
     "name": "stdout",
     "output_type": "stream",
     "text": [
      "INFO:tensorflow:Restoring parameters from /media/scatter/scatterdisk/paraphrase_detection/runs/start3/model.ckpt\n"
     ]
    },
    {
     "name": "stderr",
     "output_type": "stream",
     "text": [
      "\n",
      "  0%|          | 0/60 [00:00<?, ?it/s]\u001b[A\n",
      "  2%|▏         | 1/60 [00:00<00:47,  1.24it/s]\u001b[A\n",
      "  5%|▌         | 3/60 [00:00<00:17,  3.28it/s]\u001b[A\n",
      "  8%|▊         | 5/60 [00:01<00:11,  4.92it/s]\u001b[A\n",
      " 13%|█▎        | 8/60 [00:01<00:07,  6.84it/s]\u001b[A\n",
      " 18%|█▊        | 11/60 [00:01<00:05,  8.41it/s]\u001b[A\n",
      " 23%|██▎       | 14/60 [00:01<00:04,  9.54it/s]\u001b[A\n",
      " 28%|██▊       | 17/60 [00:01<00:04, 10.62it/s]\u001b[A\n",
      " 33%|███▎      | 20/60 [00:01<00:03, 11.60it/s]\u001b[A\n",
      " 38%|███▊      | 23/60 [00:01<00:03, 12.26it/s]\u001b[A\n",
      " 43%|████▎     | 26/60 [00:02<00:02, 12.96it/s]\u001b[A\n",
      " 48%|████▊     | 29/60 [00:02<00:02, 13.49it/s]\u001b[A\n",
      " 53%|█████▎    | 32/60 [00:02<00:01, 14.05it/s]\u001b[A\n",
      " 58%|█████▊    | 35/60 [00:02<00:01, 14.41it/s]\u001b[A\n",
      " 63%|██████▎   | 38/60 [00:02<00:01, 14.88it/s]\u001b[A\n",
      " 68%|██████▊   | 41/60 [00:02<00:01, 15.28it/s]\u001b[A\n",
      " 73%|███████▎  | 44/60 [00:02<00:01, 15.53it/s]\u001b[A\n",
      " 78%|███████▊  | 47/60 [00:02<00:00, 15.78it/s]\u001b[A\n",
      " 83%|████████▎ | 50/60 [00:03<00:00, 16.07it/s]\u001b[A\n",
      " 88%|████████▊ | 53/60 [00:03<00:00, 16.36it/s]\u001b[A\n",
      " 93%|█████████▎| 56/60 [00:03<00:00, 16.55it/s]\u001b[A\n",
      " 98%|█████████▊| 59/60 [00:03<00:00, 16.77it/s]\u001b[A\n",
      "100%|██████████| 60/60 [00:03<00:00, 16.88it/s]\u001b[A\u001b[33m[20:26:02][WARNING] Epoch :  5 | Step :       15 | Train loss : 0.5769 | Train accuracy : 0.0000 | Val loss : 0.5925 | Val accuracy : 0.0000  \u001b[0m\n",
      "100%|██████████| 1248/1248 [01:46<00:00, 11.70it/s]\n",
      "\u001b[33m[20:27:19][WARNING] =================================== Epoch 5 Done ! =================================== \u001b[0m\n"
     ]
    },
    {
     "name": "stdout",
     "output_type": "stream",
     "text": [
      "INFO:tensorflow:Restoring parameters from /media/scatter/scatterdisk/paraphrase_detection/runs/start3/model.ckpt\n"
     ]
    },
    {
     "name": "stderr",
     "output_type": "stream",
     "text": [
      "100%|██████████| 60/60 [00:03<00:00, 15.73it/s]\n",
      "\u001b[33m[20:27:27][WARNING] | Val loss : 0.6428 | Val accuracy : 0.0000  \u001b[0m\n",
      "\u001b[33m[20:27:27][WARNING] =================================== Epoch 6 Start ! =================================== \u001b[0m\n",
      "100%|██████████| 1248/1248 [01:37<00:00, 12.74it/s]\n",
      "\u001b[33m[20:29:05][WARNING] =================================== Epoch 6 Done ! =================================== \u001b[0m\n"
     ]
    },
    {
     "name": "stdout",
     "output_type": "stream",
     "text": [
      "INFO:tensorflow:Restoring parameters from /media/scatter/scatterdisk/paraphrase_detection/runs/start3/model.ckpt\n"
     ]
    },
    {
     "name": "stderr",
     "output_type": "stream",
     "text": [
      "100%|██████████| 60/60 [00:03<00:00, 15.38it/s]\n",
      "\u001b[33m[20:29:13][WARNING] | Val loss : 0.6524 | Val accuracy : 0.0000  \u001b[0m\n",
      "\u001b[33m[20:29:13][WARNING] =================================== Epoch 7 Start ! =================================== \u001b[0m\n",
      "100%|██████████| 1248/1248 [01:37<00:00, 12.76it/s]\n",
      "\u001b[33m[20:30:51][WARNING] =================================== Epoch 7 Done ! =================================== \u001b[0m\n"
     ]
    },
    {
     "name": "stdout",
     "output_type": "stream",
     "text": [
      "INFO:tensorflow:Restoring parameters from /media/scatter/scatterdisk/paraphrase_detection/runs/start3/model.ckpt\n"
     ]
    },
    {
     "name": "stderr",
     "output_type": "stream",
     "text": [
      "100%|██████████| 60/60 [00:03<00:00, 16.16it/s]\n",
      "\u001b[33m[20:30:59][WARNING] | Val loss : 0.6296 | Val accuracy : 0.0000  \u001b[0m\n",
      "\u001b[33m[20:30:59][WARNING] =================================== Epoch 8 Start ! =================================== \u001b[0m\n",
      "100%|██████████| 1248/1248 [01:38<00:00, 12.69it/s]\n",
      "\u001b[33m[20:32:37][WARNING] =================================== Epoch 8 Done ! =================================== \u001b[0m\n"
     ]
    },
    {
     "name": "stdout",
     "output_type": "stream",
     "text": [
      "INFO:tensorflow:Restoring parameters from /media/scatter/scatterdisk/paraphrase_detection/runs/start3/model.ckpt\n"
     ]
    },
    {
     "name": "stderr",
     "output_type": "stream",
     "text": [
      "100%|██████████| 60/60 [00:03<00:00, 16.60it/s]\n",
      "\u001b[33m[20:32:45][WARNING] | Val loss : 0.6337 | Val accuracy : 0.0000  \u001b[0m\n",
      "\u001b[33m[20:32:45][WARNING] =================================== Epoch 9 Start ! =================================== \u001b[0m\n",
      "100%|██████████| 1248/1248 [01:38<00:00, 12.66it/s]\n",
      "\u001b[33m[20:34:23][WARNING] =================================== Epoch 9 Done ! =================================== \u001b[0m\n"
     ]
    },
    {
     "name": "stdout",
     "output_type": "stream",
     "text": [
      "INFO:tensorflow:Restoring parameters from /media/scatter/scatterdisk/paraphrase_detection/runs/start3/model.ckpt\n"
     ]
    },
    {
     "name": "stderr",
     "output_type": "stream",
     "text": [
      "100%|██████████| 60/60 [00:03<00:00, 15.33it/s]\n",
      "\u001b[33m[20:34:32][WARNING] | Val loss : 0.6674 | Val accuracy : 0.0000  \u001b[0m\n",
      "\u001b[33m[20:34:32][WARNING] =================================== Epoch 10 Start ! =================================== \u001b[0m\n",
      "100%|██████████| 1248/1248 [01:42<00:00, 12.20it/s]\n",
      "\u001b[33m[20:36:14][WARNING] =================================== Epoch 10 Done ! =================================== \u001b[0m\n"
     ]
    },
    {
     "name": "stdout",
     "output_type": "stream",
     "text": [
      "INFO:tensorflow:Restoring parameters from /media/scatter/scatterdisk/paraphrase_detection/runs/start3/model.ckpt\n"
     ]
    },
    {
     "name": "stderr",
     "output_type": "stream",
     "text": [
      "100%|██████████| 60/60 [00:04<00:00, 14.93it/s]\n",
      "\u001b[33m[20:36:23][WARNING] | Val loss : 0.7448 | Val accuracy : 0.0000  \u001b[0m\n",
      "\u001b[33m[20:36:23][WARNING] =================================== Epoch 11 Start ! =================================== \u001b[0m\n",
      "  3%|▎         | 39/1248 [00:23<12:15,  1.64it/s]"
     ]
    },
    {
     "ename": "KeyboardInterrupt",
     "evalue": "",
     "output_type": "error",
     "traceback": [
      "\u001b[0;31m---------------------------------------------------------------------------\u001b[0m",
      "\u001b[0;31mKeyboardInterrupt\u001b[0m                         Traceback (most recent call last)",
      "\u001b[0;32m<ipython-input-10-3435b262f1ae>\u001b[0m in \u001b[0;36m<module>\u001b[0;34m()\u001b[0m\n\u001b[0;32m----> 1\u001b[0;31m \u001b[0mtrainer\u001b[0m\u001b[0;34m.\u001b[0m\u001b[0mtrain\u001b[0m\u001b[0;34m(\u001b[0m\u001b[0;34m)\u001b[0m\u001b[0;34m\u001b[0m\u001b[0m\n\u001b[0m",
      "\u001b[0;32m~/paraphrase_detection/code/trainer.py\u001b[0m in \u001b[0;36mtrain\u001b[0;34m(self)\u001b[0m\n\u001b[1;32m    140\u001b[0m                 \u001b[0;31m#     continue\u001b[0m\u001b[0;34m\u001b[0m\u001b[0;34m\u001b[0m\u001b[0m\n\u001b[1;32m    141\u001b[0m \u001b[0;34m\u001b[0m\u001b[0m\n\u001b[0;32m--> 142\u001b[0;31m                 \u001b[0mloss\u001b[0m\u001b[0;34m,\u001b[0m \u001b[0mscore\u001b[0m\u001b[0;34m,\u001b[0m \u001b[0mcur_batch_length\u001b[0m \u001b[0;34m=\u001b[0m \u001b[0mself\u001b[0m\u001b[0;34m.\u001b[0m\u001b[0mtrain_step\u001b[0m\u001b[0;34m(\u001b[0m\u001b[0mtrain_model\u001b[0m\u001b[0;34m,\u001b[0m \u001b[0mtrain_sess\u001b[0m\u001b[0;34m)\u001b[0m\u001b[0;34m\u001b[0m\u001b[0m\n\u001b[0m\u001b[1;32m    143\u001b[0m \u001b[0;34m\u001b[0m\u001b[0m\n\u001b[1;32m    144\u001b[0m                 \u001b[0;31m# increment global step\u001b[0m\u001b[0;34m\u001b[0m\u001b[0;34m\u001b[0m\u001b[0m\n",
      "\u001b[0;32m~/paraphrase_detection/code/trainer.py\u001b[0m in \u001b[0;36mtrain_step\u001b[0;34m(self, model, sess)\u001b[0m\n\u001b[1;32m     99\u001b[0m                     }\n\u001b[1;32m    100\u001b[0m         _, loss, score = sess.run([model.train_step, model.loss, model.score],\n\u001b[0;32m--> 101\u001b[0;31m                                      feed_dict=feed_dict)\n\u001b[0m\u001b[1;32m    102\u001b[0m \u001b[0;34m\u001b[0m\u001b[0m\n\u001b[1;32m    103\u001b[0m         \u001b[0;32mreturn\u001b[0m \u001b[0mloss\u001b[0m\u001b[0;34m,\u001b[0m \u001b[0mscore\u001b[0m\u001b[0;34m,\u001b[0m \u001b[0mcur_batch_length\u001b[0m\u001b[0;34m\u001b[0m\u001b[0m\n",
      "\u001b[0;32m~/angryenv/lib/python3.5/site-packages/tensorflow/python/client/session.py\u001b[0m in \u001b[0;36mrun\u001b[0;34m(self, fetches, feed_dict, options, run_metadata)\u001b[0m\n\u001b[1;32m    898\u001b[0m     \u001b[0;32mtry\u001b[0m\u001b[0;34m:\u001b[0m\u001b[0;34m\u001b[0m\u001b[0m\n\u001b[1;32m    899\u001b[0m       result = self._run(None, fetches, feed_dict, options_ptr,\n\u001b[0;32m--> 900\u001b[0;31m                          run_metadata_ptr)\n\u001b[0m\u001b[1;32m    901\u001b[0m       \u001b[0;32mif\u001b[0m \u001b[0mrun_metadata\u001b[0m\u001b[0;34m:\u001b[0m\u001b[0;34m\u001b[0m\u001b[0m\n\u001b[1;32m    902\u001b[0m         \u001b[0mproto_data\u001b[0m \u001b[0;34m=\u001b[0m \u001b[0mtf_session\u001b[0m\u001b[0;34m.\u001b[0m\u001b[0mTF_GetBuffer\u001b[0m\u001b[0;34m(\u001b[0m\u001b[0mrun_metadata_ptr\u001b[0m\u001b[0;34m)\u001b[0m\u001b[0;34m\u001b[0m\u001b[0m\n",
      "\u001b[0;32m~/angryenv/lib/python3.5/site-packages/tensorflow/python/client/session.py\u001b[0m in \u001b[0;36m_run\u001b[0;34m(self, handle, fetches, feed_dict, options, run_metadata)\u001b[0m\n\u001b[1;32m   1133\u001b[0m     \u001b[0;32mif\u001b[0m \u001b[0mfinal_fetches\u001b[0m \u001b[0;32mor\u001b[0m \u001b[0mfinal_targets\u001b[0m \u001b[0;32mor\u001b[0m \u001b[0;34m(\u001b[0m\u001b[0mhandle\u001b[0m \u001b[0;32mand\u001b[0m \u001b[0mfeed_dict_tensor\u001b[0m\u001b[0;34m)\u001b[0m\u001b[0;34m:\u001b[0m\u001b[0;34m\u001b[0m\u001b[0m\n\u001b[1;32m   1134\u001b[0m       results = self._do_run(handle, final_targets, final_fetches,\n\u001b[0;32m-> 1135\u001b[0;31m                              feed_dict_tensor, options, run_metadata)\n\u001b[0m\u001b[1;32m   1136\u001b[0m     \u001b[0;32melse\u001b[0m\u001b[0;34m:\u001b[0m\u001b[0;34m\u001b[0m\u001b[0m\n\u001b[1;32m   1137\u001b[0m       \u001b[0mresults\u001b[0m \u001b[0;34m=\u001b[0m \u001b[0;34m[\u001b[0m\u001b[0;34m]\u001b[0m\u001b[0;34m\u001b[0m\u001b[0m\n",
      "\u001b[0;32m~/angryenv/lib/python3.5/site-packages/tensorflow/python/client/session.py\u001b[0m in \u001b[0;36m_do_run\u001b[0;34m(self, handle, target_list, fetch_list, feed_dict, options, run_metadata)\u001b[0m\n\u001b[1;32m   1314\u001b[0m     \u001b[0;32mif\u001b[0m \u001b[0mhandle\u001b[0m \u001b[0;32mis\u001b[0m \u001b[0;32mNone\u001b[0m\u001b[0;34m:\u001b[0m\u001b[0;34m\u001b[0m\u001b[0m\n\u001b[1;32m   1315\u001b[0m       return self._do_call(_run_fn, feeds, fetches, targets, options,\n\u001b[0;32m-> 1316\u001b[0;31m                            run_metadata)\n\u001b[0m\u001b[1;32m   1317\u001b[0m     \u001b[0;32melse\u001b[0m\u001b[0;34m:\u001b[0m\u001b[0;34m\u001b[0m\u001b[0m\n\u001b[1;32m   1318\u001b[0m       \u001b[0;32mreturn\u001b[0m \u001b[0mself\u001b[0m\u001b[0;34m.\u001b[0m\u001b[0m_do_call\u001b[0m\u001b[0;34m(\u001b[0m\u001b[0m_prun_fn\u001b[0m\u001b[0;34m,\u001b[0m \u001b[0mhandle\u001b[0m\u001b[0;34m,\u001b[0m \u001b[0mfeeds\u001b[0m\u001b[0;34m,\u001b[0m \u001b[0mfetches\u001b[0m\u001b[0;34m)\u001b[0m\u001b[0;34m\u001b[0m\u001b[0m\n",
      "\u001b[0;32m~/angryenv/lib/python3.5/site-packages/tensorflow/python/client/session.py\u001b[0m in \u001b[0;36m_do_call\u001b[0;34m(self, fn, *args)\u001b[0m\n\u001b[1;32m   1320\u001b[0m   \u001b[0;32mdef\u001b[0m \u001b[0m_do_call\u001b[0m\u001b[0;34m(\u001b[0m\u001b[0mself\u001b[0m\u001b[0;34m,\u001b[0m \u001b[0mfn\u001b[0m\u001b[0;34m,\u001b[0m \u001b[0;34m*\u001b[0m\u001b[0margs\u001b[0m\u001b[0;34m)\u001b[0m\u001b[0;34m:\u001b[0m\u001b[0;34m\u001b[0m\u001b[0m\n\u001b[1;32m   1321\u001b[0m     \u001b[0;32mtry\u001b[0m\u001b[0;34m:\u001b[0m\u001b[0;34m\u001b[0m\u001b[0m\n\u001b[0;32m-> 1322\u001b[0;31m       \u001b[0;32mreturn\u001b[0m \u001b[0mfn\u001b[0m\u001b[0;34m(\u001b[0m\u001b[0;34m*\u001b[0m\u001b[0margs\u001b[0m\u001b[0;34m)\u001b[0m\u001b[0;34m\u001b[0m\u001b[0m\n\u001b[0m\u001b[1;32m   1323\u001b[0m     \u001b[0;32mexcept\u001b[0m \u001b[0merrors\u001b[0m\u001b[0;34m.\u001b[0m\u001b[0mOpError\u001b[0m \u001b[0;32mas\u001b[0m \u001b[0me\u001b[0m\u001b[0;34m:\u001b[0m\u001b[0;34m\u001b[0m\u001b[0m\n\u001b[1;32m   1324\u001b[0m       \u001b[0mmessage\u001b[0m \u001b[0;34m=\u001b[0m \u001b[0mcompat\u001b[0m\u001b[0;34m.\u001b[0m\u001b[0mas_text\u001b[0m\u001b[0;34m(\u001b[0m\u001b[0me\u001b[0m\u001b[0;34m.\u001b[0m\u001b[0mmessage\u001b[0m\u001b[0;34m)\u001b[0m\u001b[0;34m\u001b[0m\u001b[0m\n",
      "\u001b[0;32m~/angryenv/lib/python3.5/site-packages/tensorflow/python/client/session.py\u001b[0m in \u001b[0;36m_run_fn\u001b[0;34m(feed_dict, fetch_list, target_list, options, run_metadata)\u001b[0m\n\u001b[1;32m   1305\u001b[0m       \u001b[0mself\u001b[0m\u001b[0;34m.\u001b[0m\u001b[0m_extend_graph\u001b[0m\u001b[0;34m(\u001b[0m\u001b[0;34m)\u001b[0m\u001b[0;34m\u001b[0m\u001b[0m\n\u001b[1;32m   1306\u001b[0m       return self._call_tf_sessionrun(\n\u001b[0;32m-> 1307\u001b[0;31m           options, feed_dict, fetch_list, target_list, run_metadata)\n\u001b[0m\u001b[1;32m   1308\u001b[0m \u001b[0;34m\u001b[0m\u001b[0m\n\u001b[1;32m   1309\u001b[0m     \u001b[0;32mdef\u001b[0m \u001b[0m_prun_fn\u001b[0m\u001b[0;34m(\u001b[0m\u001b[0mhandle\u001b[0m\u001b[0;34m,\u001b[0m \u001b[0mfeed_dict\u001b[0m\u001b[0;34m,\u001b[0m \u001b[0mfetch_list\u001b[0m\u001b[0;34m)\u001b[0m\u001b[0;34m:\u001b[0m\u001b[0;34m\u001b[0m\u001b[0m\n",
      "\u001b[0;32m~/angryenv/lib/python3.5/site-packages/tensorflow/python/client/session.py\u001b[0m in \u001b[0;36m_call_tf_sessionrun\u001b[0;34m(self, options, feed_dict, fetch_list, target_list, run_metadata)\u001b[0m\n\u001b[1;32m   1407\u001b[0m       return tf_session.TF_SessionRun_wrapper(\n\u001b[1;32m   1408\u001b[0m           \u001b[0mself\u001b[0m\u001b[0;34m.\u001b[0m\u001b[0m_session\u001b[0m\u001b[0;34m,\u001b[0m \u001b[0moptions\u001b[0m\u001b[0;34m,\u001b[0m \u001b[0mfeed_dict\u001b[0m\u001b[0;34m,\u001b[0m \u001b[0mfetch_list\u001b[0m\u001b[0;34m,\u001b[0m \u001b[0mtarget_list\u001b[0m\u001b[0;34m,\u001b[0m\u001b[0;34m\u001b[0m\u001b[0m\n\u001b[0;32m-> 1409\u001b[0;31m           run_metadata)\n\u001b[0m\u001b[1;32m   1410\u001b[0m     \u001b[0;32melse\u001b[0m\u001b[0;34m:\u001b[0m\u001b[0;34m\u001b[0m\u001b[0m\n\u001b[1;32m   1411\u001b[0m       \u001b[0;32mwith\u001b[0m \u001b[0merrors\u001b[0m\u001b[0;34m.\u001b[0m\u001b[0mraise_exception_on_not_ok_status\u001b[0m\u001b[0;34m(\u001b[0m\u001b[0;34m)\u001b[0m \u001b[0;32mas\u001b[0m \u001b[0mstatus\u001b[0m\u001b[0;34m:\u001b[0m\u001b[0;34m\u001b[0m\u001b[0m\n",
      "\u001b[0;31mKeyboardInterrupt\u001b[0m: "
     ]
    }
   ],
   "source": [
    "trainer.train()"
   ]
  },
  {
   "cell_type": "code",
   "execution_count": 11,
   "metadata": {},
   "outputs": [
    {
     "name": "stderr",
     "output_type": "stream",
     "text": [
      "\u001b[32m[20:36:51][INFO] Building train graph... \u001b[0m\n"
     ]
    },
    {
     "name": "stdout",
     "output_type": "stream",
     "text": [
      "Pre-trained embedding loaded. Number of OOV : 5272 / 90000\n"
     ]
    },
    {
     "name": "stderr",
     "output_type": "stream",
     "text": [
      "\u001b[32m[20:36:57][INFO] Loading checkpoint from /media/scatter/scatterdisk/paraphrase_detection/runs/start3/ \u001b[0m\n"
     ]
    },
    {
     "name": "stdout",
     "output_type": "stream",
     "text": [
      "INFO:tensorflow:Restoring parameters from /media/scatter/scatterdisk/paraphrase_detection/runs/start3/model.ckpt\n"
     ]
    }
   ],
   "source": [
    "infer_model, infer_sess = trainer.build_graph(name=\"train\")"
   ]
  },
  {
   "cell_type": "code",
   "execution_count": 12,
   "metadata": {},
   "outputs": [
    {
     "name": "stdout",
     "output_type": "stream",
     "text": [
      "INFO:tensorflow:Restoring parameters from /media/scatter/scatterdisk/paraphrase_detection/runs/start3/best_loss/best_loss.ckpt\n"
     ]
    },
    {
     "name": "stderr",
     "output_type": "stream",
     "text": [
      "  3%|▎         | 39/1248 [00:40<20:40,  1.03s/it]"
     ]
    }
   ],
   "source": [
    "infer_model.load(infer_sess, model_dir = \"/media/scatter/scatterdisk/paraphrase_detection/runs/start3/best_loss/best_loss.ckpt\")"
   ]
  },
  {
   "cell_type": "code",
   "execution_count": 16,
   "metadata": {},
   "outputs": [],
   "source": [
    "from collections import namedtuple\n",
    "from text.tokenizers import SentencePieceTokenizer"
   ]
  },
  {
   "cell_type": "code",
   "execution_count": 17,
   "metadata": {},
   "outputs": [],
   "source": [
    "Config = namedtuple(\"config\", [\"sent_piece_model\"])\n",
    "config = Config(\"/media/scatter/scatterdisk/tokenizer/sent_piece.100K.model\")\n",
    "processor = JamoProcessor()\n",
    "tokenizer = SentencePieceTokenizer(config)"
   ]
  },
  {
   "cell_type": "code",
   "execution_count": 24,
   "metadata": {},
   "outputs": [],
   "source": [
    "def infer(A, B):\n",
    "    probs = list()\n",
    "    A = [\" \".join(tokenizer.tokenize(a)) for a in A]\n",
    "    B = [\" \".join(tokenizer.tokenize(b)) for b in B]\n",
    "    extracted_features = data.feature_extractor.extract_features(A, B)\n",
    "    A, A_lengths = zip(*[data.preprocessor.preprocess(a) for a in A])\n",
    "    B, B_lengths = zip(*[data.preprocessor.preprocess(b) for b in B])\n",
    "    \n",
    "    length = len(A)\n",
    "    batch_size = 512\n",
    "    num_batches = (length-1)//batch_size + 1\n",
    "    \n",
    "    for batch_num in range(num_batches):\n",
    "        start = batch_num * batch_size\n",
    "        end = min([length, (batch_num+1) * batch_size])\n",
    "        batch_A, batch_B = A[start:end], B[start:end]\n",
    "        batch_A_lengths, batch_B_lengths = A_lengths[start:end], B_lengths[start:end]\n",
    "        batch_sentence_diff = data.get_sentence_diff(data.pretrained_model,\n",
    "                                                    data.pretrained_sess,\n",
    "                                                    batch_A, \n",
    "                                                    batch_B,\n",
    "                                                    batch_A_lengths,\n",
    "                                                    batch_B_lengths)\n",
    "        batch_extra_features = extracted_features[start:end]\n",
    "        \n",
    "        feed_dict = {infer_model.input_A: batch_A, \n",
    "                     infer_model.input_B: batch_B, \n",
    "                     infer_model.sentence_vector_diff: batch_sentence_diff,\n",
    "                     infer_model.extra_features: batch_extra_features,\n",
    "                     infer_model.dropout_keep_prob: 1}\n",
    "        batch_probs = infer_sess.run(infer_model.probs, feed_dict=feed_dict)\n",
    "        probs += [p[0] for p in batch_probs]\n",
    "    return probs"
   ]
  },
  {
   "cell_type": "code",
   "execution_count": 20,
   "metadata": {},
   "outputs": [],
   "source": [
    "with open(\"../data/test_queries.txt\", \"r\") as f:\n",
    "    _, test_queries = zip(*[line.strip().split(\"\\t\") for line in f])\n",
    "\n",
    "with open(\"../data/test_replies.txt\", \"r\") as f:\n",
    "    _, test_replies = zip(*[line.strip().split(\"\\t\") for line in f])"
   ]
  },
  {
   "cell_type": "code",
   "execution_count": 25,
   "metadata": {},
   "outputs": [],
   "source": [
    "with open(\"../data/small/test.txt\", \"r\") as f:\n",
    "    A, B, labels = zip(*[line.split(\"\\t\") for line in f])\n",
    "    labels = [1 if l==\"1\" else 0 for l in labels]"
   ]
  },
  {
   "cell_type": "code",
   "execution_count": 26,
   "metadata": {},
   "outputs": [],
   "source": [
    "probs = infer(A, B)"
   ]
  },
  {
   "cell_type": "code",
   "execution_count": 28,
   "metadata": {},
   "outputs": [],
   "source": [
    "predictions = [p>0.5 for p in probs]"
   ]
  },
  {
   "cell_type": "code",
   "execution_count": 30,
   "metadata": {},
   "outputs": [
    {
     "data": {
      "text/plain": [
       "0.6563367252543941"
      ]
     },
     "execution_count": 30,
     "metadata": {},
     "output_type": "execute_result"
    }
   ],
   "source": [
    "np.mean([p==y for p, y in zip(predictions, labels)])"
   ]
  },
  {
   "cell_type": "code",
   "execution_count": 31,
   "metadata": {},
   "outputs": [],
   "source": [
    "from tqdm import tqdm"
   ]
  },
  {
   "cell_type": "code",
   "execution_count": 32,
   "metadata": {},
   "outputs": [
    {
     "name": "stderr",
     "output_type": "stream",
     "text": [
      "\n",
      "  0%|          | 0/600 [00:00<?, ?it/s]\u001b[A\n",
      "  0%|          | 2/600 [00:00<00:37, 16.11it/s]\u001b[A\n",
      "  1%|          | 4/600 [00:00<00:36, 16.33it/s]\u001b[A\n",
      "  1%|          | 6/600 [00:00<00:37, 16.02it/s]\u001b[A\n",
      "  1%|▏         | 8/600 [00:00<00:38, 15.39it/s]\u001b[A\n",
      "  2%|▏         | 10/600 [00:00<00:36, 15.95it/s]\u001b[A\n",
      "  2%|▏         | 12/600 [00:00<00:36, 16.21it/s]\u001b[A\n",
      "  2%|▏         | 14/600 [00:00<00:36, 16.17it/s]\u001b[A\n",
      "  3%|▎         | 16/600 [00:01<00:37, 15.65it/s]\u001b[A\n",
      "  3%|▎         | 18/600 [00:01<00:38, 15.16it/s]\u001b[A\n",
      "  3%|▎         | 20/600 [00:01<00:39, 14.78it/s]\u001b[A\n",
      "  4%|▎         | 22/600 [00:01<00:39, 14.46it/s]\u001b[A\n",
      "  4%|▍         | 24/600 [00:01<00:39, 14.60it/s]\u001b[A\n",
      "  4%|▍         | 26/600 [00:01<00:39, 14.54it/s]\u001b[A\n",
      "  5%|▍         | 28/600 [00:01<00:39, 14.62it/s]\u001b[A\n",
      "  5%|▌         | 30/600 [00:02<00:38, 14.76it/s]\u001b[A\n",
      "  5%|▌         | 32/600 [00:02<00:38, 14.66it/s]\u001b[A\n",
      "  6%|▌         | 34/600 [00:02<00:38, 14.78it/s]\u001b[A\n",
      "  6%|▌         | 36/600 [00:02<00:38, 14.82it/s]\u001b[A\n",
      "  6%|▋         | 38/600 [00:02<00:38, 14.77it/s]\u001b[A\n",
      "  7%|▋         | 40/600 [00:02<00:38, 14.71it/s]\u001b[A\n",
      "  7%|▋         | 42/600 [00:02<00:38, 14.57it/s]\u001b[A\n",
      "  7%|▋         | 44/600 [00:03<00:37, 14.66it/s]\u001b[A\n",
      "  8%|▊         | 46/600 [00:03<00:37, 14.65it/s]\u001b[A\n",
      "  8%|▊         | 48/600 [00:03<00:37, 14.75it/s]\u001b[A\n",
      "  8%|▊         | 50/600 [00:03<00:37, 14.76it/s]\u001b[A\n",
      "  9%|▊         | 52/600 [00:03<00:37, 14.75it/s]\u001b[A\n",
      "  9%|▉         | 54/600 [00:03<00:36, 14.77it/s]\u001b[A\n",
      "  9%|▉         | 56/600 [00:03<00:36, 14.75it/s]\u001b[A\n",
      " 10%|▉         | 58/600 [00:03<00:36, 14.83it/s]\u001b[A\n",
      " 10%|█         | 60/600 [00:04<00:36, 14.73it/s]\u001b[A\n",
      " 10%|█         | 62/600 [00:04<00:36, 14.83it/s]\u001b[A\n",
      " 11%|█         | 64/600 [00:04<00:36, 14.76it/s]\u001b[A\n",
      " 11%|█         | 66/600 [00:04<00:35, 14.84it/s]\u001b[A\n",
      " 11%|█▏        | 68/600 [00:04<00:35, 14.87it/s]\u001b[A\n",
      " 12%|█▏        | 70/600 [00:04<00:35, 14.96it/s]\u001b[A\n",
      " 12%|█▏        | 72/600 [00:04<00:35, 14.92it/s]\u001b[A\n",
      " 12%|█▏        | 74/600 [00:04<00:35, 15.00it/s]\u001b[A\n",
      " 13%|█▎        | 76/600 [00:05<00:34, 15.06it/s]\u001b[A\n",
      " 13%|█▎        | 78/600 [00:05<00:34, 14.99it/s]\u001b[A\n",
      " 13%|█▎        | 80/600 [00:05<00:34, 15.01it/s]\u001b[A\n",
      " 14%|█▎        | 82/600 [00:05<00:34, 14.97it/s]\u001b[A\n",
      " 14%|█▍        | 84/600 [00:05<00:34, 15.00it/s]\u001b[A\n",
      " 14%|█▍        | 86/600 [00:05<00:34, 14.99it/s]\u001b[A\n",
      " 15%|█▍        | 88/600 [00:05<00:34, 14.99it/s]\u001b[A\n",
      " 15%|█▌        | 90/600 [00:06<00:34, 14.93it/s]\u001b[A\n",
      " 15%|█▌        | 92/600 [00:06<00:34, 14.88it/s]\u001b[A\n",
      " 16%|█▌        | 94/600 [00:06<00:33, 14.89it/s]\u001b[A\n",
      " 16%|█▌        | 96/600 [00:06<00:33, 14.86it/s]\u001b[A\n",
      " 16%|█▋        | 98/600 [00:06<00:33, 14.88it/s]\u001b[A\n",
      " 17%|█▋        | 100/600 [00:06<00:33, 14.79it/s]\u001b[A\n",
      " 17%|█▋        | 102/600 [00:06<00:33, 14.83it/s]\u001b[A\n",
      " 17%|█▋        | 104/600 [00:07<00:33, 14.81it/s]\u001b[A\n",
      " 18%|█▊        | 106/600 [00:07<00:33, 14.86it/s]\u001b[A\n",
      " 18%|█▊        | 108/600 [00:07<00:33, 14.86it/s]\u001b[A\n",
      " 18%|█▊        | 110/600 [00:07<00:32, 14.89it/s]\u001b[A\n",
      " 19%|█▊        | 112/600 [00:07<00:32, 14.89it/s]\u001b[A\n",
      " 19%|█▉        | 114/600 [00:07<00:32, 14.89it/s]\u001b[A\n",
      " 19%|█▉        | 116/600 [00:07<00:32, 14.88it/s]\u001b[A\n",
      " 20%|█▉        | 118/600 [00:07<00:32, 14.90it/s]\u001b[A\n",
      " 20%|██        | 120/600 [00:08<00:32, 14.85it/s]\u001b[A\n",
      " 20%|██        | 122/600 [00:08<00:32, 14.88it/s]\u001b[A\n",
      " 21%|██        | 124/600 [00:08<00:32, 14.87it/s]\u001b[A\n",
      " 21%|██        | 126/600 [00:08<00:31, 14.89it/s]\u001b[A\n",
      " 21%|██▏       | 128/600 [00:08<00:31, 14.85it/s]\u001b[A\n",
      " 22%|██▏       | 130/600 [00:08<00:31, 14.89it/s]\u001b[A\n",
      " 22%|██▏       | 132/600 [00:08<00:31, 14.86it/s]\u001b[A\n",
      " 22%|██▏       | 134/600 [00:09<00:31, 14.83it/s]\u001b[A\n",
      " 23%|██▎       | 136/600 [00:09<00:31, 14.80it/s]\u001b[A\n",
      " 23%|██▎       | 138/600 [00:09<00:31, 14.84it/s]\u001b[A\n",
      " 24%|██▎       | 141/600 [00:09<00:30, 14.88it/s]\u001b[A\n",
      " 24%|██▍       | 143/600 [00:09<00:30, 14.90it/s]\u001b[A\n",
      " 24%|██▍       | 145/600 [00:09<00:30, 14.92it/s]\u001b[A\n",
      " 24%|██▍       | 147/600 [00:09<00:30, 14.90it/s]\u001b[A\n",
      " 25%|██▌       | 150/600 [00:10<00:30, 14.98it/s]\u001b[A\n",
      " 25%|██▌       | 152/600 [00:10<00:29, 14.96it/s]\u001b[A\n",
      " 26%|██▌       | 154/600 [00:10<00:29, 15.00it/s]\u001b[A\n",
      " 26%|██▌       | 156/600 [00:10<00:29, 14.99it/s]\u001b[A\n",
      " 26%|██▋       | 158/600 [00:10<00:29, 15.01it/s]\u001b[A\n",
      " 27%|██▋       | 160/600 [00:10<00:29, 15.03it/s]\u001b[A\n",
      " 27%|██▋       | 162/600 [00:10<00:29, 15.04it/s]\u001b[A\n",
      " 27%|██▋       | 164/600 [00:10<00:29, 15.03it/s]\u001b[A\n",
      " 28%|██▊       | 166/600 [00:11<00:28, 15.01it/s]\u001b[A\n",
      " 28%|██▊       | 168/600 [00:11<00:28, 15.04it/s]\u001b[A\n",
      " 28%|██▊       | 170/600 [00:11<00:28, 15.04it/s]\u001b[A\n",
      " 29%|██▊       | 172/600 [00:11<00:28, 15.05it/s]\u001b[A\n",
      " 29%|██▉       | 174/600 [00:11<00:28, 14.99it/s]\u001b[A\n",
      " 29%|██▉       | 176/600 [00:11<00:28, 14.97it/s]\u001b[A\n",
      " 30%|██▉       | 178/600 [00:11<00:28, 15.00it/s]\u001b[A\n",
      " 30%|███       | 180/600 [00:12<00:28, 14.97it/s]\u001b[A\n",
      " 30%|███       | 182/600 [00:12<00:27, 14.99it/s]\u001b[A\n",
      " 31%|███       | 184/600 [00:12<00:27, 14.98it/s]\u001b[A\n",
      " 31%|███       | 186/600 [00:12<00:27, 15.01it/s]\u001b[A\n",
      " 31%|███▏      | 188/600 [00:12<00:27, 15.01it/s]\u001b[A\n",
      " 32%|███▏      | 190/600 [00:12<00:27, 15.00it/s]\u001b[A\n",
      " 32%|███▏      | 192/600 [00:12<00:27, 15.01it/s]\u001b[A\n",
      " 32%|███▏      | 194/600 [00:12<00:27, 15.02it/s]\u001b[A\n",
      " 33%|███▎      | 196/600 [00:13<00:26, 15.04it/s]\u001b[A\n",
      " 33%|███▎      | 198/600 [00:13<00:26, 15.05it/s]\u001b[A\n",
      " 33%|███▎      | 200/600 [00:13<00:26, 15.04it/s]\u001b[A\n",
      " 34%|███▎      | 202/600 [00:13<00:26, 15.06it/s]\u001b[A\n",
      " 34%|███▍      | 204/600 [00:13<00:26, 15.05it/s]\u001b[A\n",
      " 34%|███▍      | 206/600 [00:13<00:26, 15.07it/s]\u001b[A\n",
      " 35%|███▍      | 208/600 [00:13<00:25, 15.10it/s]\u001b[A\n",
      " 35%|███▌      | 210/600 [00:13<00:25, 15.07it/s]\u001b[A\n",
      " 35%|███▌      | 212/600 [00:14<00:25, 15.08it/s]\u001b[A\n",
      " 36%|███▌      | 214/600 [00:14<00:25, 15.06it/s]\u001b[A\n",
      " 36%|███▌      | 216/600 [00:14<00:25, 15.09it/s]\u001b[A\n",
      " 36%|███▋      | 218/600 [00:14<00:25, 15.10it/s]\u001b[A\n",
      " 37%|███▋      | 220/600 [00:14<00:25, 15.09it/s]\u001b[A\n",
      " 37%|███▋      | 222/600 [00:14<00:25, 15.11it/s]\u001b[A\n",
      " 37%|███▋      | 224/600 [00:14<00:24, 15.13it/s]\u001b[A\n",
      " 38%|███▊      | 226/600 [00:14<00:24, 15.12it/s]\u001b[A\n",
      " 38%|███▊      | 228/600 [00:15<00:24, 15.13it/s]\u001b[A\n",
      " 38%|███▊      | 230/600 [00:15<00:24, 15.13it/s]\u001b[A\n",
      " 39%|███▊      | 232/600 [00:15<00:24, 15.11it/s]\u001b[A\n",
      " 39%|███▉      | 234/600 [00:15<00:24, 15.08it/s]\u001b[A\n",
      " 39%|███▉      | 236/600 [00:15<00:24, 15.10it/s]\u001b[A\n",
      " 40%|███▉      | 238/600 [00:15<00:23, 15.10it/s]\u001b[A\n",
      " 40%|████      | 240/600 [00:15<00:23, 15.11it/s]\u001b[A\n",
      " 40%|████      | 242/600 [00:16<00:23, 15.12it/s]\u001b[A\n",
      " 41%|████      | 244/600 [00:16<00:23, 15.12it/s]\u001b[A\n",
      " 41%|████      | 246/600 [00:16<00:23, 15.10it/s]\u001b[A\n",
      " 41%|████▏     | 248/600 [00:16<00:23, 15.07it/s]\u001b[A\n",
      " 42%|████▏     | 250/600 [00:16<00:23, 15.05it/s]\u001b[A\n",
      " 42%|████▏     | 252/600 [00:16<00:23, 15.03it/s]\u001b[A\n",
      " 42%|████▏     | 254/600 [00:16<00:22, 15.05it/s]\u001b[A\n",
      " 43%|████▎     | 256/600 [00:16<00:22, 15.07it/s]\u001b[A\n",
      " 43%|████▎     | 258/600 [00:17<00:22, 15.05it/s]\u001b[A\n",
      " 43%|████▎     | 260/600 [00:17<00:22, 15.07it/s]\u001b[A\n",
      " 44%|████▎     | 262/600 [00:17<00:22, 15.05it/s]\u001b[A\n",
      " 44%|████▍     | 264/600 [00:17<00:22, 15.03it/s]\u001b[A\n",
      " 44%|████▍     | 266/600 [00:17<00:22, 15.03it/s]\u001b[A\n",
      " 45%|████▍     | 268/600 [00:18<00:22, 14.82it/s]\u001b[A\n",
      " 45%|████▌     | 270/600 [00:18<00:22, 14.83it/s]\u001b[A\n",
      " 45%|████▌     | 272/600 [00:18<00:22, 14.83it/s]\u001b[A\n",
      " 46%|████▌     | 274/600 [00:18<00:21, 14.85it/s]\u001b[A\n",
      " 46%|████▌     | 276/600 [00:18<00:21, 14.86it/s]\u001b[A\n",
      " 46%|████▋     | 278/600 [00:18<00:21, 14.85it/s]\u001b[A\n",
      " 47%|████▋     | 280/600 [00:18<00:21, 14.86it/s]\u001b[A\n",
      " 47%|████▋     | 282/600 [00:19<00:21, 14.84it/s]\u001b[A\n",
      " 47%|████▋     | 284/600 [00:19<00:21, 14.85it/s]\u001b[A\n",
      " 48%|████▊     | 286/600 [00:19<00:21, 14.86it/s]\u001b[A\n",
      " 48%|████▊     | 288/600 [00:19<00:20, 14.87it/s]\u001b[A\n",
      " 48%|████▊     | 290/600 [00:19<00:20, 14.88it/s]\u001b[A\n",
      " 49%|████▊     | 292/600 [00:19<00:20, 14.87it/s]\u001b[A\n",
      " 49%|████▉     | 294/600 [00:19<00:20, 14.85it/s]\u001b[A\n",
      " 49%|████▉     | 296/600 [00:19<00:20, 14.86it/s]\u001b[A\n",
      " 50%|████▉     | 298/600 [00:20<00:20, 14.86it/s]\u001b[A\n",
      " 50%|█████     | 300/600 [00:20<00:20, 14.87it/s]\u001b[A\n",
      " 50%|█████     | 302/600 [00:20<00:20, 14.85it/s]\u001b[A\n",
      " 51%|█████     | 304/600 [00:20<00:19, 14.86it/s]\u001b[A\n",
      " 51%|█████     | 306/600 [00:20<00:19, 14.86it/s]\u001b[A\n",
      " 51%|█████▏    | 308/600 [00:20<00:19, 14.86it/s]\u001b[A\n",
      " 52%|█████▏    | 310/600 [00:20<00:19, 14.86it/s]\u001b[A\n",
      " 52%|█████▏    | 312/600 [00:21<00:19, 14.86it/s]\u001b[A\n",
      " 52%|█████▏    | 314/600 [00:21<00:19, 14.87it/s]\u001b[A\n",
      " 53%|█████▎    | 316/600 [00:21<00:19, 14.85it/s]\u001b[A\n",
      " 53%|█████▎    | 318/600 [00:21<00:18, 14.88it/s]\u001b[A\n",
      " 53%|█████▎    | 320/600 [00:21<00:18, 14.87it/s]\u001b[A\n",
      " 54%|█████▎    | 322/600 [00:21<00:18, 14.87it/s]\u001b[A\n",
      " 54%|█████▍    | 324/600 [00:21<00:18, 14.88it/s]\u001b[A\n",
      " 54%|█████▍    | 326/600 [00:21<00:18, 14.88it/s]\u001b[A\n",
      " 55%|█████▍    | 328/600 [00:22<00:18, 14.88it/s]\u001b[A\n",
      " 55%|█████▌    | 330/600 [00:22<00:18, 14.87it/s]\u001b[A\n",
      " 55%|█████▌    | 332/600 [00:22<00:18, 14.88it/s]\u001b[A\n",
      " 56%|█████▌    | 334/600 [00:22<00:17, 14.89it/s]\u001b[A\n",
      " 56%|█████▌    | 336/600 [00:22<00:17, 14.88it/s]\u001b[A\n",
      " 56%|█████▋    | 338/600 [00:22<00:17, 14.88it/s]\u001b[A\n",
      " 57%|█████▋    | 340/600 [00:22<00:17, 14.87it/s]\u001b[A\n",
      " 57%|█████▋    | 342/600 [00:22<00:17, 14.88it/s]\u001b[A\n",
      " 57%|█████▋    | 344/600 [00:23<00:17, 14.86it/s]\u001b[A\n",
      " 58%|█████▊    | 346/600 [00:23<00:17, 14.85it/s]\u001b[A\n",
      " 58%|█████▊    | 348/600 [00:23<00:16, 14.84it/s]\u001b[A\n",
      " 58%|█████▊    | 350/600 [00:23<00:16, 14.84it/s]\u001b[A\n",
      " 59%|█████▊    | 352/600 [00:23<00:16, 14.86it/s]\u001b[A\n",
      " 59%|█████▉    | 354/600 [00:23<00:16, 14.85it/s]\u001b[A\n",
      " 59%|█████▉    | 356/600 [00:23<00:16, 14.84it/s]\u001b[A\n",
      " 60%|█████▉    | 358/600 [00:24<00:16, 14.83it/s]\u001b[A\n",
      " 60%|██████    | 360/600 [00:24<00:16, 14.82it/s]\u001b[A\n",
      " 60%|██████    | 362/600 [00:24<00:16, 14.81it/s]\u001b[A\n",
      " 61%|██████    | 364/600 [00:24<00:15, 14.82it/s]\u001b[A\n",
      " 61%|██████    | 366/600 [00:24<00:15, 14.82it/s]\u001b[A\n",
      " 61%|██████▏   | 368/600 [00:24<00:15, 14.82it/s]\u001b[A\n",
      " 62%|██████▏   | 370/600 [00:24<00:15, 14.83it/s]\u001b[A\n",
      " 62%|██████▏   | 372/600 [00:25<00:15, 14.81it/s]\u001b[A\n",
      " 62%|██████▏   | 374/600 [00:25<00:15, 14.83it/s]\u001b[A\n",
      " 63%|██████▎   | 376/600 [00:25<00:15, 14.85it/s]\u001b[A\n",
      " 63%|██████▎   | 378/600 [00:25<00:14, 14.82it/s]\u001b[A\n",
      " 63%|██████▎   | 380/600 [00:25<00:14, 14.79it/s]\u001b[A\n",
      " 64%|██████▎   | 382/600 [00:25<00:14, 14.78it/s]\u001b[A\n",
      " 64%|██████▍   | 384/600 [00:25<00:14, 14.78it/s]\u001b[A\n",
      " 64%|██████▍   | 386/600 [00:26<00:14, 14.73it/s]\u001b[A\n",
      " 65%|██████▍   | 388/600 [00:26<00:14, 14.72it/s]\u001b[A\n",
      " 65%|██████▌   | 390/600 [00:26<00:14, 14.73it/s]\u001b[A\n",
      " 65%|██████▌   | 392/600 [00:26<00:14, 14.72it/s]\u001b[A\n",
      " 66%|██████▌   | 394/600 [00:26<00:13, 14.73it/s]\u001b[A\n",
      " 66%|██████▌   | 396/600 [00:26<00:13, 14.73it/s]\u001b[A\n",
      " 66%|██████▋   | 398/600 [00:27<00:13, 14.72it/s]\u001b[A\n",
      " 67%|██████▋   | 400/600 [00:27<00:13, 14.73it/s]\u001b[A\n",
      " 67%|██████▋   | 402/600 [00:27<00:13, 14.73it/s]\u001b[A\n",
      " 67%|██████▋   | 404/600 [00:27<00:13, 14.75it/s]\u001b[A\n",
      " 68%|██████▊   | 406/600 [00:27<00:13, 14.73it/s]\u001b[A\n",
      " 68%|██████▊   | 408/600 [00:27<00:13, 14.73it/s]\u001b[A\n",
      " 68%|██████▊   | 410/600 [00:27<00:12, 14.73it/s]\u001b[A\n",
      " 69%|██████▊   | 412/600 [00:27<00:12, 14.73it/s]\u001b[A\n",
      " 69%|██████▉   | 414/600 [00:28<00:12, 14.74it/s]\u001b[A\n",
      " 69%|██████▉   | 416/600 [00:28<00:12, 14.74it/s]\u001b[A\n",
      " 70%|██████▉   | 418/600 [00:28<00:12, 14.75it/s]\u001b[A\n",
      " 70%|███████   | 420/600 [00:28<00:12, 14.74it/s]\u001b[A\n",
      " 70%|███████   | 422/600 [00:28<00:12, 14.76it/s]\u001b[A\n",
      " 71%|███████   | 424/600 [00:28<00:11, 14.75it/s]\u001b[A\n",
      " 71%|███████   | 426/600 [00:28<00:11, 14.76it/s]\u001b[A\n",
      " 71%|███████▏  | 428/600 [00:28<00:11, 14.77it/s]\u001b[A\n",
      " 72%|███████▏  | 430/600 [00:29<00:11, 14.73it/s]\u001b[A\n",
      " 72%|███████▏  | 432/600 [00:29<00:11, 14.74it/s]\u001b[A\n",
      " 72%|███████▏  | 434/600 [00:29<00:11, 14.74it/s]\u001b[A\n",
      " 73%|███████▎  | 436/600 [00:29<00:11, 14.75it/s]\u001b[A\n",
      " 73%|███████▎  | 438/600 [00:29<00:10, 14.75it/s]\u001b[A\n",
      " 73%|███████▎  | 440/600 [00:29<00:10, 14.75it/s]\u001b[A\n",
      " 74%|███████▎  | 442/600 [00:29<00:10, 14.74it/s]\u001b[A\n",
      " 74%|███████▍  | 444/600 [00:30<00:10, 14.74it/s]\u001b[A\n",
      " 74%|███████▍  | 446/600 [00:30<00:10, 14.74it/s]\u001b[A\n",
      " 75%|███████▍  | 448/600 [00:30<00:10, 14.74it/s]\u001b[A\n",
      " 75%|███████▌  | 450/600 [00:30<00:10, 14.75it/s]\u001b[A\n",
      " 75%|███████▌  | 452/600 [00:30<00:10, 14.74it/s]\u001b[A\n",
      " 76%|███████▌  | 454/600 [00:30<00:09, 14.75it/s]\u001b[A\n",
      " 76%|███████▌  | 456/600 [00:30<00:09, 14.74it/s]\u001b[A\n",
      " 76%|███████▋  | 458/600 [00:31<00:09, 14.74it/s]\u001b[A\n",
      " 77%|███████▋  | 460/600 [00:31<00:09, 14.74it/s]\u001b[A\n",
      " 77%|███████▋  | 462/600 [00:31<00:09, 14.75it/s]\u001b[A\n",
      " 77%|███████▋  | 464/600 [00:31<00:09, 14.76it/s]\u001b[A\n",
      " 78%|███████▊  | 466/600 [00:31<00:09, 14.75it/s]\u001b[A\n",
      " 78%|███████▊  | 468/600 [00:31<00:08, 14.76it/s]\u001b[A\n",
      " 78%|███████▊  | 470/600 [00:31<00:08, 14.75it/s]\u001b[A\n",
      " 79%|███████▊  | 472/600 [00:31<00:08, 14.76it/s]\u001b[A\n",
      " 79%|███████▉  | 474/600 [00:32<00:08, 14.74it/s]\u001b[A\n",
      " 79%|███████▉  | 476/600 [00:32<00:08, 14.74it/s]\u001b[A\n",
      " 80%|███████▉  | 478/600 [00:32<00:08, 14.75it/s]\u001b[A\n",
      " 80%|████████  | 480/600 [00:32<00:08, 14.74it/s]\u001b[A\n",
      " 80%|████████  | 482/600 [00:32<00:08, 14.75it/s]\u001b[A\n",
      " 81%|████████  | 484/600 [00:32<00:07, 14.75it/s]\u001b[A\n",
      " 81%|████████  | 486/600 [00:32<00:07, 14.76it/s]\u001b[A\n",
      " 81%|████████▏ | 488/600 [00:33<00:07, 14.75it/s]\u001b[A\n",
      " 82%|████████▏ | 490/600 [00:33<00:07, 14.75it/s]\u001b[A\n",
      " 82%|████████▏ | 492/600 [00:33<00:07, 14.76it/s]\u001b[A\n",
      " 82%|████████▏ | 494/600 [00:33<00:07, 14.75it/s]\u001b[A\n",
      " 83%|████████▎ | 496/600 [00:33<00:07, 14.76it/s]\u001b[A\n",
      " 83%|████████▎ | 498/600 [00:33<00:06, 14.77it/s]\u001b[A\n",
      " 83%|████████▎ | 500/600 [00:33<00:06, 14.77it/s]\u001b[A\n",
      " 84%|████████▎ | 502/600 [00:33<00:06, 14.78it/s]\u001b[A\n",
      " 84%|████████▍ | 504/600 [00:34<00:06, 14.77it/s]\u001b[A\n",
      " 84%|████████▍ | 506/600 [00:34<00:06, 14.76it/s]\u001b[A\n",
      " 85%|████████▍ | 508/600 [00:34<00:06, 14.76it/s]\u001b[A\n",
      " 85%|████████▌ | 510/600 [00:34<00:06, 14.77it/s]\u001b[A\n",
      " 85%|████████▌ | 512/600 [00:34<00:05, 14.76it/s]\u001b[A\n",
      " 86%|████████▌ | 514/600 [00:34<00:05, 14.74it/s]\u001b[A\n",
      " 86%|████████▌ | 516/600 [00:35<00:05, 14.74it/s]\u001b[A\n",
      " 86%|████████▋ | 518/600 [00:35<00:05, 14.74it/s]\u001b[A\n",
      " 87%|████████▋ | 520/600 [00:35<00:05, 14.74it/s]\u001b[A\n",
      " 87%|████████▋ | 522/600 [00:35<00:05, 14.74it/s]\u001b[A\n",
      " 87%|████████▋ | 524/600 [00:35<00:05, 14.75it/s]\u001b[A\n",
      " 88%|████████▊ | 526/600 [00:35<00:05, 14.73it/s]\u001b[A\n",
      " 88%|████████▊ | 528/600 [00:35<00:04, 14.74it/s]\u001b[A\n",
      " 88%|████████▊ | 530/600 [00:35<00:04, 14.74it/s]\u001b[A\n",
      " 89%|████████▊ | 532/600 [00:36<00:04, 14.73it/s]\u001b[A\n",
      " 89%|████████▉ | 534/600 [00:36<00:04, 14.72it/s]\u001b[A\n",
      " 89%|████████▉ | 536/600 [00:36<00:04, 14.73it/s]\u001b[A\n",
      " 90%|████████▉ | 538/600 [00:36<00:04, 14.73it/s]\u001b[A\n",
      " 90%|█████████ | 540/600 [00:36<00:04, 14.73it/s]\u001b[A\n",
      " 90%|█████████ | 542/600 [00:36<00:03, 14.72it/s]\u001b[A\n",
      " 91%|█████████ | 544/600 [00:36<00:03, 14.73it/s]\u001b[A\n",
      " 91%|█████████ | 546/600 [00:37<00:03, 14.72it/s]\u001b[A\n",
      " 91%|█████████▏| 548/600 [00:37<00:03, 14.72it/s]\u001b[A\n",
      " 92%|█████████▏| 550/600 [00:37<00:03, 14.71it/s]\u001b[A\n",
      " 92%|█████████▏| 552/600 [00:37<00:03, 14.71it/s]\u001b[A\n",
      " 92%|█████████▏| 554/600 [00:37<00:03, 14.72it/s]\u001b[A\n",
      " 93%|█████████▎| 556/600 [00:37<00:02, 14.71it/s]\u001b[A\n",
      " 93%|█████████▎| 558/600 [00:37<00:02, 14.72it/s]\u001b[A\n",
      " 93%|█████████▎| 560/600 [00:38<00:02, 14.71it/s]\u001b[A\n",
      " 94%|█████████▎| 562/600 [00:38<00:02, 14.72it/s]\u001b[A\n",
      " 94%|█████████▍| 564/600 [00:38<00:02, 14.72it/s]\u001b[A\n",
      " 94%|█████████▍| 566/600 [00:38<00:02, 14.72it/s]\u001b[A\n",
      " 95%|█████████▍| 568/600 [00:38<00:02, 14.72it/s]\u001b[A\n",
      " 95%|█████████▌| 570/600 [00:38<00:02, 14.71it/s]\u001b[A\n",
      " 96%|█████████▌| 573/600 [00:38<00:01, 14.73it/s]\u001b[A\n",
      " 96%|█████████▌| 575/600 [00:39<00:01, 14.73it/s]\u001b[A\n",
      " 96%|█████████▌| 577/600 [00:39<00:01, 14.72it/s]\u001b[A\n",
      " 96%|█████████▋| 579/600 [00:39<00:01, 14.72it/s]\u001b[A\n",
      " 97%|█████████▋| 581/600 [00:39<00:01, 14.72it/s]\u001b[A\n",
      " 97%|█████████▋| 583/600 [00:39<00:01, 14.72it/s]\u001b[A\n",
      " 98%|█████████▊| 585/600 [00:39<00:01, 14.73it/s]\u001b[A\n",
      " 98%|█████████▊| 587/600 [00:39<00:00, 14.73it/s]\u001b[A\n",
      " 98%|█████████▊| 589/600 [00:39<00:00, 14.73it/s]\u001b[A\n",
      " 98%|█████████▊| 591/600 [00:40<00:00, 14.73it/s]\u001b[A\n",
      " 99%|█████████▉| 593/600 [00:40<00:00, 14.72it/s]\u001b[A\n",
      " 99%|█████████▉| 595/600 [00:40<00:00, 14.73it/s]\u001b[A\n",
      "100%|█████████▉| 597/600 [00:40<00:00, 14.72it/s]\u001b[A\n",
      "100%|█████████▉| 599/600 [00:40<00:00, 14.71it/s]\u001b[A\n",
      "100%|██████████| 600/600 [00:40<00:00, 14.71it/s]\u001b[A"
     ]
    }
   ],
   "source": [
    "deep_result = dict()\n",
    "for query in tqdm(test_queries):\n",
    "    A, B = [query]*200, test_replies\n",
    "    probs = infer(A, B)\n",
    "    deep_result[query] = [(reply, score) for reply, score in zip(test_replies, probs)]"
   ]
  },
  {
   "cell_type": "code",
   "execution_count": 33,
   "metadata": {},
   "outputs": [],
   "source": [
    "import pickle"
   ]
  },
  {
   "cell_type": "code",
   "execution_count": null,
   "metadata": {},
   "outputs": [],
   "source": [
    "pickle.dump(deep_result, open(\"\"))"
   ]
  }
 ],
 "metadata": {
  "kernelspec": {
   "display_name": "angryenv",
   "language": "python",
   "name": "angryenv"
  },
  "language_info": {
   "codemirror_mode": {
    "name": "ipython",
    "version": 3
   },
   "file_extension": ".py",
   "mimetype": "text/x-python",
   "name": "python",
   "nbconvert_exporter": "python",
   "pygments_lexer": "ipython3",
   "version": "3.5.2"
  }
 },
 "nbformat": 4,
 "nbformat_minor": 2
}
